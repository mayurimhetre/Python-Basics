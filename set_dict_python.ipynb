{
 "cells": [
  {
   "cell_type": "code",
   "execution_count": 6,
   "id": "bb7405dc",
   "metadata": {},
   "outputs": [
    {
     "name": "stdout",
     "output_type": "stream",
     "text": [
      "{1, 2, 3, 4, 5}\n",
      "<class 'set'>\n",
      "[1, 2, 3, 4, 5]\n",
      "<class 'list'>\n"
     ]
    },
    {
     "data": {
      "text/plain": [
       "(None, None)"
      ]
     },
     "execution_count": 6,
     "metadata": {},
     "output_type": "execute_result"
    }
   ],
   "source": [
    "###################### set in python ################## --- it can take string tuple dict list , range and set itself\n",
    "### list a\n",
    "a = [1,2,3,4,5]\n",
    "b =set(a)\n",
    "print(b),print(type(b))\n",
    "print(a),print(type(a))"
   ]
  },
  {
   "cell_type": "code",
   "execution_count": 7,
   "id": "21847279",
   "metadata": {},
   "outputs": [
    {
     "name": "stdout",
     "output_type": "stream",
     "text": [
      "(1, 2, 3, 4)\n",
      "<class 'tuple'>\n",
      "{1, 2, 3, 4}\n",
      "<class 'set'>\n"
     ]
    },
    {
     "data": {
      "text/plain": [
       "(None, None)"
      ]
     },
     "execution_count": 7,
     "metadata": {},
     "output_type": "execute_result"
    }
   ],
   "source": [
    "a1 = (1,2,3,4) ### tuple a1\n",
    "print(a1),print(type(a1))\n",
    "b1 =set(a1)\n",
    "print(b1),print(type(b1))"
   ]
  },
  {
   "cell_type": "code",
   "execution_count": 8,
   "id": "d32fbfc4",
   "metadata": {},
   "outputs": [
    {
     "name": "stdout",
     "output_type": "stream",
     "text": [
      "mayuri mhetre\n",
      "<class 'str'>\n",
      "{'h', 'e', 'y', ' ', 'm', 't', 'r', 'u', 'a', 'i'}\n",
      "<class 'set'>\n"
     ]
    },
    {
     "data": {
      "text/plain": [
       "(None, None)"
      ]
     },
     "execution_count": 8,
     "metadata": {},
     "output_type": "execute_result"
    }
   ],
   "source": [
    "a2 = \"mayuri mhetre\"  ### m is repeated twice\n",
    "print(a2),print(type(a2))\n",
    "b2 =set(a2)\n",
    "print(b2),print(type(b2))"
   ]
  },
  {
   "cell_type": "code",
   "execution_count": 9,
   "id": "e2cae23a",
   "metadata": {},
   "outputs": [
    {
     "data": {
      "text/plain": [
       "10"
      ]
     },
     "execution_count": 9,
     "metadata": {},
     "output_type": "execute_result"
    }
   ],
   "source": [
    "len(b2)"
   ]
  },
  {
   "cell_type": "code",
   "execution_count": 10,
   "id": "aa52ab2e",
   "metadata": {},
   "outputs": [
    {
     "name": "stdout",
     "output_type": "stream",
     "text": [
      "{'name': 'mayur', 'age': 25, 'color': 'fair'}\n",
      "<class 'dict'>\n",
      "{'name', 'age', 'color'}\n",
      "<class 'set'>\n"
     ]
    },
    {
     "data": {
      "text/plain": [
       "(None, None)"
      ]
     },
     "execution_count": 10,
     "metadata": {},
     "output_type": "execute_result"
    }
   ],
   "source": [
    "dict1 = {\"name\":'mayur',\"age\":25,\"color\":'fair'}\n",
    "print(dict1),print(type(dict1))\n",
    "dict12 =set(dict1)\n",
    "print(dict12),print(type(dict12))"
   ]
  },
  {
   "cell_type": "code",
   "execution_count": 11,
   "id": "c1ffc01b",
   "metadata": {},
   "outputs": [
    {
     "data": {
      "text/plain": [
       "3"
      ]
     },
     "execution_count": 11,
     "metadata": {},
     "output_type": "execute_result"
    }
   ],
   "source": [
    "len(dict12)"
   ]
  },
  {
   "cell_type": "code",
   "execution_count": 15,
   "id": "8811440c",
   "metadata": {},
   "outputs": [
    {
     "name": "stdout",
     "output_type": "stream",
     "text": [
      "frozenset({0, 1, 2, 3, 4, 5, 6, 7, 8, 9})\n",
      "<class 'frozenset'>\n"
     ]
    },
    {
     "data": {
      "text/plain": [
       "(None, None)"
      ]
     },
     "execution_count": 15,
     "metadata": {},
     "output_type": "execute_result"
    }
   ],
   "source": [
    "frosenset1 = frozenset([i for i in range(10)])\n",
    "print(frosenset1),print(type(frosenset1))"
   ]
  },
  {
   "cell_type": "code",
   "execution_count": 17,
   "id": "3ca46286",
   "metadata": {},
   "outputs": [
    {
     "name": "stdout",
     "output_type": "stream",
     "text": [
      "frozenset({5, 6, 7, 8, 9})\n",
      "<class 'frozenset'>\n"
     ]
    },
    {
     "data": {
      "text/plain": [
       "(None, None)"
      ]
     },
     "execution_count": 17,
     "metadata": {},
     "output_type": "execute_result"
    }
   ],
   "source": [
    "frosenset2 = frozenset([i for i in range(5,10)])\n",
    "print(frosenset2),print(type(frosenset2))"
   ]
  },
  {
   "cell_type": "code",
   "execution_count": 18,
   "id": "e9d1c462",
   "metadata": {},
   "outputs": [
    {
     "name": "stdout",
     "output_type": "stream",
     "text": [
      "frozenset({0, 1, 2, 3, 4, 5, 6, 7, 8, 9})\n"
     ]
    }
   ],
   "source": [
    "print(frosenset1.union(frosenset2))"
   ]
  },
  {
   "cell_type": "code",
   "execution_count": 19,
   "id": "db3b6994",
   "metadata": {},
   "outputs": [
    {
     "name": "stdout",
     "output_type": "stream",
     "text": [
      "frozenset({0, 1, 2, 3, 4})\n"
     ]
    }
   ],
   "source": [
    "print(frosenset1.difference(frosenset2))"
   ]
  },
  {
   "cell_type": "code",
   "execution_count": 20,
   "id": "1dde4c01",
   "metadata": {},
   "outputs": [
    {
     "name": "stdout",
     "output_type": "stream",
     "text": [
      "frozenset()\n"
     ]
    }
   ],
   "source": [
    "print(frosenset2.difference(frosenset1))"
   ]
  },
  {
   "cell_type": "code",
   "execution_count": 23,
   "id": "d5b1d187",
   "metadata": {},
   "outputs": [
    {
     "name": "stdout",
     "output_type": "stream",
     "text": [
      "{45, 6}\n",
      "<class 'set'>\n",
      "{45, 6}\n",
      "<class 'set'>\n"
     ]
    },
    {
     "data": {
      "text/plain": [
       "(None, None)"
      ]
     },
     "execution_count": 23,
     "metadata": {},
     "output_type": "execute_result"
    }
   ],
   "source": [
    "set1 = set((45,45,6))\n",
    "set2 = set(set1)\n",
    "print(set1),print(type(set1))\n",
    "print(set2),print(type(set2))"
   ]
  },
  {
   "cell_type": "code",
   "execution_count": 24,
   "id": "f6e43db6",
   "metadata": {},
   "outputs": [
    {
     "name": "stdout",
     "output_type": "stream",
     "text": [
      "45\n",
      "6\n"
     ]
    }
   ],
   "source": [
    "for i in set1:          ### iterable\n",
    "    print(i)"
   ]
  },
  {
   "cell_type": "code",
   "execution_count": 48,
   "id": "4b8cc501",
   "metadata": {},
   "outputs": [
    {
     "data": {
      "text/plain": [
       "list"
      ]
     },
     "execution_count": 48,
     "metadata": {},
     "output_type": "execute_result"
    }
   ],
   "source": [
    "type(sorted(set1))                  ### it returns lists"
   ]
  },
  {
   "cell_type": "code",
   "execution_count": null,
   "id": "2fbd3165",
   "metadata": {},
   "outputs": [],
   "source": [
    "########################## dictionary #######################################################"
   ]
  },
  {
   "cell_type": "code",
   "execution_count": 26,
   "id": "97c3baec",
   "metadata": {},
   "outputs": [
    {
     "name": "stdout",
     "output_type": "stream",
     "text": [
      "{'name': 'mayur', 'age': 25, 'color': 'fair'}\n",
      "<class 'dict'>\n"
     ]
    },
    {
     "data": {
      "text/plain": [
       "(None, None)"
      ]
     },
     "execution_count": 26,
     "metadata": {},
     "output_type": "execute_result"
    }
   ],
   "source": [
    "dict1 = {\"name\":'mayur',\"age\":25,\"color\":'fair'}\n",
    "print(dict1),print(type(dict1))"
   ]
  },
  {
   "cell_type": "code",
   "execution_count": 29,
   "id": "9fea144a",
   "metadata": {},
   "outputs": [
    {
     "name": "stdout",
     "output_type": "stream",
     "text": [
      "None\n"
     ]
    }
   ],
   "source": [
    "print(dict1.get('chai'))"
   ]
  },
  {
   "cell_type": "code",
   "execution_count": 30,
   "id": "5c9bfc9e",
   "metadata": {},
   "outputs": [
    {
     "ename": "SyntaxError",
     "evalue": "invalid syntax (<ipython-input-30-55eded3ecac6>, line 1)",
     "output_type": "error",
     "traceback": [
      "\u001b[1;36m  File \u001b[1;32m\"<ipython-input-30-55eded3ecac6>\"\u001b[1;36m, line \u001b[1;32m1\u001b[0m\n\u001b[1;33m    print(dict1.['chai'])\u001b[0m\n\u001b[1;37m                ^\u001b[0m\n\u001b[1;31mSyntaxError\u001b[0m\u001b[1;31m:\u001b[0m invalid syntax\n"
     ]
    }
   ],
   "source": [
    "print(dict1.['chai'])"
   ]
  },
  {
   "cell_type": "code",
   "execution_count": 31,
   "id": "44485327",
   "metadata": {},
   "outputs": [
    {
     "data": {
      "text/plain": [
       "'mayur'"
      ]
     },
     "execution_count": 31,
     "metadata": {},
     "output_type": "execute_result"
    }
   ],
   "source": [
    "dict1.pop('name')"
   ]
  },
  {
   "cell_type": "code",
   "execution_count": 32,
   "id": "f2c4adcf",
   "metadata": {},
   "outputs": [
    {
     "name": "stdout",
     "output_type": "stream",
     "text": [
      "{'age': 25, 'color': 'fair'}\n",
      "<class 'dict'>\n"
     ]
    },
    {
     "data": {
      "text/plain": [
       "(None, None)"
      ]
     },
     "execution_count": 32,
     "metadata": {},
     "output_type": "execute_result"
    }
   ],
   "source": [
    "print(dict1),print(type(dict1))"
   ]
  },
  {
   "cell_type": "code",
   "execution_count": 33,
   "id": "9d899a8e",
   "metadata": {},
   "outputs": [],
   "source": [
    "dict1['name'] = 'mayuri'"
   ]
  },
  {
   "cell_type": "code",
   "execution_count": 34,
   "id": "7c5445f1",
   "metadata": {},
   "outputs": [
    {
     "name": "stdout",
     "output_type": "stream",
     "text": [
      "{'age': 25, 'color': 'fair', 'name': 'mayuri'}\n",
      "<class 'dict'>\n"
     ]
    },
    {
     "data": {
      "text/plain": [
       "(None, None)"
      ]
     },
     "execution_count": 34,
     "metadata": {},
     "output_type": "execute_result"
    }
   ],
   "source": [
    "print(dict1),print(type(dict1))"
   ]
  },
  {
   "cell_type": "code",
   "execution_count": 35,
   "id": "a274bf1c",
   "metadata": {},
   "outputs": [
    {
     "name": "stdout",
     "output_type": "stream",
     "text": [
      "{'age': 25, 'color': 'fair', 'name': 'mayuri'}\n",
      "<class 'dict'>\n"
     ]
    },
    {
     "data": {
      "text/plain": [
       "(None, None)"
      ]
     },
     "execution_count": 35,
     "metadata": {},
     "output_type": "execute_result"
    }
   ],
   "source": [
    "dict1['name'] = 'mayuri'\n",
    "print(dict1),print(type(dict1))"
   ]
  },
  {
   "cell_type": "code",
   "execution_count": 38,
   "id": "aff24d45",
   "metadata": {},
   "outputs": [
    {
     "name": "stdout",
     "output_type": "stream",
     "text": [
      "age\n",
      "color\n",
      "name\n"
     ]
    }
   ],
   "source": [
    "for i in dict1:\n",
    "    print(i)"
   ]
  },
  {
   "cell_type": "code",
   "execution_count": 43,
   "id": "fffaa982",
   "metadata": {},
   "outputs": [
    {
     "name": "stdout",
     "output_type": "stream",
     "text": [
      "age 25\n",
      "color fair\n",
      "name mayuri\n"
     ]
    }
   ],
   "source": [
    "for i,k in dict1.items():\n",
    "    print(i,k)"
   ]
  },
  {
   "cell_type": "code",
   "execution_count": 44,
   "id": "0b93569f",
   "metadata": {},
   "outputs": [
    {
     "data": {
      "text/plain": [
       "3"
      ]
     },
     "execution_count": 44,
     "metadata": {},
     "output_type": "execute_result"
    }
   ],
   "source": [
    "len(dict1)"
   ]
  },
  {
   "cell_type": "code",
   "execution_count": 45,
   "id": "a46b4a2a",
   "metadata": {},
   "outputs": [
    {
     "data": {
      "text/plain": [
       "['age', 'color', 'name']"
      ]
     },
     "execution_count": 45,
     "metadata": {},
     "output_type": "execute_result"
    }
   ],
   "source": [
    "sorted(dict1) ##### list of keys"
   ]
  },
  {
   "cell_type": "code",
   "execution_count": 50,
   "id": "38a3b944",
   "metadata": {},
   "outputs": [],
   "source": [
    "dict2 = {i: i**2 for i in range(1,6)}"
   ]
  },
  {
   "cell_type": "code",
   "execution_count": 51,
   "id": "913f7485",
   "metadata": {},
   "outputs": [
    {
     "data": {
      "text/plain": [
       "{1: 1, 2: 4, 3: 9, 4: 16, 5: 25}"
      ]
     },
     "execution_count": 51,
     "metadata": {},
     "output_type": "execute_result"
    }
   ],
   "source": [
    "dict2"
   ]
  },
  {
   "cell_type": "code",
   "execution_count": 52,
   "id": "46f599b8",
   "metadata": {},
   "outputs": [
    {
     "data": {
      "text/plain": [
       "5"
      ]
     },
     "execution_count": 52,
     "metadata": {},
     "output_type": "execute_result"
    }
   ],
   "source": [
    "max(dict2)"
   ]
  },
  {
   "cell_type": "code",
   "execution_count": 53,
   "id": "228484d9",
   "metadata": {},
   "outputs": [
    {
     "data": {
      "text/plain": [
       "1"
      ]
     },
     "execution_count": 53,
     "metadata": {},
     "output_type": "execute_result"
    }
   ],
   "source": [
    "min(dict2)"
   ]
  },
  {
   "cell_type": "code",
   "execution_count": 55,
   "id": "c7b12e50",
   "metadata": {},
   "outputs": [
    {
     "name": "stdout",
     "output_type": "stream",
     "text": [
      "25\n"
     ]
    }
   ],
   "source": [
    "b = dict2.get(max(dict2))\n",
    "print(b)"
   ]
  },
  {
   "cell_type": "code",
   "execution_count": 58,
   "id": "8e750661",
   "metadata": {},
   "outputs": [
    {
     "name": "stdout",
     "output_type": "stream",
     "text": [
      "1 * 1 = 1 \n",
      "2 * 2 = 4 \n",
      "3 * 3 = 9 \n",
      "4 * 4 = 16 \n",
      "5 * 5 = 25 \n"
     ]
    }
   ],
   "source": [
    "for i,k in dict2.items():\n",
    "    print(\"{} * {} = {} \".format(i,i,k))"
   ]
  },
  {
   "cell_type": "code",
   "execution_count": null,
   "id": "c881a654",
   "metadata": {},
   "outputs": [],
   "source": []
  }
 ],
 "metadata": {
  "kernelspec": {
   "display_name": "Python 3",
   "language": "python",
   "name": "python3"
  },
  "language_info": {
   "codemirror_mode": {
    "name": "ipython",
    "version": 3
   },
   "file_extension": ".py",
   "mimetype": "text/x-python",
   "name": "python",
   "nbconvert_exporter": "python",
   "pygments_lexer": "ipython3",
   "version": "3.9.5"
  }
 },
 "nbformat": 4,
 "nbformat_minor": 5
}

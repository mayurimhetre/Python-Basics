{
 "cells": [
  {
   "cell_type": "code",
   "execution_count": 13,
   "id": "eba94a20",
   "metadata": {},
   "outputs": [],
   "source": [
    "list1 = [i for i in range(10)]"
   ]
  },
  {
   "cell_type": "code",
   "execution_count": 14,
   "id": "4b43adf8",
   "metadata": {},
   "outputs": [
    {
     "data": {
      "text/plain": [
       "[0, 1, 2, 3, 4, 5, 6, 7, 8, 9]"
      ]
     },
     "execution_count": 14,
     "metadata": {},
     "output_type": "execute_result"
    }
   ],
   "source": [
    "list1"
   ]
  },
  {
   "cell_type": "code",
   "execution_count": 17,
   "id": "b9f25d64",
   "metadata": {},
   "outputs": [],
   "source": [
    "def function1(list1,w_len):\n",
    "    list2 = []\n",
    "    b = w_len\n",
    "    for i in range(len(list1)-w_len+1):\n",
    "        a = sum(list1[i:b])/w_len\n",
    "        b +=1\n",
    "        list2.append(a)\n",
    "    return list2"
   ]
  },
  {
   "cell_type": "code",
   "execution_count": 18,
   "id": "f4360ad2",
   "metadata": {},
   "outputs": [
    {
     "data": {
      "text/plain": [
       "[1.0, 2.0, 3.0, 4.0, 5.0, 6.0, 7.0, 8.0]"
      ]
     },
     "execution_count": 18,
     "metadata": {},
     "output_type": "execute_result"
    }
   ],
   "source": [
    "function1(list1,3)"
   ]
  },
  {
   "cell_type": "code",
   "execution_count": 19,
   "id": "47072466",
   "metadata": {},
   "outputs": [
    {
     "data": {
      "text/plain": [
       "8"
      ]
     },
     "execution_count": 19,
     "metadata": {},
     "output_type": "execute_result"
    }
   ],
   "source": [
    "len(function1(list1,3))"
   ]
  },
  {
   "cell_type": "code",
   "execution_count": 20,
   "id": "060697a9",
   "metadata": {},
   "outputs": [
    {
     "data": {
      "text/plain": [
       "10"
      ]
     },
     "execution_count": 20,
     "metadata": {},
     "output_type": "execute_result"
    }
   ],
   "source": [
    "len(list1)"
   ]
  },
  {
   "cell_type": "code",
   "execution_count": 21,
   "id": "0472533a",
   "metadata": {},
   "outputs": [],
   "source": [
    "list_new = function1(list1,3)"
   ]
  },
  {
   "cell_type": "code",
   "execution_count": 22,
   "id": "126913df",
   "metadata": {},
   "outputs": [
    {
     "data": {
      "text/plain": [
       "[1.0, 2.0, 3.0, 4.0, 5.0, 6.0, 7.0, 8.0]"
      ]
     },
     "execution_count": 22,
     "metadata": {},
     "output_type": "execute_result"
    }
   ],
   "source": [
    "list_new"
   ]
  },
  {
   "cell_type": "code",
   "execution_count": 39,
   "id": "1c5e86ae",
   "metadata": {},
   "outputs": [],
   "source": [
    "def mse(list1,list_new):\n",
    "    error = [(p - o) for p,o in zip(list1,list_new)]\n",
    "    e = [e**2 for e in error]\n",
    "    op = sum(e)/len(list1)\n",
    "    return op"
   ]
  },
  {
   "cell_type": "code",
   "execution_count": 40,
   "id": "934e2bd3",
   "metadata": {},
   "outputs": [
    {
     "data": {
      "text/plain": [
       "1.0"
      ]
     },
     "execution_count": 40,
     "metadata": {},
     "output_type": "execute_result"
    }
   ],
   "source": [
    "l = list1[0:8]\n",
    "mse(l,list_new)"
   ]
  },
  {
   "cell_type": "code",
   "execution_count": 33,
   "id": "0e94e652",
   "metadata": {},
   "outputs": [
    {
     "data": {
      "text/plain": [
       "8"
      ]
     },
     "execution_count": 33,
     "metadata": {},
     "output_type": "execute_result"
    }
   ],
   "source": [
    "len(list1[0:8])"
   ]
  },
  {
   "cell_type": "code",
   "execution_count": 29,
   "id": "8c606fe3",
   "metadata": {},
   "outputs": [
    {
     "data": {
      "text/plain": [
       "8"
      ]
     },
     "execution_count": 29,
     "metadata": {},
     "output_type": "execute_result"
    }
   ],
   "source": [
    "len(list_new)"
   ]
  },
  {
   "cell_type": "code",
   "execution_count": 37,
   "id": "4e6531cd",
   "metadata": {},
   "outputs": [],
   "source": [
    "error = [(p - o) for p,o in zip(list1,list_new)]\n",
    "e = [e**2 for e in error]"
   ]
  },
  {
   "cell_type": "code",
   "execution_count": 38,
   "id": "d88a4ba2",
   "metadata": {},
   "outputs": [
    {
     "data": {
      "text/plain": [
       "[1.0, 1.0, 1.0, 1.0, 1.0, 1.0, 1.0, 1.0]"
      ]
     },
     "execution_count": 38,
     "metadata": {},
     "output_type": "execute_result"
    }
   ],
   "source": [
    "e"
   ]
  },
  {
   "cell_type": "code",
   "execution_count": 43,
   "id": "626999b3",
   "metadata": {},
   "outputs": [
    {
     "name": "stdout",
     "output_type": "stream",
     "text": [
      "5\n",
      "1 2 3 4 5 6\n",
      "6\n"
     ]
    }
   ],
   "source": [
    "if __name__ == '__main__':\n",
    "    n = int(input())\n",
    "    arr = map(int, input().split())\n",
    "    \n",
    "a =0\n",
    "a1 = list(arr)\n",
    "for i in range(len(a1)):\n",
    "    \n",
    "    if i == 0:\n",
    "        a = a1[i]\n",
    "    elif i> 0:\n",
    "        if a1[i]>a:\n",
    "            a = a1[i]\n",
    "print(a)\n"
   ]
  },
  {
   "cell_type": "code",
   "execution_count": null,
   "id": "8cfb1dcc",
   "metadata": {},
   "outputs": [],
   "source": [
    "if __name__ == '__main__':\n",
    "    n = int(input())\n",
    "    student_marks = {}\n",
    "    for _ in range(n):\n",
    "        name, *line = input().split()\n",
    "        scores = list(map(float, line))\n",
    "        student_marks[name] = scores\n",
    "    query_name = input()\n",
    "    \n",
    "    \n",
    "\n",
    "\n",
    "dict1 = {}\n",
    "def function1(query_name):\n",
    "    for i,k in student_marks.items():\n",
    "        a = round((sum(k)/len(k)),2)\n",
    "        dict1[i] = a\n",
    "    \n",
    "    return \"{:.2f}\".format(dict1[query_name]) \n",
    "\n",
    "print(function1(query_name))\n",
    "    \n",
    "    "
   ]
  }
 ],
 "metadata": {
  "kernelspec": {
   "display_name": "Python 3",
   "language": "python",
   "name": "python3"
  },
  "language_info": {
   "codemirror_mode": {
    "name": "ipython",
    "version": 3
   },
   "file_extension": ".py",
   "mimetype": "text/x-python",
   "name": "python",
   "nbconvert_exporter": "python",
   "pygments_lexer": "ipython3",
   "version": "3.9.5"
  }
 },
 "nbformat": 4,
 "nbformat_minor": 5
}

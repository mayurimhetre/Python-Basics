{
 "cells": [
  {
   "cell_type": "code",
   "execution_count": 1,
   "id": "2cc6f74d",
   "metadata": {},
   "outputs": [],
   "source": [
    "list1 = [i for i in range(1,6)]"
   ]
  },
  {
   "cell_type": "code",
   "execution_count": 5,
   "id": "e7238dd7",
   "metadata": {},
   "outputs": [],
   "source": [
    "b = map(lambda x : x*2 , list1)"
   ]
  },
  {
   "cell_type": "code",
   "execution_count": 6,
   "id": "bafd7304",
   "metadata": {},
   "outputs": [
    {
     "data": {
      "text/plain": [
       "<map at 0x1db1660fd60>"
      ]
     },
     "execution_count": 6,
     "metadata": {},
     "output_type": "execute_result"
    }
   ],
   "source": [
    "b"
   ]
  },
  {
   "cell_type": "code",
   "execution_count": 7,
   "id": "eee3707e",
   "metadata": {},
   "outputs": [
    {
     "data": {
      "text/plain": [
       "[2, 4, 6, 8, 10]"
      ]
     },
     "execution_count": 7,
     "metadata": {},
     "output_type": "execute_result"
    }
   ],
   "source": [
    "list(b)"
   ]
  },
  {
   "cell_type": "code",
   "execution_count": 10,
   "id": "dfaa7736",
   "metadata": {},
   "outputs": [],
   "source": [
    "import functools\n",
    "b1 = functools.reduce(lambda x,y:x+y ,list1)"
   ]
  },
  {
   "cell_type": "code",
   "execution_count": 11,
   "id": "3f6fdeea",
   "metadata": {},
   "outputs": [
    {
     "data": {
      "text/plain": [
       "15"
      ]
     },
     "execution_count": 11,
     "metadata": {},
     "output_type": "execute_result"
    }
   ],
   "source": [
    "b1"
   ]
  },
  {
   "cell_type": "code",
   "execution_count": 12,
   "id": "54fa6327",
   "metadata": {},
   "outputs": [
    {
     "data": {
      "text/plain": [
       "15"
      ]
     },
     "execution_count": 12,
     "metadata": {},
     "output_type": "execute_result"
    }
   ],
   "source": [
    "sum(list1)"
   ]
  },
  {
   "cell_type": "code",
   "execution_count": 19,
   "id": "4745c43d",
   "metadata": {},
   "outputs": [],
   "source": [
    "y = lambda x : x if x%2 == 0 else False\n"
   ]
  },
  {
   "cell_type": "code",
   "execution_count": 20,
   "id": "bd342995",
   "metadata": {},
   "outputs": [],
   "source": [
    "b3 = filter(y,list1)"
   ]
  },
  {
   "cell_type": "code",
   "execution_count": 21,
   "id": "2e1be9ee",
   "metadata": {},
   "outputs": [
    {
     "data": {
      "text/plain": [
       "<filter at 0x1db1654e7f0>"
      ]
     },
     "execution_count": 21,
     "metadata": {},
     "output_type": "execute_result"
    }
   ],
   "source": [
    "b3"
   ]
  },
  {
   "cell_type": "code",
   "execution_count": 22,
   "id": "74f9b97d",
   "metadata": {},
   "outputs": [
    {
     "data": {
      "text/plain": [
       "[2, 4]"
      ]
     },
     "execution_count": 22,
     "metadata": {},
     "output_type": "execute_result"
    }
   ],
   "source": [
    "list(b3)"
   ]
  },
  {
   "cell_type": "code",
   "execution_count": 23,
   "id": "a266340c",
   "metadata": {},
   "outputs": [
    {
     "data": {
      "text/plain": [
       "[1, 2, 3, 4, 5]"
      ]
     },
     "execution_count": 23,
     "metadata": {},
     "output_type": "execute_result"
    }
   ],
   "source": [
    "list1"
   ]
  },
  {
   "cell_type": "code",
   "execution_count": null,
   "id": "3ec9ce51",
   "metadata": {},
   "outputs": [],
   "source": []
  }
 ],
 "metadata": {
  "kernelspec": {
   "display_name": "Python 3",
   "language": "python",
   "name": "python3"
  },
  "language_info": {
   "codemirror_mode": {
    "name": "ipython",
    "version": 3
   },
   "file_extension": ".py",
   "mimetype": "text/x-python",
   "name": "python",
   "nbconvert_exporter": "python",
   "pygments_lexer": "ipython3",
   "version": "3.9.5"
  }
 },
 "nbformat": 4,
 "nbformat_minor": 5
}

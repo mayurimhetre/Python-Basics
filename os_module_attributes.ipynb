{
 "cells": [
  {
   "cell_type": "code",
   "execution_count": 1,
   "id": "a369da6b",
   "metadata": {},
   "outputs": [],
   "source": [
    "import os"
   ]
  },
  {
   "cell_type": "code",
   "execution_count": 2,
   "id": "6fed4b96",
   "metadata": {},
   "outputs": [
    {
     "data": {
      "text/plain": [
       "'C:\\\\Users\\\\MANOJKUMAR M MHETRE\\\\AppData\\\\Local\\\\Programs\\\\Python\\\\Python39\\\\Scripts\\\\basics\\\\os_module'"
      ]
     },
     "execution_count": 2,
     "metadata": {},
     "output_type": "execute_result"
    }
   ],
   "source": [
    "os.getcwd()"
   ]
  },
  {
   "cell_type": "code",
   "execution_count": 3,
   "id": "066a332a",
   "metadata": {},
   "outputs": [
    {
     "data": {
      "text/plain": [
       "b'C:\\\\Users\\\\MANOJKUMAR M MHETRE\\\\AppData\\\\Local\\\\Programs\\\\Python\\\\Python39\\\\Scripts\\\\basics\\\\os_module'"
      ]
     },
     "execution_count": 3,
     "metadata": {},
     "output_type": "execute_result"
    }
   ],
   "source": [
    "os.getcwdb()"
   ]
  },
  {
   "cell_type": "code",
   "execution_count": 4,
   "id": "447b6089",
   "metadata": {},
   "outputs": [
    {
     "data": {
      "text/plain": [
       "['.ipynb_checkpoints', 'os_module_attributes.ipynb', 'text1.txt']"
      ]
     },
     "execution_count": 4,
     "metadata": {},
     "output_type": "execute_result"
    }
   ],
   "source": [
    "os.listdir()"
   ]
  },
  {
   "cell_type": "code",
   "execution_count": 5,
   "id": "8899fd81",
   "metadata": {},
   "outputs": [],
   "source": [
    "os.mkdir('text.txt')"
   ]
  },
  {
   "cell_type": "code",
   "execution_count": 6,
   "id": "49dd1c3c",
   "metadata": {},
   "outputs": [
    {
     "data": {
      "text/plain": [
       "['.ipynb_checkpoints', 'os_module_attributes.ipynb', 'text.txt', 'text1.txt']"
      ]
     },
     "execution_count": 6,
     "metadata": {},
     "output_type": "execute_result"
    }
   ],
   "source": [
    "os.listdir()"
   ]
  },
  {
   "cell_type": "code",
   "execution_count": 7,
   "id": "90367dd7",
   "metadata": {},
   "outputs": [],
   "source": [
    "os.rmdir('text.txt')"
   ]
  },
  {
   "cell_type": "code",
   "execution_count": 8,
   "id": "5af2f925",
   "metadata": {},
   "outputs": [
    {
     "data": {
      "text/plain": [
       "['.ipynb_checkpoints', 'os_module_attributes.ipynb', 'text1.txt']"
      ]
     },
     "execution_count": 8,
     "metadata": {},
     "output_type": "execute_result"
    }
   ],
   "source": [
    "os.listdir()"
   ]
  },
  {
   "cell_type": "code",
   "execution_count": 9,
   "id": "57bb9f40",
   "metadata": {},
   "outputs": [],
   "source": [
    "os.mkdir('text')"
   ]
  },
  {
   "cell_type": "code",
   "execution_count": 10,
   "id": "74afa5d0",
   "metadata": {},
   "outputs": [],
   "source": [
    "os.rename('text','old')"
   ]
  },
  {
   "cell_type": "code",
   "execution_count": 11,
   "id": "66a7827e",
   "metadata": {},
   "outputs": [
    {
     "data": {
      "text/plain": [
       "['.ipynb_checkpoints', 'old', 'os_module_attributes.ipynb', 'text1.txt']"
      ]
     },
     "execution_count": 11,
     "metadata": {},
     "output_type": "execute_result"
    }
   ],
   "source": [
    "os.listdir()"
   ]
  },
  {
   "cell_type": "code",
   "execution_count": 12,
   "id": "b3670ed6",
   "metadata": {},
   "outputs": [],
   "source": [
    "os.chdir('C:\\\\Users\\\\MANOJKUMAR M MHETRE\\\\AppData\\\\Local\\\\Programs\\\\Python\\\\Python39\\\\Scripts\\\\basics\\\\os_module\\\\old')"
   ]
  },
  {
   "cell_type": "code",
   "execution_count": 13,
   "id": "f75a666a",
   "metadata": {},
   "outputs": [
    {
     "data": {
      "text/plain": [
       "'C:\\\\Users\\\\MANOJKUMAR M MHETRE\\\\AppData\\\\Local\\\\Programs\\\\Python\\\\Python39\\\\Scripts\\\\basics\\\\os_module\\\\old'"
      ]
     },
     "execution_count": 13,
     "metadata": {},
     "output_type": "execute_result"
    }
   ],
   "source": [
    "os.getcwd()"
   ]
  },
  {
   "cell_type": "code",
   "execution_count": 14,
   "id": "76ef9a8a",
   "metadata": {},
   "outputs": [],
   "source": [
    "os.mkdir('text1.txt')"
   ]
  },
  {
   "cell_type": "code",
   "execution_count": 15,
   "id": "6953a5a6",
   "metadata": {},
   "outputs": [],
   "source": [
    "os.mkdir('text2.txt')"
   ]
  },
  {
   "cell_type": "code",
   "execution_count": 16,
   "id": "778349fc",
   "metadata": {},
   "outputs": [
    {
     "data": {
      "text/plain": [
       "['text1.txt', 'text2.txt']"
      ]
     },
     "execution_count": 16,
     "metadata": {},
     "output_type": "execute_result"
    }
   ],
   "source": [
    "os.listdir()"
   ]
  },
  {
   "cell_type": "code",
   "execution_count": 17,
   "id": "0f715efc",
   "metadata": {},
   "outputs": [
    {
     "ename": "FileNotFoundError",
     "evalue": "[WinError 2] The system cannot find the file specified: 'old'",
     "output_type": "error",
     "traceback": [
      "\u001b[1;31m---------------------------------------------------------------------------\u001b[0m",
      "\u001b[1;31mFileNotFoundError\u001b[0m                         Traceback (most recent call last)",
      "\u001b[1;32m<ipython-input-17-999a68cd4489>\u001b[0m in \u001b[0;36m<module>\u001b[1;34m\u001b[0m\n\u001b[1;32m----> 1\u001b[1;33m \u001b[0mos\u001b[0m\u001b[1;33m.\u001b[0m\u001b[0mrmdir\u001b[0m\u001b[1;33m(\u001b[0m\u001b[1;34m'old'\u001b[0m\u001b[1;33m)\u001b[0m\u001b[1;33m\u001b[0m\u001b[1;33m\u001b[0m\u001b[0m\n\u001b[0m",
      "\u001b[1;31mFileNotFoundError\u001b[0m: [WinError 2] The system cannot find the file specified: 'old'"
     ]
    }
   ],
   "source": [
    "os.rmdir('old')"
   ]
  },
  {
   "cell_type": "code",
   "execution_count": null,
   "id": "848ce83b",
   "metadata": {},
   "outputs": [],
   "source": [
    "os.chdir('C:\\\\Users\\\\MANOJKUMAR M MHETRE\\\\AppData\\\\Local\\\\Programs\\\\Python\\\\Python39\\\\Scripts\\\\basics\\\\os_module')"
   ]
  },
  {
   "cell_type": "code",
   "execution_count": null,
   "id": "f30f81d0",
   "metadata": {},
   "outputs": [],
   "source": [
    "os.rmdir('old')"
   ]
  },
  {
   "cell_type": "code",
   "execution_count": null,
   "id": "5d6879f4",
   "metadata": {},
   "outputs": [],
   "source": [
    "############### We have to use rmtree ###################\n",
    "import shutil\n",
    "shutil.rmtree('old')"
   ]
  },
  {
   "cell_type": "code",
   "execution_count": null,
   "id": "8721f7b0",
   "metadata": {},
   "outputs": [],
   "source": [
    "os.listdir() ######### now old directory is removed "
   ]
  },
  {
   "cell_type": "code",
   "execution_count": null,
   "id": "39254ad7",
   "metadata": {},
   "outputs": [],
   "source": [
    "os.mkdir('text1.txt')"
   ]
  },
  {
   "cell_type": "code",
   "execution_count": null,
   "id": "5062f2ec",
   "metadata": {},
   "outputs": [],
   "source": [
    "os.remove('text1.txt')"
   ]
  },
  {
   "cell_type": "code",
   "execution_count": 18,
   "id": "33dd47c6",
   "metadata": {},
   "outputs": [
    {
     "data": {
      "text/plain": [
       "['text1.txt', 'text2.txt']"
      ]
     },
     "execution_count": 18,
     "metadata": {},
     "output_type": "execute_result"
    }
   ],
   "source": [
    "os.listdir()"
   ]
  },
  {
   "cell_type": "code",
   "execution_count": 19,
   "id": "a3846365",
   "metadata": {},
   "outputs": [
    {
     "data": {
      "text/plain": [
       "'C:\\\\Users\\\\MANOJKUMAR M MHETRE\\\\AppData\\\\Local\\\\Programs\\\\Python\\\\Python39\\\\Scripts\\\\basics\\\\os_module\\\\old'"
      ]
     },
     "execution_count": 19,
     "metadata": {},
     "output_type": "execute_result"
    }
   ],
   "source": [
    "os.getcwd()"
   ]
  },
  {
   "cell_type": "code",
   "execution_count": 23,
   "id": "f9e469bd",
   "metadata": {},
   "outputs": [
    {
     "data": {
      "text/plain": [
       "['text2.txt']"
      ]
     },
     "execution_count": 23,
     "metadata": {},
     "output_type": "execute_result"
    }
   ],
   "source": [
    "os.listdir()"
   ]
  },
  {
   "cell_type": "code",
   "execution_count": 22,
   "id": "8c810b34",
   "metadata": {},
   "outputs": [],
   "source": [
    "os.rmdir('text1.txt')"
   ]
  },
  {
   "cell_type": "code",
   "execution_count": 25,
   "id": "d22122ac",
   "metadata": {},
   "outputs": [
    {
     "data": {
      "text/plain": [
       "['text2.txt']"
      ]
     },
     "execution_count": 25,
     "metadata": {},
     "output_type": "execute_result"
    }
   ],
   "source": [
    "os.listdir()"
   ]
  },
  {
   "cell_type": "code",
   "execution_count": 26,
   "id": "44bc65ef",
   "metadata": {},
   "outputs": [],
   "source": [
    "os.chdir('C:\\\\Users\\\\MANOJKUMAR M MHETRE\\\\AppData\\\\Local\\\\Programs\\\\Python\\\\Python39\\\\Scripts\\\\basics\\\\os_module')"
   ]
  },
  {
   "cell_type": "code",
   "execution_count": 27,
   "id": "d14c804e",
   "metadata": {},
   "outputs": [
    {
     "data": {
      "text/plain": [
       "['.ipynb_checkpoints',\n",
       " 'mayuri_1.txt',\n",
       " 'old',\n",
       " 'os_module_attributes.ipynb',\n",
       " 'text1.txt']"
      ]
     },
     "execution_count": 27,
     "metadata": {},
     "output_type": "execute_result"
    }
   ],
   "source": [
    "os.listdir()"
   ]
  },
  {
   "cell_type": "code",
   "execution_count": 28,
   "id": "f9c5df93",
   "metadata": {},
   "outputs": [],
   "source": [
    "os.remove('mayuri_1.txt')"
   ]
  },
  {
   "cell_type": "code",
   "execution_count": 29,
   "id": "30365761",
   "metadata": {},
   "outputs": [
    {
     "data": {
      "text/plain": [
       "['.ipynb_checkpoints', 'old', 'os_module_attributes.ipynb', 'text1.txt']"
      ]
     },
     "execution_count": 29,
     "metadata": {},
     "output_type": "execute_result"
    }
   ],
   "source": [
    "os.listdir()"
   ]
  },
  {
   "cell_type": "code",
   "execution_count": null,
   "id": "77449852",
   "metadata": {},
   "outputs": [],
   "source": []
  }
 ],
 "metadata": {
  "kernelspec": {
   "display_name": "Python 3",
   "language": "python",
   "name": "python3"
  },
  "language_info": {
   "codemirror_mode": {
    "name": "ipython",
    "version": 3
   },
   "file_extension": ".py",
   "mimetype": "text/x-python",
   "name": "python",
   "nbconvert_exporter": "python",
   "pygments_lexer": "ipython3",
   "version": "3.9.5"
  }
 },
 "nbformat": 4,
 "nbformat_minor": 5
}

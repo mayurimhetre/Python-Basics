{
 "cells": [
  {
   "cell_type": "code",
   "execution_count": 1,
   "id": "3ef3bcc9",
   "metadata": {},
   "outputs": [],
   "source": [
    "import os"
   ]
  },
  {
   "cell_type": "code",
   "execution_count": 2,
   "id": "97ace379",
   "metadata": {},
   "outputs": [
    {
     "data": {
      "text/plain": [
       "'C:\\\\Users\\\\MANOJKUMAR M MHETRE\\\\AppData\\\\Local\\\\Programs\\\\Python\\\\Python39\\\\Scripts\\\\basics\\\\os_module'"
      ]
     },
     "execution_count": 2,
     "metadata": {},
     "output_type": "execute_result"
    }
   ],
   "source": [
    "os.getcwd()"
   ]
  },
  {
   "cell_type": "code",
   "execution_count": 3,
   "id": "1c4d9ea7",
   "metadata": {},
   "outputs": [
    {
     "data": {
      "text/plain": [
       "b'C:\\\\Users\\\\MANOJKUMAR M MHETRE\\\\AppData\\\\Local\\\\Programs\\\\Python\\\\Python39\\\\Scripts\\\\basics\\\\os_module'"
      ]
     },
     "execution_count": 3,
     "metadata": {},
     "output_type": "execute_result"
    }
   ],
   "source": [
    "os.getcwdb()"
   ]
  },
  {
   "cell_type": "code",
   "execution_count": 4,
   "id": "8c4b76a9",
   "metadata": {},
   "outputs": [
    {
     "data": {
      "text/plain": [
       "['.ipynb_checkpoints', 'os_module_attributes.ipynb', 'text1.txt']"
      ]
     },
     "execution_count": 4,
     "metadata": {},
     "output_type": "execute_result"
    }
   ],
   "source": [
    "os.listdir()"
   ]
  },
  {
   "cell_type": "code",
   "execution_count": 5,
   "id": "04e9b199",
   "metadata": {},
   "outputs": [],
   "source": [
    "os.mkdir('text.txt')"
   ]
  },
  {
   "cell_type": "code",
   "execution_count": 6,
   "id": "c837d816",
   "metadata": {},
   "outputs": [
    {
     "data": {
      "text/plain": [
       "['.ipynb_checkpoints', 'os_module_attributes.ipynb', 'text.txt', 'text1.txt']"
      ]
     },
     "execution_count": 6,
     "metadata": {},
     "output_type": "execute_result"
    }
   ],
   "source": [
    "os.listdir()"
   ]
  },
  {
   "cell_type": "code",
   "execution_count": 7,
   "id": "e3160d6b",
   "metadata": {},
   "outputs": [],
   "source": [
    "os.rmdir('text.txt')"
   ]
  },
  {
   "cell_type": "code",
   "execution_count": 8,
   "id": "e98e8a0c",
   "metadata": {},
   "outputs": [
    {
     "data": {
      "text/plain": [
       "['.ipynb_checkpoints', 'os_module_attributes.ipynb', 'text1.txt']"
      ]
     },
     "execution_count": 8,
     "metadata": {},
     "output_type": "execute_result"
    }
   ],
   "source": [
    "os.listdir()"
   ]
  },
  {
   "cell_type": "code",
   "execution_count": 9,
   "id": "73f443b6",
   "metadata": {},
   "outputs": [],
   "source": [
    "os.mkdir('text')"
   ]
  },
  {
   "cell_type": "code",
   "execution_count": 10,
   "id": "a4522ef2",
   "metadata": {},
   "outputs": [],
   "source": [
    "os.rename('text','old')"
   ]
  },
  {
   "cell_type": "code",
   "execution_count": 11,
   "id": "ded0cf76",
   "metadata": {},
   "outputs": [
    {
     "data": {
      "text/plain": [
       "['.ipynb_checkpoints', 'old', 'os_module_attributes.ipynb', 'text1.txt']"
      ]
     },
     "execution_count": 11,
     "metadata": {},
     "output_type": "execute_result"
    }
   ],
   "source": [
    "os.listdir()"
   ]
  },
  {
   "cell_type": "code",
   "execution_count": 12,
   "id": "d307afcb",
   "metadata": {},
   "outputs": [],
   "source": [
    "os.chdir('C:\\\\Users\\\\MANOJKUMAR M MHETRE\\\\AppData\\\\Local\\\\Programs\\\\Python\\\\Python39\\\\Scripts\\\\basics\\\\os_module\\\\old')"
   ]
  },
  {
   "cell_type": "code",
   "execution_count": 13,
   "id": "349c9044",
   "metadata": {},
   "outputs": [
    {
     "data": {
      "text/plain": [
       "'C:\\\\Users\\\\MANOJKUMAR M MHETRE\\\\AppData\\\\Local\\\\Programs\\\\Python\\\\Python39\\\\Scripts\\\\basics\\\\os_module\\\\old'"
      ]
     },
     "execution_count": 13,
     "metadata": {},
     "output_type": "execute_result"
    }
   ],
   "source": [
    "os.getcwd()"
   ]
  },
  {
   "cell_type": "code",
   "execution_count": 14,
   "id": "c5d0591a",
   "metadata": {},
   "outputs": [],
   "source": [
    "os.mkdir('text1.txt')"
   ]
  },
  {
   "cell_type": "code",
   "execution_count": 15,
   "id": "f0ccd86f",
   "metadata": {},
   "outputs": [],
   "source": [
    "os.mkdir('text2.txt')"
   ]
  },
  {
   "cell_type": "code",
   "execution_count": 16,
   "id": "4bde5bf5",
   "metadata": {},
   "outputs": [
    {
     "data": {
      "text/plain": [
       "['text1.txt', 'text2.txt']"
      ]
     },
     "execution_count": 16,
     "metadata": {},
     "output_type": "execute_result"
    }
   ],
   "source": [
    "os.listdir()"
   ]
  },
  {
   "cell_type": "code",
   "execution_count": 17,
   "id": "b125fa3f",
   "metadata": {},
   "outputs": [
    {
     "ename": "FileNotFoundError",
     "evalue": "[WinError 2] The system cannot find the file specified: 'old'",
     "output_type": "error",
     "traceback": [
      "\u001b[1;31m---------------------------------------------------------------------------\u001b[0m",
      "\u001b[1;31mFileNotFoundError\u001b[0m                         Traceback (most recent call last)",
      "\u001b[1;32m<ipython-input-17-999a68cd4489>\u001b[0m in \u001b[0;36m<module>\u001b[1;34m\u001b[0m\n\u001b[1;32m----> 1\u001b[1;33m \u001b[0mos\u001b[0m\u001b[1;33m.\u001b[0m\u001b[0mrmdir\u001b[0m\u001b[1;33m(\u001b[0m\u001b[1;34m'old'\u001b[0m\u001b[1;33m)\u001b[0m\u001b[1;33m\u001b[0m\u001b[1;33m\u001b[0m\u001b[0m\n\u001b[0m",
      "\u001b[1;31mFileNotFoundError\u001b[0m: [WinError 2] The system cannot find the file specified: 'old'"
     ]
    }
   ],
   "source": [
    "os.rmdir('old')"
   ]
  },
  {
   "cell_type": "code",
   "execution_count": null,
   "id": "8ce60f2f",
   "metadata": {},
   "outputs": [],
   "source": [
    "os.chdir('C:\\\\Users\\\\MANOJKUMAR M MHETRE\\\\AppData\\\\Local\\\\Programs\\\\Python\\\\Python39\\\\Scripts\\\\basics\\\\os_module')"
   ]
  },
  {
   "cell_type": "code",
   "execution_count": null,
   "id": "91c8ffe1",
   "metadata": {},
   "outputs": [],
   "source": [
    "os.rmdir('old')"
   ]
  },
  {
   "cell_type": "code",
   "execution_count": null,
   "id": "5002f0da",
   "metadata": {},
   "outputs": [],
   "source": [
    "############### We have to use rmtree ###################\n",
    "import shutil\n",
    "shutil.rmtree('old')"
   ]
  },
  {
   "cell_type": "code",
   "execution_count": null,
   "id": "613437a7",
   "metadata": {},
   "outputs": [],
   "source": [
    "os.listdir() ######### now old directory is removed "
   ]
  },
  {
   "cell_type": "code",
   "execution_count": null,
   "id": "ee2008c2",
   "metadata": {},
   "outputs": [],
   "source": [
    "os.mkdir('text1.txt')"
   ]
  },
  {
   "cell_type": "code",
   "execution_count": null,
   "id": "7df3c031",
   "metadata": {},
   "outputs": [],
   "source": [
    "os.remove('text1.txt')"
   ]
  },
  {
   "cell_type": "code",
   "execution_count": 18,
   "id": "5bda43fd",
   "metadata": {},
   "outputs": [
    {
     "data": {
      "text/plain": [
       "['text1.txt', 'text2.txt']"
      ]
     },
     "execution_count": 18,
     "metadata": {},
     "output_type": "execute_result"
    }
   ],
   "source": [
    "os.listdir()"
   ]
  },
  {
   "cell_type": "code",
   "execution_count": 19,
   "id": "457e2fdb",
   "metadata": {},
   "outputs": [
    {
     "data": {
      "text/plain": [
       "'C:\\\\Users\\\\MANOJKUMAR M MHETRE\\\\AppData\\\\Local\\\\Programs\\\\Python\\\\Python39\\\\Scripts\\\\basics\\\\os_module\\\\old'"
      ]
     },
     "execution_count": 19,
     "metadata": {},
     "output_type": "execute_result"
    }
   ],
   "source": [
    "os.getcwd()"
   ]
  },
  {
   "cell_type": "code",
   "execution_count": 23,
   "id": "aca99208",
   "metadata": {},
   "outputs": [
    {
     "data": {
      "text/plain": [
       "['text2.txt']"
      ]
     },
     "execution_count": 23,
     "metadata": {},
     "output_type": "execute_result"
    }
   ],
   "source": [
    "os.listdir()"
   ]
  },
  {
   "cell_type": "code",
   "execution_count": 22,
   "id": "d3e87770",
   "metadata": {},
   "outputs": [],
   "source": [
    "os.rmdir('text1.txt')"
   ]
  },
  {
   "cell_type": "code",
   "execution_count": 25,
   "id": "30d9fac7",
   "metadata": {},
   "outputs": [
    {
     "data": {
      "text/plain": [
       "['text2.txt']"
      ]
     },
     "execution_count": 25,
     "metadata": {},
     "output_type": "execute_result"
    }
   ],
   "source": [
    "os.listdir()"
   ]
  },
  {
   "cell_type": "code",
   "execution_count": 26,
   "id": "a0a3e82b",
   "metadata": {},
   "outputs": [],
   "source": [
    "os.chdir('C:\\\\Users\\\\MANOJKUMAR M MHETRE\\\\AppData\\\\Local\\\\Programs\\\\Python\\\\Python39\\\\Scripts\\\\basics\\\\os_module')"
   ]
  },
  {
   "cell_type": "code",
   "execution_count": 27,
   "id": "c8a18754",
   "metadata": {},
   "outputs": [
    {
     "data": {
      "text/plain": [
       "['.ipynb_checkpoints',\n",
       " 'mayuri_1.txt',\n",
       " 'old',\n",
       " 'os_module_attributes.ipynb',\n",
       " 'text1.txt']"
      ]
     },
     "execution_count": 27,
     "metadata": {},
     "output_type": "execute_result"
    }
   ],
   "source": [
    "os.listdir()"
   ]
  },
  {
   "cell_type": "code",
   "execution_count": 28,
   "id": "cb107767",
   "metadata": {},
   "outputs": [],
   "source": [
    "os.remove('mayuri_1.txt')"
   ]
  },
  {
   "cell_type": "code",
   "execution_count": 30,
   "id": "ef50a714",
   "metadata": {},
   "outputs": [
    {
     "data": {
      "text/plain": [
       "['.ipynb_checkpoints',\n",
       " 'mayuri.txt',\n",
       " 'old',\n",
       " 'os_module_attributes.ipynb',\n",
       " 'text1.txt']"
      ]
     },
     "execution_count": 30,
     "metadata": {},
     "output_type": "execute_result"
    }
   ],
   "source": [
    "os.listdir()"
   ]
  },
  {
   "cell_type": "code",
   "execution_count": 50,
   "id": "7f69aca0",
   "metadata": {},
   "outputs": [
    {
     "name": "stdout",
     "output_type": "stream",
     "text": [
      "Hellomayuri2\n",
      "3\n",
      "4\n"
     ]
    }
   ],
   "source": [
    "f=os.open(\"mayuri.txt\", os.O_RDONLY)\n",
    "data=os.read(f,20)\n",
    "print (data.decode('utf-8'))"
   ]
  },
  {
   "cell_type": "code",
   "execution_count": 35,
   "id": "d3e17133",
   "metadata": {},
   "outputs": [],
   "source": [
    "os.close(f)"
   ]
  },
  {
   "cell_type": "code",
   "execution_count": 43,
   "id": "da0db08d",
   "metadata": {},
   "outputs": [],
   "source": [
    "f=os.open(\"mayuri.txt\", os.O_WRONLY)\n"
   ]
  },
  {
   "cell_type": "code",
   "execution_count": 44,
   "id": "9bd01900",
   "metadata": {},
   "outputs": [
    {
     "data": {
      "text/plain": [
       "11"
      ]
     },
     "execution_count": 44,
     "metadata": {},
     "output_type": "execute_result"
    }
   ],
   "source": [
    "data=\"Hellomayuri\".encode('utf-8')\n",
    "os.write(f,data)"
   ]
  },
  {
   "cell_type": "code",
   "execution_count": 47,
   "id": "90576b63",
   "metadata": {},
   "outputs": [],
   "source": [
    "os.close(f)"
   ]
  },
  {
   "cell_type": "code",
   "execution_count": 51,
   "id": "b1a87d39",
   "metadata": {},
   "outputs": [
    {
     "name": "stdout",
     "output_type": "stream",
     "text": [
      "Hellomayuri2\n",
      "3\n",
      "4\n"
     ]
    }
   ],
   "source": [
    "f=os.open(\"mayuri.txt\", os.O_RDONLY)\n",
    "data=os.read(f,20)\n",
    "print (data.decode('utf-8'))"
   ]
  },
  {
   "cell_type": "code",
   "execution_count": 67,
   "id": "a79a7ace",
   "metadata": {},
   "outputs": [],
   "source": [
    "f1 = open('new.txt',mode= 'r',encoding='utf-8')"
   ]
  },
  {
   "cell_type": "code",
   "execution_count": 53,
   "id": "0ea51488",
   "metadata": {},
   "outputs": [
    {
     "data": {
      "text/plain": [
       "<_io.TextIOWrapper name='new.txt' mode='r' encoding='utf-8'>"
      ]
     },
     "execution_count": 53,
     "metadata": {},
     "output_type": "execute_result"
    }
   ],
   "source": [
    "f1"
   ]
  },
  {
   "cell_type": "code",
   "execution_count": 55,
   "id": "34d91303",
   "metadata": {},
   "outputs": [
    {
     "data": {
      "text/plain": [
       "'1\\n2\\n3\\n4\\n5'"
      ]
     },
     "execution_count": 55,
     "metadata": {},
     "output_type": "execute_result"
    }
   ],
   "source": [
    "f1.read(10)"
   ]
  },
  {
   "cell_type": "code",
   "execution_count": 56,
   "id": "101cb793",
   "metadata": {},
   "outputs": [
    {
     "data": {
      "text/plain": [
       "13"
      ]
     },
     "execution_count": 56,
     "metadata": {},
     "output_type": "execute_result"
    }
   ],
   "source": [
    "f1.tell() ####### current position"
   ]
  },
  {
   "cell_type": "code",
   "execution_count": 57,
   "id": "0fea2613",
   "metadata": {},
   "outputs": [
    {
     "data": {
      "text/plain": [
       "''"
      ]
     },
     "execution_count": 57,
     "metadata": {},
     "output_type": "execute_result"
    }
   ],
   "source": [
    "f1.readline()"
   ]
  },
  {
   "cell_type": "code",
   "execution_count": 60,
   "id": "5f2c829f",
   "metadata": {},
   "outputs": [
    {
     "name": "stdout",
     "output_type": "stream",
     "text": [
      "1\n",
      "2\n",
      "3\n",
      "4\n",
      "5\n"
     ]
    }
   ],
   "source": [
    "print(f1.read())"
   ]
  },
  {
   "cell_type": "code",
   "execution_count": 69,
   "id": "699e0e77",
   "metadata": {},
   "outputs": [
    {
     "name": "stdout",
     "output_type": "stream",
     "text": [
      "3\n",
      "4\n",
      "5\n"
     ]
    }
   ],
   "source": [
    "print(f1.read(5))"
   ]
  },
  {
   "cell_type": "code",
   "execution_count": null,
   "id": "b6f1ba78",
   "metadata": {},
   "outputs": [],
   "source": []
  }
 ],
 "metadata": {
  "kernelspec": {
   "display_name": "Python 3",
   "language": "python",
   "name": "python3"
  },
  "language_info": {
   "codemirror_mode": {
    "name": "ipython",
    "version": 3
   },
   "file_extension": ".py",
   "mimetype": "text/x-python",
   "name": "python",
   "nbconvert_exporter": "python",
   "pygments_lexer": "ipython3",
   "version": "3.9.5"
  }
 },
 "nbformat": 4,
 "nbformat_minor": 5
}

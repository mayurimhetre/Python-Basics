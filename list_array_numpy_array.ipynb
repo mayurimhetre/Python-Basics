{
 "cells": [
  {
   "cell_type": "code",
   "execution_count": 1,
   "id": "59c5ecea",
   "metadata": {},
   "outputs": [],
   "source": [
    "import numpy as np"
   ]
  },
  {
   "cell_type": "code",
   "execution_count": 6,
   "id": "4e39f438",
   "metadata": {},
   "outputs": [],
   "source": [
    "asd  = np.array([5,6,1,2,3,4])"
   ]
  },
  {
   "cell_type": "code",
   "execution_count": 7,
   "id": "7d3a24f1",
   "metadata": {},
   "outputs": [
    {
     "data": {
      "text/plain": [
       "array([5, 6, 1, 2, 3, 4])"
      ]
     },
     "execution_count": 7,
     "metadata": {},
     "output_type": "execute_result"
    }
   ],
   "source": [
    "asd"
   ]
  },
  {
   "cell_type": "code",
   "execution_count": 24,
   "id": "b4c0e4ff",
   "metadata": {},
   "outputs": [],
   "source": [
    "asd.sort()"
   ]
  },
  {
   "cell_type": "code",
   "execution_count": 25,
   "id": "4557f5e4",
   "metadata": {},
   "outputs": [
    {
     "data": {
      "text/plain": [
       "array([1, 2, 3, 4, 5, 6])"
      ]
     },
     "execution_count": 25,
     "metadata": {},
     "output_type": "execute_result"
    }
   ],
   "source": [
    "asd"
   ]
  },
  {
   "cell_type": "code",
   "execution_count": 26,
   "id": "e7d7529e",
   "metadata": {},
   "outputs": [],
   "source": [
    "asdf = np.flip(asd)"
   ]
  },
  {
   "cell_type": "code",
   "execution_count": 27,
   "id": "58df51cb",
   "metadata": {},
   "outputs": [
    {
     "data": {
      "text/plain": [
       "array([6, 5, 4, 3, 2, 1])"
      ]
     },
     "execution_count": 27,
     "metadata": {},
     "output_type": "execute_result"
    }
   ],
   "source": [
    "asdf\n"
   ]
  },
  {
   "cell_type": "code",
   "execution_count": 28,
   "id": "1d9839ce",
   "metadata": {},
   "outputs": [
    {
     "data": {
      "text/plain": [
       "array([1, 2, 3, 4, 5, 6])"
      ]
     },
     "execution_count": 28,
     "metadata": {},
     "output_type": "execute_result"
    }
   ],
   "source": [
    "asd"
   ]
  },
  {
   "cell_type": "code",
   "execution_count": 30,
   "id": "f8a3cf63",
   "metadata": {},
   "outputs": [
    {
     "data": {
      "text/plain": [
       "5"
      ]
     },
     "execution_count": 30,
     "metadata": {},
     "output_type": "execute_result"
    }
   ],
   "source": [
    "np.argmax(asd)"
   ]
  },
  {
   "cell_type": "code",
   "execution_count": 31,
   "id": "be57a3f0",
   "metadata": {},
   "outputs": [
    {
     "data": {
      "text/plain": [
       "array([0, 1, 2, 3, 4, 5], dtype=int64)"
      ]
     },
     "execution_count": 31,
     "metadata": {},
     "output_type": "execute_result"
    }
   ],
   "source": [
    "np.argsort(asd)"
   ]
  },
  {
   "cell_type": "code",
   "execution_count": 32,
   "id": "a3751a9c",
   "metadata": {},
   "outputs": [
    {
     "name": "stdout",
     "output_type": "stream",
     "text": [
      "[1 2 3]\n"
     ]
    }
   ],
   "source": [
    "array1 = np.array([1,2,3])\n",
    "array2 = np.array([4,5,6])\n",
    "print(array1)"
   ]
  },
  {
   "cell_type": "code",
   "execution_count": 33,
   "id": "90ce42db",
   "metadata": {},
   "outputs": [
    {
     "name": "stdout",
     "output_type": "stream",
     "text": [
      "[4 5 6]\n"
     ]
    }
   ],
   "source": [
    "print(array2)"
   ]
  },
  {
   "cell_type": "code",
   "execution_count": 34,
   "id": "540342a8",
   "metadata": {},
   "outputs": [
    {
     "data": {
      "text/plain": [
       "array([5, 7, 9])"
      ]
     },
     "execution_count": 34,
     "metadata": {},
     "output_type": "execute_result"
    }
   ],
   "source": [
    "array1 +array2"
   ]
  },
  {
   "cell_type": "code",
   "execution_count": 35,
   "id": "02ed47f2",
   "metadata": {},
   "outputs": [],
   "source": [
    "list1 = [1,2,3]\n",
    "list2 = [4,5,6]"
   ]
  },
  {
   "cell_type": "code",
   "execution_count": 36,
   "id": "e84edfd8",
   "metadata": {},
   "outputs": [
    {
     "data": {
      "text/plain": [
       "[1, 2, 3, 4, 5, 6]"
      ]
     },
     "execution_count": 36,
     "metadata": {},
     "output_type": "execute_result"
    }
   ],
   "source": [
    "list1+list2"
   ]
  },
  {
   "cell_type": "code",
   "execution_count": 37,
   "id": "e7a1472c",
   "metadata": {},
   "outputs": [
    {
     "data": {
      "text/plain": [
       "array([1, 2, 3])"
      ]
     },
     "execution_count": 37,
     "metadata": {},
     "output_type": "execute_result"
    }
   ],
   "source": [
    "array1"
   ]
  },
  {
   "cell_type": "code",
   "execution_count": 38,
   "id": "0b7ea30a",
   "metadata": {},
   "outputs": [
    {
     "data": {
      "text/plain": [
       "array([3, 2, 1])"
      ]
     },
     "execution_count": 38,
     "metadata": {},
     "output_type": "execute_result"
    }
   ],
   "source": [
    "array1[::-1]"
   ]
  },
  {
   "cell_type": "code",
   "execution_count": 39,
   "id": "0e685733",
   "metadata": {},
   "outputs": [
    {
     "data": {
      "text/plain": [
       "[4, 5, 6]"
      ]
     },
     "execution_count": 39,
     "metadata": {},
     "output_type": "execute_result"
    }
   ],
   "source": [
    "list2"
   ]
  },
  {
   "cell_type": "code",
   "execution_count": 42,
   "id": "db649f75",
   "metadata": {},
   "outputs": [
    {
     "data": {
      "text/plain": [
       "[6, 5, 4]"
      ]
     },
     "execution_count": 42,
     "metadata": {},
     "output_type": "execute_result"
    }
   ],
   "source": [
    "list(reversed(list2))"
   ]
  },
  {
   "cell_type": "code",
   "execution_count": 43,
   "id": "8890c8f3",
   "metadata": {},
   "outputs": [],
   "source": [
    "fg  = np.array([55,11,22,44,66])"
   ]
  },
  {
   "cell_type": "code",
   "execution_count": 44,
   "id": "f3e88171",
   "metadata": {},
   "outputs": [
    {
     "data": {
      "text/plain": [
       "array([55, 11, 22, 44, 66])"
      ]
     },
     "execution_count": 44,
     "metadata": {},
     "output_type": "execute_result"
    }
   ],
   "source": [
    "fg"
   ]
  },
  {
   "cell_type": "code",
   "execution_count": 46,
   "id": "1322c817",
   "metadata": {},
   "outputs": [
    {
     "data": {
      "text/plain": [
       "array([ True,  True,  True,  True,  True])"
      ]
     },
     "execution_count": 46,
     "metadata": {},
     "output_type": "execute_result"
    }
   ],
   "source": [
    "np.flipud(fg) == fg[::-1]"
   ]
  },
  {
   "cell_type": "code",
   "execution_count": 58,
   "id": "e00d19ef",
   "metadata": {},
   "outputs": [],
   "source": [
    "fg  = np.array([[55,11,22,44,66],[5,1,2,4,6],[0,0,0,0,0]])"
   ]
  },
  {
   "cell_type": "code",
   "execution_count": 59,
   "id": "5148d2d2",
   "metadata": {},
   "outputs": [
    {
     "data": {
      "text/plain": [
       "array([[55, 11, 22, 44, 66],\n",
       "       [ 5,  1,  2,  4,  6],\n",
       "       [ 0,  0,  0,  0,  0]])"
      ]
     },
     "execution_count": 59,
     "metadata": {},
     "output_type": "execute_result"
    }
   ],
   "source": [
    "fg"
   ]
  },
  {
   "cell_type": "code",
   "execution_count": 50,
   "id": "42a4099a",
   "metadata": {},
   "outputs": [
    {
     "data": {
      "text/plain": [
       "numpy.ndarray"
      ]
     },
     "execution_count": 50,
     "metadata": {},
     "output_type": "execute_result"
    }
   ],
   "source": [
    "type(fg)"
   ]
  },
  {
   "cell_type": "code",
   "execution_count": 51,
   "id": "9c3a5273",
   "metadata": {},
   "outputs": [
    {
     "data": {
      "text/plain": [
       "(2, 5)"
      ]
     },
     "execution_count": 51,
     "metadata": {},
     "output_type": "execute_result"
    }
   ],
   "source": [
    "fg.shape"
   ]
  },
  {
   "cell_type": "code",
   "execution_count": 61,
   "id": "8a6a467e",
   "metadata": {},
   "outputs": [
    {
     "data": {
      "text/plain": [
       "array([[ 0,  0,  0,  0,  0],\n",
       "       [ 6,  4,  2,  1,  5],\n",
       "       [66, 44, 22, 11, 55]])"
      ]
     },
     "execution_count": 61,
     "metadata": {},
     "output_type": "execute_result"
    }
   ],
   "source": [
    "np.flip(fg)"
   ]
  },
  {
   "cell_type": "code",
   "execution_count": 60,
   "id": "99e12047",
   "metadata": {},
   "outputs": [
    {
     "data": {
      "text/plain": [
       "array([[ 0,  0,  0,  0,  0],\n",
       "       [ 5,  1,  2,  4,  6],\n",
       "       [55, 11, 22, 44, 66]])"
      ]
     },
     "execution_count": 60,
     "metadata": {},
     "output_type": "execute_result"
    }
   ],
   "source": [
    "np.flipud(fg)"
   ]
  },
  {
   "cell_type": "code",
   "execution_count": 62,
   "id": "80a3cb7d",
   "metadata": {},
   "outputs": [
    {
     "data": {
      "text/plain": [
       "array([[55, 11, 22, 44, 66],\n",
       "       [ 5,  1,  2,  4,  6],\n",
       "       [ 0,  0,  0,  0,  0]])"
      ]
     },
     "execution_count": 62,
     "metadata": {},
     "output_type": "execute_result"
    }
   ],
   "source": [
    "fg"
   ]
  },
  {
   "cell_type": "code",
   "execution_count": 63,
   "id": "762e034f",
   "metadata": {},
   "outputs": [
    {
     "data": {
      "text/plain": [
       "array([[ 0,  0,  0,  0,  0],\n",
       "       [ 5,  1,  2,  4,  6],\n",
       "       [55, 11, 22, 44, 66]])"
      ]
     },
     "execution_count": 63,
     "metadata": {},
     "output_type": "execute_result"
    }
   ],
   "source": [
    "fg[::-1]"
   ]
  },
  {
   "cell_type": "code",
   "execution_count": 64,
   "id": "29b81494",
   "metadata": {},
   "outputs": [],
   "source": [
    "import array"
   ]
  },
  {
   "cell_type": "code",
   "execution_count": 68,
   "id": "27a72448",
   "metadata": {},
   "outputs": [],
   "source": [
    "as1 = array.array('i',[1,2,3])"
   ]
  },
  {
   "cell_type": "code",
   "execution_count": 66,
   "id": "81a930f0",
   "metadata": {},
   "outputs": [
    {
     "name": "stdout",
     "output_type": "stream",
     "text": [
      "Original Array is : array('i', [2, 4, 6, 8, 10, 12])\n",
      "Reversed Array: array('i', [12, 10, 8, 6, 4, 2])\n"
     ]
    }
   ],
   "source": [
    "import array\n",
    " \n",
    "#The original array\n",
    "new_arr=array.array('i',[2,4,6,8,10,12])\n",
    "print(\"Original Array is :\",new_arr)\n",
    " \n",
    "#reversing using reverse()\n",
    "new_arr.reverse()\n",
    "print(\"Reversed Array:\",new_arr)"
   ]
  },
  {
   "cell_type": "code",
   "execution_count": 69,
   "id": "d5e4eb52",
   "metadata": {},
   "outputs": [
    {
     "data": {
      "text/plain": [
       "array('i', [1, 2, 3])"
      ]
     },
     "execution_count": 69,
     "metadata": {},
     "output_type": "execute_result"
    }
   ],
   "source": [
    "as1"
   ]
  },
  {
   "cell_type": "code",
   "execution_count": 70,
   "id": "b326b850",
   "metadata": {},
   "outputs": [],
   "source": [
    "as2 = array.array('i',[11,2,3])"
   ]
  },
  {
   "cell_type": "code",
   "execution_count": 71,
   "id": "2bb23c92",
   "metadata": {},
   "outputs": [
    {
     "data": {
      "text/plain": [
       "array('i', [11, 2, 3])"
      ]
     },
     "execution_count": 71,
     "metadata": {},
     "output_type": "execute_result"
    }
   ],
   "source": [
    "as2"
   ]
  },
  {
   "cell_type": "code",
   "execution_count": 72,
   "id": "a94a5101",
   "metadata": {},
   "outputs": [
    {
     "data": {
      "text/plain": [
       "array('i', [1, 2, 3, 11, 2, 3])"
      ]
     },
     "execution_count": 72,
     "metadata": {},
     "output_type": "execute_result"
    }
   ],
   "source": [
    "as1+as2"
   ]
  },
  {
   "cell_type": "code",
   "execution_count": 73,
   "id": "43557407",
   "metadata": {},
   "outputs": [
    {
     "ename": "TypeError",
     "evalue": "unsupported operand type(s) for -: 'array.array' and 'array.array'",
     "output_type": "error",
     "traceback": [
      "\u001b[1;31m---------------------------------------------------------------------------\u001b[0m",
      "\u001b[1;31mTypeError\u001b[0m                                 Traceback (most recent call last)",
      "\u001b[1;32m<ipython-input-73-9010a859592d>\u001b[0m in \u001b[0;36m<module>\u001b[1;34m\u001b[0m\n\u001b[1;32m----> 1\u001b[1;33m \u001b[0mas1\u001b[0m\u001b[1;33m-\u001b[0m\u001b[0mas2\u001b[0m\u001b[1;33m\u001b[0m\u001b[1;33m\u001b[0m\u001b[0m\n\u001b[0m",
      "\u001b[1;31mTypeError\u001b[0m: unsupported operand type(s) for -: 'array.array' and 'array.array'"
     ]
    }
   ],
   "source": [
    "as1-as2"
   ]
  },
  {
   "cell_type": "code",
   "execution_count": 74,
   "id": "9b1da9db",
   "metadata": {},
   "outputs": [
    {
     "data": {
      "text/plain": [
       "array('i', [1, 2, 3, 1, 2, 3])"
      ]
     },
     "execution_count": 74,
     "metadata": {},
     "output_type": "execute_result"
    }
   ],
   "source": [
    "as1*2"
   ]
  },
  {
   "cell_type": "code",
   "execution_count": 75,
   "id": "325ec457",
   "metadata": {},
   "outputs": [],
   "source": [
    "asd1 = 'mayuri'"
   ]
  },
  {
   "cell_type": "code",
   "execution_count": 76,
   "id": "e120f22e",
   "metadata": {},
   "outputs": [
    {
     "data": {
      "text/plain": [
       "'mayuri'"
      ]
     },
     "execution_count": 76,
     "metadata": {},
     "output_type": "execute_result"
    }
   ],
   "source": [
    "asd1"
   ]
  },
  {
   "cell_type": "code",
   "execution_count": 77,
   "id": "004d399b",
   "metadata": {},
   "outputs": [
    {
     "data": {
      "text/plain": [
       "array([ 2,  4,  6,  8, 10, 12])"
      ]
     },
     "execution_count": 77,
     "metadata": {},
     "output_type": "execute_result"
    }
   ],
   "source": [
    "asd*2"
   ]
  },
  {
   "cell_type": "code",
   "execution_count": 78,
   "id": "8de74970",
   "metadata": {},
   "outputs": [
    {
     "data": {
      "text/plain": [
       "'mayurimayuri'"
      ]
     },
     "execution_count": 78,
     "metadata": {},
     "output_type": "execute_result"
    }
   ],
   "source": [
    "asd1*2"
   ]
  },
  {
   "cell_type": "code",
   "execution_count": 79,
   "id": "614cd2c9",
   "metadata": {},
   "outputs": [
    {
     "data": {
      "text/plain": [
       "'mayurimayuri'"
      ]
     },
     "execution_count": 79,
     "metadata": {},
     "output_type": "execute_result"
    }
   ],
   "source": [
    "asd1+asd1"
   ]
  },
  {
   "cell_type": "code",
   "execution_count": null,
   "id": "42c61ba3",
   "metadata": {},
   "outputs": [],
   "source": []
  }
 ],
 "metadata": {
  "kernelspec": {
   "display_name": "Python 3",
   "language": "python",
   "name": "python3"
  },
  "language_info": {
   "codemirror_mode": {
    "name": "ipython",
    "version": 3
   },
   "file_extension": ".py",
   "mimetype": "text/x-python",
   "name": "python",
   "nbconvert_exporter": "python",
   "pygments_lexer": "ipython3",
   "version": "3.9.5"
  }
 },
 "nbformat": 4,
 "nbformat_minor": 5
}

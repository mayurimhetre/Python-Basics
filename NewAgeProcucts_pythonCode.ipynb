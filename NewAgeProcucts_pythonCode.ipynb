{
 "cells": [
  {
   "cell_type": "code",
   "execution_count": 3,
   "id": "47c08be1",
   "metadata": {},
   "outputs": [],
   "source": [
    "import numpy as np\n",
    "def function1(n):\n",
    "    a = np.array([int(input()) for i in range(n)])\n",
    "    return a"
   ]
  },
  {
   "cell_type": "code",
   "execution_count": 4,
   "id": "2269491e",
   "metadata": {},
   "outputs": [
    {
     "name": "stdout",
     "output_type": "stream",
     "text": [
      "2\n",
      "3\n",
      "-1\n",
      "1\n",
      "3\n"
     ]
    },
    {
     "data": {
      "text/plain": [
       "array([ 2,  3, -1,  1,  3])"
      ]
     },
     "execution_count": 4,
     "metadata": {},
     "output_type": "execute_result"
    }
   ],
   "source": [
    "function1(5)"
   ]
  },
  {
   "cell_type": "code",
   "execution_count": null,
   "id": "4815c73a",
   "metadata": {},
   "outputs": [],
   "source": [
    "import numpy as np\n",
    "def function1(n):\n",
    "    a = np.array([0 for i in range(n)])\n",
    "    a1 = 0\n",
    "    for i in range(len(a)):\n",
    "        a1 = int(input())\n",
    "        a[i] =a1\n",
    "    \n",
    "    for i in range(len(a)):\n",
    "        try:\n",
    "            c= a[i]\n",
    "            c1 = a[i+c]\n",
    "        except IndexError:\n",
    "            return -1\n",
    "\n",
    "\n",
    "print(function1(4))"
   ]
  },
  {
   "cell_type": "code",
   "execution_count": 22,
   "id": "c7e12ac2",
   "metadata": {},
   "outputs": [
    {
     "name": "stdout",
     "output_type": "stream",
     "text": [
      "-1000000\n",
      "2\n",
      "3\n",
      "1\n",
      "0\n",
      "0\n"
     ]
    }
   ],
   "source": [
    "import numpy as np\n",
    "def function1(n):\n",
    "    a = np.array([int(input()) for i in range(n)])\n",
    "    jump = 0\n",
    "    c,c1= 0,0\n",
    "    for i in range(len(a)):\n",
    "        try:\n",
    "            c= a[i]\n",
    "            c1 = a[i+c]\n",
    "            jump +=1\n",
    "        except IndexError:\n",
    "            return jump\n",
    "        \n",
    "    return -1\n",
    "\n",
    "\n",
    "\n",
    "print(function1(5))"
   ]
  },
  {
   "cell_type": "code",
   "execution_count": null,
   "id": "aa6b2997",
   "metadata": {},
   "outputs": [],
   "source": []
  }
 ],
 "metadata": {
  "kernelspec": {
   "display_name": "Python 3",
   "language": "python",
   "name": "python3"
  },
  "language_info": {
   "codemirror_mode": {
    "name": "ipython",
    "version": 3
   },
   "file_extension": ".py",
   "mimetype": "text/x-python",
   "name": "python",
   "nbconvert_exporter": "python",
   "pygments_lexer": "ipython3",
   "version": "3.9.5"
  }
 },
 "nbformat": 4,
 "nbformat_minor": 5
}

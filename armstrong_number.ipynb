{
 "cells": [
  {
   "cell_type": "code",
   "execution_count": 21,
   "id": "5dab2bc8",
   "metadata": {},
   "outputs": [
    {
     "name": "stdout",
     "output_type": "stream",
     "text": [
      "3\n",
      "153\n",
      "100\n",
      "20\n",
      "It is an ARMSTRONG number\n",
      "It is NOT an ARMSTRONG number\n",
      "It is NOT an ARMSTRONG number\n"
     ]
    }
   ],
   "source": [
    "n =  int(input())\n",
    "\n",
    "list1 = []\n",
    "for i in range(n):\n",
    "    a = int(input())\n",
    "    list1.append(a)\n",
    "\n",
    "c = 0\n",
    "\n",
    "for i in list1:\n",
    "    \n",
    "    temp = i\n",
    "    while temp >0:\n",
    "        b = temp%10\n",
    "        c = c + b**3\n",
    "        \n",
    "        temp = temp//10\n",
    "    \n",
    "        \n",
    "\n",
    "    if i == c:\n",
    "        print(\"It is an ARMSTRONG number\")\n",
    "    else:\n",
    "        print(\"It is NOT an ARMSTRONG number\")\n"
   ]
  },
  {
   "cell_type": "code",
   "execution_count": 24,
   "id": "6a40a3d2",
   "metadata": {},
   "outputs": [],
   "source": [
    "def armstrong1(n):\n",
    "    list1 = []\n",
    "    for i in range(n):\n",
    "        a = int(input())\n",
    "        list1.append(a)\n",
    "    c = 0\n",
    "    for i in list1:\n",
    "        temp = i\n",
    "        while temp >0:\n",
    "            b = temp%10\n",
    "            c = c + b**3\n",
    "            temp = temp//10\n",
    "            \n",
    "        if i == c:\n",
    "            print(\"It is an ARMSTRONG number\")\n",
    "        else:\n",
    "            print(\"It is NOT an ARMSTRONG number\")\n",
    "\n",
    "    "
   ]
  },
  {
   "cell_type": "code",
   "execution_count": 25,
   "id": "cc6d32fd",
   "metadata": {},
   "outputs": [
    {
     "name": "stdout",
     "output_type": "stream",
     "text": [
      "153\n",
      "200\n",
      "210\n",
      "It is an ARMSTRONG number\n",
      "It is NOT an ARMSTRONG number\n",
      "It is NOT an ARMSTRONG number\n"
     ]
    }
   ],
   "source": [
    "armstrong1(3)"
   ]
  },
  {
   "cell_type": "code",
   "execution_count": null,
   "id": "19f21be7",
   "metadata": {},
   "outputs": [],
   "source": []
  }
 ],
 "metadata": {
  "kernelspec": {
   "display_name": "Python 3",
   "language": "python",
   "name": "python3"
  },
  "language_info": {
   "codemirror_mode": {
    "name": "ipython",
    "version": 3
   },
   "file_extension": ".py",
   "mimetype": "text/x-python",
   "name": "python",
   "nbconvert_exporter": "python",
   "pygments_lexer": "ipython3",
   "version": "3.9.5"
  }
 },
 "nbformat": 4,
 "nbformat_minor": 5
}

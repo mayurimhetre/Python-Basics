{
 "cells": [
  {
   "cell_type": "code",
   "execution_count": 7,
   "id": "97206210",
   "metadata": {},
   "outputs": [],
   "source": [
    "def fact_function(n):\n",
    "    if n == 0 or n==1 :\n",
    "        return 1\n",
    "    else:\n",
    "        return n*fact_function(n-1)"
   ]
  },
  {
   "cell_type": "code",
   "execution_count": 9,
   "id": "39e2a91d",
   "metadata": {},
   "outputs": [
    {
     "data": {
      "text/plain": [
       "1"
      ]
     },
     "execution_count": 9,
     "metadata": {},
     "output_type": "execute_result"
    }
   ],
   "source": [
    "fact_function(1)"
   ]
  },
  {
   "cell_type": "code",
   "execution_count": 3,
   "id": "e98e10c8",
   "metadata": {},
   "outputs": [
    {
     "data": {
      "text/plain": [
       "120"
      ]
     },
     "execution_count": 3,
     "metadata": {},
     "output_type": "execute_result"
    }
   ],
   "source": [
    "fact_function(5)"
   ]
  },
  {
   "cell_type": "code",
   "execution_count": 10,
   "id": "47ddc591",
   "metadata": {},
   "outputs": [],
   "source": [
    "list1 = [4,5,6,10,2,0]"
   ]
  },
  {
   "cell_type": "code",
   "execution_count": 11,
   "id": "91de19aa",
   "metadata": {},
   "outputs": [],
   "source": [
    "new = []\n",
    "for i in list1:\n",
    "    new.append(fact_function(i))"
   ]
  },
  {
   "cell_type": "code",
   "execution_count": 12,
   "id": "8078d636",
   "metadata": {},
   "outputs": [
    {
     "data": {
      "text/plain": [
       "[24, 120, 720, 3628800, 2, 1]"
      ]
     },
     "execution_count": 12,
     "metadata": {},
     "output_type": "execute_result"
    }
   ],
   "source": [
    "new"
   ]
  },
  {
   "cell_type": "code",
   "execution_count": null,
   "id": "32589ecc",
   "metadata": {},
   "outputs": [],
   "source": []
  }
 ],
 "metadata": {
  "kernelspec": {
   "display_name": "Python 3",
   "language": "python",
   "name": "python3"
  },
  "language_info": {
   "codemirror_mode": {
    "name": "ipython",
    "version": 3
   },
   "file_extension": ".py",
   "mimetype": "text/x-python",
   "name": "python",
   "nbconvert_exporter": "python",
   "pygments_lexer": "ipython3",
   "version": "3.9.5"
  }
 },
 "nbformat": 4,
 "nbformat_minor": 5
}

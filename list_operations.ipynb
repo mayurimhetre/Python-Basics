{
 "cells": [
  {
   "cell_type": "code",
   "execution_count": 1,
   "id": "efa8fb58",
   "metadata": {},
   "outputs": [],
   "source": [
    "import sys"
   ]
  },
  {
   "cell_type": "code",
   "execution_count": 3,
   "id": "46b1ba29",
   "metadata": {},
   "outputs": [
    {
     "name": "stdout",
     "output_type": "stream",
     "text": [
      "3.9.5 (tags/v3.9.5:0a7dcbd, May  3 2021, 17:27:52) [MSC v.1928 64 bit (AMD64)]\n"
     ]
    }
   ],
   "source": [
    "print(sys.version)"
   ]
  },
  {
   "cell_type": "code",
   "execution_count": 5,
   "id": "f8a15d6b",
   "metadata": {},
   "outputs": [],
   "source": [
    "tuple1 = ()"
   ]
  },
  {
   "cell_type": "code",
   "execution_count": 6,
   "id": "0e340dc9",
   "metadata": {},
   "outputs": [
    {
     "data": {
      "text/plain": [
       "tuple"
      ]
     },
     "execution_count": 6,
     "metadata": {},
     "output_type": "execute_result"
    }
   ],
   "source": [
    "type(tuple1)"
   ]
  },
  {
   "cell_type": "code",
   "execution_count": 7,
   "id": "82eefc92",
   "metadata": {},
   "outputs": [],
   "source": [
    "list1 = [1,2,3,4]"
   ]
  },
  {
   "cell_type": "code",
   "execution_count": 8,
   "id": "2c943754",
   "metadata": {},
   "outputs": [],
   "source": [
    "list2 = list1"
   ]
  },
  {
   "cell_type": "code",
   "execution_count": 9,
   "id": "1d409855",
   "metadata": {},
   "outputs": [
    {
     "data": {
      "text/plain": [
       "[1, 2, 3, 4]"
      ]
     },
     "execution_count": 9,
     "metadata": {},
     "output_type": "execute_result"
    }
   ],
   "source": [
    "list2"
   ]
  },
  {
   "cell_type": "code",
   "execution_count": 10,
   "id": "80a4989a",
   "metadata": {},
   "outputs": [],
   "source": [
    "list1.append(9)"
   ]
  },
  {
   "cell_type": "code",
   "execution_count": 11,
   "id": "d5d36019",
   "metadata": {},
   "outputs": [
    {
     "data": {
      "text/plain": [
       "[1, 2, 3, 4, 9]"
      ]
     },
     "execution_count": 11,
     "metadata": {},
     "output_type": "execute_result"
    }
   ],
   "source": [
    "list1"
   ]
  },
  {
   "cell_type": "code",
   "execution_count": 12,
   "id": "32c452ee",
   "metadata": {},
   "outputs": [
    {
     "data": {
      "text/plain": [
       "[1, 2, 3, 4, 9]"
      ]
     },
     "execution_count": 12,
     "metadata": {},
     "output_type": "execute_result"
    }
   ],
   "source": [
    "list2"
   ]
  },
  {
   "cell_type": "code",
   "execution_count": 13,
   "id": "507a39d8",
   "metadata": {},
   "outputs": [
    {
     "data": {
      "text/plain": [
       "1615239813888"
      ]
     },
     "execution_count": 13,
     "metadata": {},
     "output_type": "execute_result"
    }
   ],
   "source": [
    "id(list1)"
   ]
  },
  {
   "cell_type": "code",
   "execution_count": 14,
   "id": "e8d91ebe",
   "metadata": {},
   "outputs": [
    {
     "data": {
      "text/plain": [
       "1615239813888"
      ]
     },
     "execution_count": 14,
     "metadata": {},
     "output_type": "execute_result"
    }
   ],
   "source": [
    "id(list2)"
   ]
  },
  {
   "cell_type": "code",
   "execution_count": 15,
   "id": "d5e2302b",
   "metadata": {},
   "outputs": [],
   "source": [
    "list3  = list1.copy()"
   ]
  },
  {
   "cell_type": "code",
   "execution_count": 16,
   "id": "fc0c3689",
   "metadata": {},
   "outputs": [
    {
     "data": {
      "text/plain": [
       "[1, 2, 3, 4, 9]"
      ]
     },
     "execution_count": 16,
     "metadata": {},
     "output_type": "execute_result"
    }
   ],
   "source": [
    "list3"
   ]
  },
  {
   "cell_type": "code",
   "execution_count": 17,
   "id": "a709a634",
   "metadata": {},
   "outputs": [],
   "source": [
    "list1.append(23)"
   ]
  },
  {
   "cell_type": "code",
   "execution_count": 18,
   "id": "6554dde1",
   "metadata": {},
   "outputs": [
    {
     "data": {
      "text/plain": [
       "[1, 2, 3, 4, 9, 23]"
      ]
     },
     "execution_count": 18,
     "metadata": {},
     "output_type": "execute_result"
    }
   ],
   "source": [
    "list1"
   ]
  },
  {
   "cell_type": "code",
   "execution_count": 19,
   "id": "dbd928cc",
   "metadata": {},
   "outputs": [
    {
     "data": {
      "text/plain": [
       "[1, 2, 3, 4, 9]"
      ]
     },
     "execution_count": 19,
     "metadata": {},
     "output_type": "execute_result"
    }
   ],
   "source": [
    "list3"
   ]
  },
  {
   "cell_type": "code",
   "execution_count": 20,
   "id": "51aeeddb",
   "metadata": {},
   "outputs": [],
   "source": [
    "list1[0] = 11"
   ]
  },
  {
   "cell_type": "code",
   "execution_count": 21,
   "id": "59894351",
   "metadata": {},
   "outputs": [
    {
     "data": {
      "text/plain": [
       "[11, 2, 3, 4, 9, 23]"
      ]
     },
     "execution_count": 21,
     "metadata": {},
     "output_type": "execute_result"
    }
   ],
   "source": [
    "list1"
   ]
  },
  {
   "cell_type": "code",
   "execution_count": 24,
   "id": "1b86fcf8",
   "metadata": {},
   "outputs": [
    {
     "data": {
      "text/plain": [
       "[1, 2, 3, 4, 9]"
      ]
     },
     "execution_count": 24,
     "metadata": {},
     "output_type": "execute_result"
    }
   ],
   "source": [
    "list3"
   ]
  },
  {
   "cell_type": "code",
   "execution_count": 25,
   "id": "8bf3f37a",
   "metadata": {},
   "outputs": [],
   "source": [
    "list34 = [1,2,'mayu']"
   ]
  },
  {
   "cell_type": "code",
   "execution_count": 27,
   "id": "776d7ba4",
   "metadata": {},
   "outputs": [],
   "source": [
    "import copy\n",
    "list44 = copy.deepcopy(list34)"
   ]
  },
  {
   "cell_type": "code",
   "execution_count": 28,
   "id": "8262a242",
   "metadata": {},
   "outputs": [
    {
     "data": {
      "text/plain": [
       "[1, 2, 'mayu']"
      ]
     },
     "execution_count": 28,
     "metadata": {},
     "output_type": "execute_result"
    }
   ],
   "source": [
    "list44"
   ]
  },
  {
   "cell_type": "code",
   "execution_count": 29,
   "id": "778ff9e3",
   "metadata": {},
   "outputs": [],
   "source": [
    "list34.append(99)"
   ]
  },
  {
   "cell_type": "code",
   "execution_count": 30,
   "id": "2657a382",
   "metadata": {},
   "outputs": [
    {
     "data": {
      "text/plain": [
       "[1, 2, 'mayu', 99]"
      ]
     },
     "execution_count": 30,
     "metadata": {},
     "output_type": "execute_result"
    }
   ],
   "source": [
    "list34"
   ]
  },
  {
   "cell_type": "code",
   "execution_count": 31,
   "id": "f4eb95eb",
   "metadata": {},
   "outputs": [
    {
     "data": {
      "text/plain": [
       "[1, 2, 'mayu']"
      ]
     },
     "execution_count": 31,
     "metadata": {},
     "output_type": "execute_result"
    }
   ],
   "source": [
    "list44"
   ]
  },
  {
   "cell_type": "code",
   "execution_count": 32,
   "id": "a0428e02",
   "metadata": {},
   "outputs": [],
   "source": [
    "list34[0] =0"
   ]
  },
  {
   "cell_type": "code",
   "execution_count": 33,
   "id": "535cf497",
   "metadata": {},
   "outputs": [
    {
     "data": {
      "text/plain": [
       "[0, 2, 'mayu', 99]"
      ]
     },
     "execution_count": 33,
     "metadata": {},
     "output_type": "execute_result"
    }
   ],
   "source": [
    "list34\n"
   ]
  },
  {
   "cell_type": "code",
   "execution_count": 34,
   "id": "e4fdc425",
   "metadata": {},
   "outputs": [
    {
     "data": {
      "text/plain": [
       "[1, 2, 'mayu']"
      ]
     },
     "execution_count": 34,
     "metadata": {},
     "output_type": "execute_result"
    }
   ],
   "source": [
    "list44"
   ]
  },
  {
   "cell_type": "code",
   "execution_count": 43,
   "id": "2c43a63f",
   "metadata": {},
   "outputs": [],
   "source": [
    "a = [0,34,77]\n",
    "b = a\n",
    "c = [0,34,77]"
   ]
  },
  {
   "cell_type": "code",
   "execution_count": 44,
   "id": "fd0610da",
   "metadata": {},
   "outputs": [
    {
     "data": {
      "text/plain": [
       "(1615239808256, 1615239808256, 1615239870720)"
      ]
     },
     "execution_count": 44,
     "metadata": {},
     "output_type": "execute_result"
    }
   ],
   "source": [
    "id(a),id(b),id(c)"
   ]
  },
  {
   "cell_type": "code",
   "execution_count": 45,
   "id": "b4e434e5",
   "metadata": {},
   "outputs": [
    {
     "data": {
      "text/plain": [
       "False"
      ]
     },
     "execution_count": 45,
     "metadata": {},
     "output_type": "execute_result"
    }
   ],
   "source": [
    "a is c "
   ]
  },
  {
   "cell_type": "code",
   "execution_count": 46,
   "id": "507fbea7",
   "metadata": {},
   "outputs": [
    {
     "data": {
      "text/plain": [
       "True"
      ]
     },
     "execution_count": 46,
     "metadata": {},
     "output_type": "execute_result"
    }
   ],
   "source": [
    "a is b"
   ]
  },
  {
   "cell_type": "code",
   "execution_count": 47,
   "id": "6828ea60",
   "metadata": {},
   "outputs": [
    {
     "name": "stdout",
     "output_type": "stream",
     "text": [
      "True\n"
     ]
    }
   ],
   "source": [
    "print(a == c)"
   ]
  },
  {
   "cell_type": "code",
   "execution_count": 48,
   "id": "c559055b",
   "metadata": {},
   "outputs": [
    {
     "name": "stdout",
     "output_type": "stream",
     "text": [
      "True\n"
     ]
    }
   ],
   "source": [
    "print(a ==b )"
   ]
  },
  {
   "cell_type": "code",
   "execution_count": 49,
   "id": "ab171c3a",
   "metadata": {},
   "outputs": [],
   "source": [
    "############# id of a and b is same."
   ]
  },
  {
   "cell_type": "code",
   "execution_count": 50,
   "id": "ca36adda",
   "metadata": {},
   "outputs": [
    {
     "data": {
      "text/plain": [
       "[0, 34, 77]"
      ]
     },
     "execution_count": 50,
     "metadata": {},
     "output_type": "execute_result"
    }
   ],
   "source": [
    "a"
   ]
  },
  {
   "cell_type": "code",
   "execution_count": 51,
   "id": "31fcfe9c",
   "metadata": {},
   "outputs": [],
   "source": [
    "a.reverse()"
   ]
  },
  {
   "cell_type": "code",
   "execution_count": 52,
   "id": "156726ae",
   "metadata": {},
   "outputs": [
    {
     "data": {
      "text/plain": [
       "[77, 34, 0]"
      ]
     },
     "execution_count": 52,
     "metadata": {},
     "output_type": "execute_result"
    }
   ],
   "source": [
    "a"
   ]
  },
  {
   "cell_type": "code",
   "execution_count": 53,
   "id": "a8aa57fd",
   "metadata": {},
   "outputs": [
    {
     "data": {
      "text/plain": [
       "[77, 34, 0]"
      ]
     },
     "execution_count": 53,
     "metadata": {},
     "output_type": "execute_result"
    }
   ],
   "source": [
    "b"
   ]
  },
  {
   "cell_type": "code",
   "execution_count": 54,
   "id": "53e6faca",
   "metadata": {},
   "outputs": [
    {
     "data": {
      "text/plain": [
       "[0, 34, 77]"
      ]
     },
     "execution_count": 54,
     "metadata": {},
     "output_type": "execute_result"
    }
   ],
   "source": [
    "c"
   ]
  },
  {
   "cell_type": "code",
   "execution_count": 55,
   "id": "23d8d757",
   "metadata": {},
   "outputs": [],
   "source": [
    "list1 = [i for i in range(10)]\n",
    "\n",
    "def func1(x):\n",
    "    return x+3\n",
    "\n",
    "list2 = [ i for i  in map(func1,list1)]"
   ]
  },
  {
   "cell_type": "code",
   "execution_count": 56,
   "id": "0f9c22da",
   "metadata": {},
   "outputs": [
    {
     "data": {
      "text/plain": [
       "[3, 4, 5, 6, 7, 8, 9, 10, 11, 12]"
      ]
     },
     "execution_count": 56,
     "metadata": {},
     "output_type": "execute_result"
    }
   ],
   "source": [
    "list2"
   ]
  },
  {
   "cell_type": "code",
   "execution_count": 67,
   "id": "a0a5a884",
   "metadata": {},
   "outputs": [
    {
     "name": "stdout",
     "output_type": "stream",
     "text": [
      "45\n"
     ]
    }
   ],
   "source": [
    "list1 = [i for i in range(10)]\n",
    "from  functools import reduce\n",
    "def func2(x,y):\n",
    "    return x+y\n",
    "\n",
    "print(reduce(func2,list1))"
   ]
  },
  {
   "cell_type": "code",
   "execution_count": 65,
   "id": "97d5f62e",
   "metadata": {},
   "outputs": [
    {
     "data": {
      "text/plain": [
       "[0, 1, 2, 3, 4, 5, 6, 7, 8, 9]"
      ]
     },
     "execution_count": 65,
     "metadata": {},
     "output_type": "execute_result"
    }
   ],
   "source": [
    "list1"
   ]
  },
  {
   "cell_type": "code",
   "execution_count": 69,
   "id": "13913341",
   "metadata": {},
   "outputs": [],
   "source": [
    "list11 = [i for i in range(10)]\n",
    "\n",
    "def func1(i):\n",
    "    if i%2 == 0:\n",
    "        return True\n",
    "    else:\n",
    "        return False\n",
    "\n",
    "\n",
    "list2 = [ i for i  in filter(func1,list11)]"
   ]
  },
  {
   "cell_type": "code",
   "execution_count": 70,
   "id": "c7d1e56a",
   "metadata": {},
   "outputs": [
    {
     "data": {
      "text/plain": [
       "[0, 2, 4, 6, 8]"
      ]
     },
     "execution_count": 70,
     "metadata": {},
     "output_type": "execute_result"
    }
   ],
   "source": [
    "list2"
   ]
  },
  {
   "cell_type": "code",
   "execution_count": null,
   "id": "faed9b54",
   "metadata": {},
   "outputs": [],
   "source": []
  }
 ],
 "metadata": {
  "kernelspec": {
   "display_name": "Python 3",
   "language": "python",
   "name": "python3"
  },
  "language_info": {
   "codemirror_mode": {
    "name": "ipython",
    "version": 3
   },
   "file_extension": ".py",
   "mimetype": "text/x-python",
   "name": "python",
   "nbconvert_exporter": "python",
   "pygments_lexer": "ipython3",
   "version": "3.9.5"
  }
 },
 "nbformat": 4,
 "nbformat_minor": 5
}

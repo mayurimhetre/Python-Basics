{
 "cells": [
  {
   "cell_type": "code",
   "execution_count": 1,
   "id": "0edd4100",
   "metadata": {},
   "outputs": [],
   "source": [
    "import sys"
   ]
  },
  {
   "cell_type": "code",
   "execution_count": 3,
   "id": "b56de2d9",
   "metadata": {},
   "outputs": [
    {
     "name": "stdout",
     "output_type": "stream",
     "text": [
      "3.9.5 (tags/v3.9.5:0a7dcbd, May  3 2021, 17:27:52) [MSC v.1928 64 bit (AMD64)]\n"
     ]
    }
   ],
   "source": [
    "print(sys.version)"
   ]
  },
  {
   "cell_type": "code",
   "execution_count": 5,
   "id": "d3371272",
   "metadata": {},
   "outputs": [],
   "source": [
    "tuple1 = ()"
   ]
  },
  {
   "cell_type": "code",
   "execution_count": 6,
   "id": "2081ac1c",
   "metadata": {},
   "outputs": [
    {
     "data": {
      "text/plain": [
       "tuple"
      ]
     },
     "execution_count": 6,
     "metadata": {},
     "output_type": "execute_result"
    }
   ],
   "source": [
    "type(tuple1)"
   ]
  },
  {
   "cell_type": "code",
   "execution_count": 7,
   "id": "af28395b",
   "metadata": {},
   "outputs": [],
   "source": [
    "list1 = [1,2,3,4]"
   ]
  },
  {
   "cell_type": "code",
   "execution_count": 8,
   "id": "211b9255",
   "metadata": {},
   "outputs": [],
   "source": [
    "list2 = list1"
   ]
  },
  {
   "cell_type": "code",
   "execution_count": 9,
   "id": "df934210",
   "metadata": {},
   "outputs": [
    {
     "data": {
      "text/plain": [
       "[1, 2, 3, 4]"
      ]
     },
     "execution_count": 9,
     "metadata": {},
     "output_type": "execute_result"
    }
   ],
   "source": [
    "list2"
   ]
  },
  {
   "cell_type": "code",
   "execution_count": 10,
   "id": "7439381b",
   "metadata": {},
   "outputs": [],
   "source": [
    "list1.append(9)"
   ]
  },
  {
   "cell_type": "code",
   "execution_count": 11,
   "id": "9f2157a9",
   "metadata": {},
   "outputs": [
    {
     "data": {
      "text/plain": [
       "[1, 2, 3, 4, 9]"
      ]
     },
     "execution_count": 11,
     "metadata": {},
     "output_type": "execute_result"
    }
   ],
   "source": [
    "list1"
   ]
  },
  {
   "cell_type": "code",
   "execution_count": 12,
   "id": "4a099b57",
   "metadata": {},
   "outputs": [
    {
     "data": {
      "text/plain": [
       "[1, 2, 3, 4, 9]"
      ]
     },
     "execution_count": 12,
     "metadata": {},
     "output_type": "execute_result"
    }
   ],
   "source": [
    "list2"
   ]
  },
  {
   "cell_type": "code",
   "execution_count": 13,
   "id": "f3fe7b75",
   "metadata": {},
   "outputs": [
    {
     "data": {
      "text/plain": [
       "1615239813888"
      ]
     },
     "execution_count": 13,
     "metadata": {},
     "output_type": "execute_result"
    }
   ],
   "source": [
    "id(list1)"
   ]
  },
  {
   "cell_type": "code",
   "execution_count": 14,
   "id": "b3862060",
   "metadata": {},
   "outputs": [
    {
     "data": {
      "text/plain": [
       "1615239813888"
      ]
     },
     "execution_count": 14,
     "metadata": {},
     "output_type": "execute_result"
    }
   ],
   "source": [
    "id(list2)"
   ]
  },
  {
   "cell_type": "code",
   "execution_count": 15,
   "id": "3a527480",
   "metadata": {},
   "outputs": [],
   "source": [
    "list3  = list1.copy()"
   ]
  },
  {
   "cell_type": "code",
   "execution_count": 16,
   "id": "80dd16ca",
   "metadata": {},
   "outputs": [
    {
     "data": {
      "text/plain": [
       "[1, 2, 3, 4, 9]"
      ]
     },
     "execution_count": 16,
     "metadata": {},
     "output_type": "execute_result"
    }
   ],
   "source": [
    "list3"
   ]
  },
  {
   "cell_type": "code",
   "execution_count": 17,
   "id": "fb90f1c0",
   "metadata": {},
   "outputs": [],
   "source": [
    "list1.append(23)"
   ]
  },
  {
   "cell_type": "code",
   "execution_count": 18,
   "id": "c8e2eba7",
   "metadata": {},
   "outputs": [
    {
     "data": {
      "text/plain": [
       "[1, 2, 3, 4, 9, 23]"
      ]
     },
     "execution_count": 18,
     "metadata": {},
     "output_type": "execute_result"
    }
   ],
   "source": [
    "list1"
   ]
  },
  {
   "cell_type": "code",
   "execution_count": 19,
   "id": "7339d796",
   "metadata": {},
   "outputs": [
    {
     "data": {
      "text/plain": [
       "[1, 2, 3, 4, 9]"
      ]
     },
     "execution_count": 19,
     "metadata": {},
     "output_type": "execute_result"
    }
   ],
   "source": [
    "list3"
   ]
  },
  {
   "cell_type": "code",
   "execution_count": 20,
   "id": "9804c369",
   "metadata": {},
   "outputs": [],
   "source": [
    "list1[0] = 11"
   ]
  },
  {
   "cell_type": "code",
   "execution_count": 21,
   "id": "dca34a7c",
   "metadata": {},
   "outputs": [
    {
     "data": {
      "text/plain": [
       "[11, 2, 3, 4, 9, 23]"
      ]
     },
     "execution_count": 21,
     "metadata": {},
     "output_type": "execute_result"
    }
   ],
   "source": [
    "list1"
   ]
  },
  {
   "cell_type": "code",
   "execution_count": 24,
   "id": "90668e99",
   "metadata": {},
   "outputs": [
    {
     "data": {
      "text/plain": [
       "[1, 2, 3, 4, 9]"
      ]
     },
     "execution_count": 24,
     "metadata": {},
     "output_type": "execute_result"
    }
   ],
   "source": [
    "list3"
   ]
  },
  {
   "cell_type": "code",
   "execution_count": 25,
   "id": "d835035d",
   "metadata": {},
   "outputs": [],
   "source": [
    "list34 = [1,2,'mayu']"
   ]
  },
  {
   "cell_type": "code",
   "execution_count": 27,
   "id": "f92324aa",
   "metadata": {},
   "outputs": [],
   "source": [
    "import copy\n",
    "list44 = copy.deepcopy(list34)"
   ]
  },
  {
   "cell_type": "code",
   "execution_count": 28,
   "id": "2b884bac",
   "metadata": {},
   "outputs": [
    {
     "data": {
      "text/plain": [
       "[1, 2, 'mayu']"
      ]
     },
     "execution_count": 28,
     "metadata": {},
     "output_type": "execute_result"
    }
   ],
   "source": [
    "list44"
   ]
  },
  {
   "cell_type": "code",
   "execution_count": 29,
   "id": "56f54e9c",
   "metadata": {},
   "outputs": [],
   "source": [
    "list34.append(99)"
   ]
  },
  {
   "cell_type": "code",
   "execution_count": 30,
   "id": "b6b390fc",
   "metadata": {},
   "outputs": [
    {
     "data": {
      "text/plain": [
       "[1, 2, 'mayu', 99]"
      ]
     },
     "execution_count": 30,
     "metadata": {},
     "output_type": "execute_result"
    }
   ],
   "source": [
    "list34"
   ]
  },
  {
   "cell_type": "code",
   "execution_count": 31,
   "id": "f19d4228",
   "metadata": {},
   "outputs": [
    {
     "data": {
      "text/plain": [
       "[1, 2, 'mayu']"
      ]
     },
     "execution_count": 31,
     "metadata": {},
     "output_type": "execute_result"
    }
   ],
   "source": [
    "list44"
   ]
  },
  {
   "cell_type": "code",
   "execution_count": 32,
   "id": "e05155db",
   "metadata": {},
   "outputs": [],
   "source": [
    "list34[0] =0"
   ]
  },
  {
   "cell_type": "code",
   "execution_count": 33,
   "id": "22508869",
   "metadata": {},
   "outputs": [
    {
     "data": {
      "text/plain": [
       "[0, 2, 'mayu', 99]"
      ]
     },
     "execution_count": 33,
     "metadata": {},
     "output_type": "execute_result"
    }
   ],
   "source": [
    "list34\n"
   ]
  },
  {
   "cell_type": "code",
   "execution_count": 34,
   "id": "d1ca5f9a",
   "metadata": {},
   "outputs": [
    {
     "data": {
      "text/plain": [
       "[1, 2, 'mayu']"
      ]
     },
     "execution_count": 34,
     "metadata": {},
     "output_type": "execute_result"
    }
   ],
   "source": [
    "list44"
   ]
  },
  {
   "cell_type": "code",
   "execution_count": 43,
   "id": "d91120de",
   "metadata": {},
   "outputs": [],
   "source": [
    "a = [0,34,77]\n",
    "b = a\n",
    "c = [0,34,77]"
   ]
  },
  {
   "cell_type": "code",
   "execution_count": 44,
   "id": "68339556",
   "metadata": {},
   "outputs": [
    {
     "data": {
      "text/plain": [
       "(1615239808256, 1615239808256, 1615239870720)"
      ]
     },
     "execution_count": 44,
     "metadata": {},
     "output_type": "execute_result"
    }
   ],
   "source": [
    "id(a),id(b),id(c)"
   ]
  },
  {
   "cell_type": "code",
   "execution_count": 45,
   "id": "eecd178a",
   "metadata": {},
   "outputs": [
    {
     "data": {
      "text/plain": [
       "False"
      ]
     },
     "execution_count": 45,
     "metadata": {},
     "output_type": "execute_result"
    }
   ],
   "source": [
    "a is c "
   ]
  },
  {
   "cell_type": "code",
   "execution_count": 46,
   "id": "4f6b3b23",
   "metadata": {},
   "outputs": [
    {
     "data": {
      "text/plain": [
       "True"
      ]
     },
     "execution_count": 46,
     "metadata": {},
     "output_type": "execute_result"
    }
   ],
   "source": [
    "a is b"
   ]
  },
  {
   "cell_type": "code",
   "execution_count": 47,
   "id": "5b60b1fc",
   "metadata": {},
   "outputs": [
    {
     "name": "stdout",
     "output_type": "stream",
     "text": [
      "True\n"
     ]
    }
   ],
   "source": [
    "print(a == c)"
   ]
  },
  {
   "cell_type": "code",
   "execution_count": 48,
   "id": "22b3d5f4",
   "metadata": {},
   "outputs": [
    {
     "name": "stdout",
     "output_type": "stream",
     "text": [
      "True\n"
     ]
    }
   ],
   "source": [
    "print(a ==b )"
   ]
  },
  {
   "cell_type": "code",
   "execution_count": 49,
   "id": "4651a75e",
   "metadata": {},
   "outputs": [],
   "source": [
    "############# id of a and b is same."
   ]
  },
  {
   "cell_type": "code",
   "execution_count": 50,
   "id": "8560f581",
   "metadata": {},
   "outputs": [
    {
     "data": {
      "text/plain": [
       "[0, 34, 77]"
      ]
     },
     "execution_count": 50,
     "metadata": {},
     "output_type": "execute_result"
    }
   ],
   "source": [
    "a"
   ]
  },
  {
   "cell_type": "code",
   "execution_count": 51,
   "id": "c06380ba",
   "metadata": {},
   "outputs": [],
   "source": [
    "a.reverse()"
   ]
  },
  {
   "cell_type": "code",
   "execution_count": 52,
   "id": "96cef09c",
   "metadata": {},
   "outputs": [
    {
     "data": {
      "text/plain": [
       "[77, 34, 0]"
      ]
     },
     "execution_count": 52,
     "metadata": {},
     "output_type": "execute_result"
    }
   ],
   "source": [
    "a"
   ]
  },
  {
   "cell_type": "code",
   "execution_count": 53,
   "id": "044ccb39",
   "metadata": {},
   "outputs": [
    {
     "data": {
      "text/plain": [
       "[77, 34, 0]"
      ]
     },
     "execution_count": 53,
     "metadata": {},
     "output_type": "execute_result"
    }
   ],
   "source": [
    "b"
   ]
  },
  {
   "cell_type": "code",
   "execution_count": 54,
   "id": "5ab77ee9",
   "metadata": {},
   "outputs": [
    {
     "data": {
      "text/plain": [
       "[0, 34, 77]"
      ]
     },
     "execution_count": 54,
     "metadata": {},
     "output_type": "execute_result"
    }
   ],
   "source": [
    "c"
   ]
  },
  {
   "cell_type": "code",
   "execution_count": null,
   "id": "a3dc8569",
   "metadata": {},
   "outputs": [],
   "source": []
  }
 ],
 "metadata": {
  "kernelspec": {
   "display_name": "Python 3",
   "language": "python",
   "name": "python3"
  },
  "language_info": {
   "codemirror_mode": {
    "name": "ipython",
    "version": 3
   },
   "file_extension": ".py",
   "mimetype": "text/x-python",
   "name": "python",
   "nbconvert_exporter": "python",
   "pygments_lexer": "ipython3",
   "version": "3.9.5"
  }
 },
 "nbformat": 4,
 "nbformat_minor": 5
}

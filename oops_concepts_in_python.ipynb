{
 "cells": [
  {
   "cell_type": "code",
   "execution_count": 1,
   "id": "98d9d179",
   "metadata": {},
   "outputs": [],
   "source": [
    "class Mayuri:\n",
    "    \"hello mayuri , let us start with OOP\"\n",
    "    age = 26\n",
    "    name = 'Mayuri'\n",
    "    \n",
    "    def greet(self):\n",
    "        print('welcome {}'.format(self.name))\n",
    "    def info(self,name,age):\n",
    "        self.name = name \n",
    "        self.age = age\n",
    "        print(\"{} is {} years old\".format(self.name,self.age))"
   ]
  },
  {
   "cell_type": "code",
   "execution_count": 2,
   "id": "e8b7f027",
   "metadata": {},
   "outputs": [],
   "source": [
    "obj = Mayuri()"
   ]
  },
  {
   "cell_type": "code",
   "execution_count": 3,
   "id": "73a0669f",
   "metadata": {},
   "outputs": [
    {
     "name": "stdout",
     "output_type": "stream",
     "text": [
      "hello mayuri , let us start with OOP\n"
     ]
    }
   ],
   "source": [
    "print(obj.__doc__)"
   ]
  },
  {
   "cell_type": "code",
   "execution_count": 4,
   "id": "88a950ef",
   "metadata": {},
   "outputs": [
    {
     "name": "stdout",
     "output_type": "stream",
     "text": [
      "hello mayuri , let us start with OOP\n"
     ]
    }
   ],
   "source": [
    "print(Mayuri.__doc__) ############# displays the doc string"
   ]
  },
  {
   "cell_type": "code",
   "execution_count": 5,
   "id": "e9f4b1a0",
   "metadata": {},
   "outputs": [
    {
     "name": "stdout",
     "output_type": "stream",
     "text": [
      "welcome Mayuri\n"
     ]
    }
   ],
   "source": [
    "obj.greet()"
   ]
  },
  {
   "cell_type": "code",
   "execution_count": 6,
   "id": "0bb7fab6",
   "metadata": {},
   "outputs": [
    {
     "name": "stdout",
     "output_type": "stream",
     "text": [
      "chaitantya is 25 years old\n"
     ]
    }
   ],
   "source": [
    "obj.info('chaitantya',25)"
   ]
  },
  {
   "cell_type": "markdown",
   "id": "4994eb84",
   "metadata": {},
   "source": [
    "####################### Inheritance ###############################"
   ]
  },
  {
   "cell_type": "code",
   "execution_count": 13,
   "id": "2fc2a9f0",
   "metadata": {},
   "outputs": [],
   "source": [
    "class Base1:\n",
    "\n",
    "    def __init__(self):\n",
    "        print(\"This is my Base1 class\")\n",
    "    def age(self,age):\n",
    "        self.age = age\n",
    "        print(\"Age of the person (Base1) is {}\".format(self.age))\n",
    "   \n",
    "class Base2:\n",
    "    def __init__(self):\n",
    "        print(\"This is my Base2 class\")\n",
    "    def age(self,age):\n",
    "        self.age = age\n",
    "        print(\"Age of the person (Base2) is {}\".format(self.age))\n",
    "class child(Base1,Base2):\n",
    "    \"Welcome to child class which id derived from Base1 and Base2\"\n",
    "    def __init__(self):\n",
    "        \n",
    "        Base1.__init__(self)\n",
    "        Base2.__init__(self)\n",
    "        print(\"This is my child class\")\n",
    "    def age(self,age):\n",
    "        self.age =age\n",
    "        print(\"Age of the person (child) is {}\".format(self.age))\n",
    "    "
   ]
  },
  {
   "cell_type": "code",
   "execution_count": 8,
   "id": "11725210",
   "metadata": {},
   "outputs": [
    {
     "name": "stdout",
     "output_type": "stream",
     "text": [
      "This is my Base1 class\n"
     ]
    }
   ],
   "source": [
    "obj1 = Base1()"
   ]
  },
  {
   "cell_type": "code",
   "execution_count": 9,
   "id": "30aefd22",
   "metadata": {},
   "outputs": [
    {
     "name": "stdout",
     "output_type": "stream",
     "text": [
      "This is my Base2 class\n"
     ]
    }
   ],
   "source": [
    "obj2  = Base2()"
   ]
  },
  {
   "cell_type": "code",
   "execution_count": 14,
   "id": "b957752a",
   "metadata": {},
   "outputs": [
    {
     "name": "stdout",
     "output_type": "stream",
     "text": [
      "This is my Base1 class\n",
      "This is my Base2 class\n",
      "This is my child class\n"
     ]
    }
   ],
   "source": [
    "obj3 = child()"
   ]
  },
  {
   "cell_type": "code",
   "execution_count": 15,
   "id": "4c75e941",
   "metadata": {},
   "outputs": [
    {
     "name": "stdout",
     "output_type": "stream",
     "text": [
      "Age of the person (child) is 23\n"
     ]
    }
   ],
   "source": [
    "obj3.age(23)"
   ]
  },
  {
   "cell_type": "code",
   "execution_count": 16,
   "id": "d6405645",
   "metadata": {},
   "outputs": [
    {
     "name": "stdout",
     "output_type": "stream",
     "text": [
      "Age of the person (Base2) is 90\n"
     ]
    }
   ],
   "source": [
    "obj2.age(90)"
   ]
  },
  {
   "cell_type": "code",
   "execution_count": 17,
   "id": "df01a598",
   "metadata": {},
   "outputs": [],
   "source": [
    "################## Example1 #######################\n",
    "\n",
    "class Student:\n",
    "    def __init__(self,fname,lname,roll_no):\n",
    "        self.fname = fname\n",
    "        self.lname = lname\n",
    "        self.roll_no = roll_no\n",
    "        print(\"Roll no of student {}: {} {}\".format(self.roll_no,self.fname,self.lname))\n",
    "    def printnames(self):\n",
    "        print(\"Roll no {}: {} {}\".format(self.roll_no,self.fname,self.lname))"
   ]
  },
  {
   "cell_type": "code",
   "execution_count": 18,
   "id": "045d8782",
   "metadata": {},
   "outputs": [
    {
     "name": "stdout",
     "output_type": "stream",
     "text": [
      "Roll no of student 301237: mayu mhetre\n"
     ]
    }
   ],
   "source": [
    "obj1 = Student('mayu','mhetre',301237)"
   ]
  },
  {
   "cell_type": "code",
   "execution_count": 19,
   "id": "c3cebe39",
   "metadata": {},
   "outputs": [
    {
     "name": "stdout",
     "output_type": "stream",
     "text": [
      "Roll no 301237: mayu mhetre\n"
     ]
    }
   ],
   "source": [
    "obj1.printnames()"
   ]
  },
  {
   "cell_type": "code",
   "execution_count": 20,
   "id": "c4f6aa62",
   "metadata": {},
   "outputs": [],
   "source": [
    "class child1(Student):\n",
    "    pass"
   ]
  },
  {
   "cell_type": "code",
   "execution_count": 21,
   "id": "593b6d8d",
   "metadata": {},
   "outputs": [
    {
     "name": "stdout",
     "output_type": "stream",
     "text": [
      "Roll no of student 401225: Chai Mhetre\n"
     ]
    }
   ],
   "source": [
    "ch1 = child1('Chai','Mhetre',401225)"
   ]
  },
  {
   "cell_type": "code",
   "execution_count": 22,
   "id": "15196352",
   "metadata": {},
   "outputs": [
    {
     "name": "stdout",
     "output_type": "stream",
     "text": [
      "Roll no 401225: Chai Mhetre\n"
     ]
    }
   ],
   "source": [
    "ch1.printnames()"
   ]
  },
  {
   "cell_type": "code",
   "execution_count": null,
   "id": "c698fa44",
   "metadata": {},
   "outputs": [],
   "source": [
    "################### properties of parent class are used by child class"
   ]
  },
  {
   "cell_type": "code",
   "execution_count": 23,
   "id": "5bb940f5",
   "metadata": {},
   "outputs": [],
   "source": [
    "class child1(Student):\n",
    "    def __init__(self,fname,lname,roll_no,grad_year):\n",
    "        self.fname = fname\n",
    "        self.lname = lname\n",
    "        self.roll_no = roll_no\n",
    "        self.grad_year = grad_year\n",
    "        super().__init__(self.fname,self.lname,self.roll_no) ######### this calls parent class student -- self not required\n",
    "        print(\"Roll No: {} {} {} graduated in {}\".format(self.roll_no,self.fname,self.lname,self.grad_year))"
   ]
  },
  {
   "cell_type": "code",
   "execution_count": 24,
   "id": "c52cedab",
   "metadata": {},
   "outputs": [
    {
     "name": "stdout",
     "output_type": "stream",
     "text": [
      "Roll no of student 451235: mayu mhetre1\n",
      "Roll No: 451235 mayu mhetre1 graduated in 2016\n"
     ]
    }
   ],
   "source": [
    "ch2 = child1('mayu','mhetre1',451235,2016)"
   ]
  },
  {
   "cell_type": "code",
   "execution_count": 25,
   "id": "99b4f3fe",
   "metadata": {},
   "outputs": [],
   "source": [
    "class child2(Student):\n",
    "    def __init__(self,fname,lname,roll_no,place):\n",
    "        self.fname = fname\n",
    "        self.lname = lname\n",
    "        self.roll_no = roll_no\n",
    "        self.place = place\n",
    "        Student.__init__(self,self.fname,self.lname,self.roll_no) ######### this calls the parent class student --self is required\n",
    "        print(\"Roll No: {} {} {} lives in country - {}\".format(self.roll_no,self.fname,self.lname,self.place))"
   ]
  },
  {
   "cell_type": "code",
   "execution_count": 26,
   "id": "285eb22e",
   "metadata": {},
   "outputs": [
    {
     "name": "stdout",
     "output_type": "stream",
     "text": [
      "Roll no of student 123456: abc vvv\n",
      "Roll No: 123456 abc vvv lives in country - USA\n"
     ]
    }
   ],
   "source": [
    "ch3 = child2('abc','vvv',123456,'USA')"
   ]
  },
  {
   "cell_type": "code",
   "execution_count": 27,
   "id": "211c02a6",
   "metadata": {},
   "outputs": [
    {
     "name": "stdout",
     "output_type": "stream",
     "text": [
      "Roll no 123456: abc vvv\n"
     ]
    }
   ],
   "source": [
    "ch3.printnames() ############ calling the property of base class"
   ]
  },
  {
   "cell_type": "code",
   "execution_count": 28,
   "id": "8a598efb",
   "metadata": {},
   "outputs": [
    {
     "name": "stdout",
     "output_type": "stream",
     "text": [
      "Roll no 451235: mayu mhetre1\n"
     ]
    }
   ],
   "source": [
    "ch2.printnames()"
   ]
  },
  {
   "cell_type": "markdown",
   "id": "e20e8914",
   "metadata": {},
   "source": [
    "####################### Encapsulation ###############################"
   ]
  },
  {
   "cell_type": "code",
   "execution_count": 29,
   "id": "a0be24dd",
   "metadata": {},
   "outputs": [],
   "source": [
    "class Employer:\n",
    "    \"This is Employer Class - TCS\"\n",
    "    def __init__(self,empname):\n",
    "        self.empname = empname\n",
    "        self.__salary = 15000\n",
    "        print(\"{} has basic salary {}\".format(self.empname,self.__salary))\n",
    "        \n",
    "class Emp1(Employer):\n",
    "    \"This is child class - Emp1\"\n",
    "    def __init__(self,empname,hike,year):\n",
    "        self.empname = empname\n",
    "        Employer.__init__(self,self.empname)\n",
    "        self.hike = hike\n",
    "        self.year = year\n",
    "        self.increased = self._Employer__salary + self.hike\n",
    "        \n",
    "    def printemp(self):\n",
    "        print(\"{} has increased salary {} in {}\".format(self.empname,self.increased,self.year))"
   ]
  },
  {
   "cell_type": "code",
   "execution_count": 30,
   "id": "257520f6",
   "metadata": {},
   "outputs": [
    {
     "name": "stdout",
     "output_type": "stream",
     "text": [
      "Mayur Mhetre has basic salary 15000\n"
     ]
    }
   ],
   "source": [
    "emp1 = Emp1('Mayur Mhetre',25000,2021)"
   ]
  },
  {
   "cell_type": "code",
   "execution_count": 31,
   "id": "a095e94d",
   "metadata": {},
   "outputs": [
    {
     "name": "stdout",
     "output_type": "stream",
     "text": [
      "Mayur Mhetre has increased salary 40000 in 2021\n"
     ]
    }
   ],
   "source": [
    "emp1.printemp() ###### added 15k plus 25k"
   ]
  },
  {
   "cell_type": "code",
   "execution_count": 32,
   "id": "2ba9237f",
   "metadata": {},
   "outputs": [
    {
     "data": {
      "text/plain": [
       "'This is child class - Emp1'"
      ]
     },
     "execution_count": 32,
     "metadata": {},
     "output_type": "execute_result"
    }
   ],
   "source": [
    "emp1.__doc__"
   ]
  },
  {
   "cell_type": "code",
   "execution_count": 33,
   "id": "7be07d5a",
   "metadata": {},
   "outputs": [
    {
     "data": {
      "text/plain": [
       "'This is Employer Class - TCS'"
      ]
     },
     "execution_count": 33,
     "metadata": {},
     "output_type": "execute_result"
    }
   ],
   "source": [
    "Employer.__doc__"
   ]
  },
  {
   "cell_type": "markdown",
   "id": "60b4a333",
   "metadata": {},
   "source": [
    "################## Polymorphism ####################################"
   ]
  },
  {
   "cell_type": "code",
   "execution_count": 34,
   "id": "cad8e6f3",
   "metadata": {},
   "outputs": [
    {
     "name": "stdout",
     "output_type": "stream",
     "text": [
      "this is a dog -mato\n",
      "dogs cannot fly\n",
      "bark bark !!!!!!\n",
      "this is a cat -maaauuu\n",
      "cats cannot fly\n",
      "meow meow !!!!!!\n"
     ]
    }
   ],
   "source": [
    "class Dog:\n",
    "    def __init__(self,name):\n",
    "        self.name =name\n",
    "        print(\"this is a dog -{}\".format(self.name))\n",
    "    def fly(self):\n",
    "        print(\"dogs cannot fly\")\n",
    "    def make_sound(self):\n",
    "        print(\"bark bark !!!!!!\")\n",
    "class Cat:\n",
    "    def __init__(self,name):\n",
    "        self.name = name\n",
    "        print(\"this is a cat -{}\".format(self.name))\n",
    "    def fly(self):\n",
    "        print(\"cats cannot fly\")\n",
    "    def make_sound(self):\n",
    "        print(\"meow meow !!!!!!\")\n",
    "########### tow different classes having same method names: fly, make_sound\n",
    "\n",
    "a = Dog('mato')\n",
    "a.fly()\n",
    "a.make_sound()\n",
    "b = Cat('maaauuu')\n",
    "b.fly()\n",
    "b.make_sound()"
   ]
  },
  {
   "cell_type": "markdown",
   "id": "22e119b3",
   "metadata": {},
   "source": [
    "##################### Method overriding ###########################3"
   ]
  },
  {
   "cell_type": "code",
   "execution_count": 35,
   "id": "38f3e8db",
   "metadata": {},
   "outputs": [
    {
     "name": "stdout",
     "output_type": "stream",
     "text": [
      "Person mayu age is 26 and height is 156\n",
      "this is child class\n",
      "mayu lives in USA country\n",
      "Person chai age is 23\n",
      "this is parent class\n"
     ]
    }
   ],
   "source": [
    "class Parent:\n",
    "    def __init__(self,name,age):\n",
    "        self.age = age\n",
    "        self.name = name\n",
    "        print(\"Person {} age is {}\".format(self.name,self.age))\n",
    "    def show(self):\n",
    "        print(\"this is parent class\")\n",
    "    def test(self):\n",
    "        print(\"this is test method of parent class\")\n",
    "        \n",
    "class child(Parent):\n",
    "    def __init__(self,name,age,height):\n",
    "        self.age = age\n",
    "        self.name = name\n",
    "        self.height = height\n",
    "        print(\"Person {} age is {} and height is {}\".format(self.name,self.age,self.height))\n",
    "    def show(self):\n",
    "        print(\"this is child class\")\n",
    "    def my_name(self,place):\n",
    "        self.place = place\n",
    "        print(\"{} lives in {} country\".format(self.name,self.place))\n",
    "    \n",
    "a1 = child('mayu',26,156)\n",
    "a1.show()\n",
    "a1.my_name('USA')\n",
    "\n",
    "#### here , show method is overriden -- called at child class\n",
    "##### this is an example of single inheritance \n",
    "b1 = Parent('chai',23)\n",
    "b1.show()\n"
   ]
  },
  {
   "cell_type": "code",
   "execution_count": 36,
   "id": "73c7cb2d",
   "metadata": {},
   "outputs": [
    {
     "name": "stdout",
     "output_type": "stream",
     "text": [
      "Person chai age is 12 and weight is 20\n",
      "this is grand child class\n",
      "chai lives in Mumbai country\n",
      "this is test method of parent class\n"
     ]
    }
   ],
   "source": [
    "class grandchild(child):\n",
    "    def __init__(self,name,age,weight):\n",
    "        self.name = name \n",
    "        self.age = age\n",
    "        self.weight = weight\n",
    "        print(\"Person {} age is {} and weight is {}\".format(self.name,self.age,self.weight))\n",
    "    def show(self):\n",
    "        print(\"this is grand child class\")\n",
    "c1 = grandchild('chai',12,20)\n",
    "c1.show()\n",
    "c1.my_name('Mumbai')\n",
    "c1.test()\n",
    "\n",
    "########## this is an example of mutilevel inheritance -- parent - child - grandchild"
   ]
  },
  {
   "cell_type": "code",
   "execution_count": 37,
   "id": "f420e0fe",
   "metadata": {},
   "outputs": [
    {
     "data": {
      "text/plain": [
       "['__class__',\n",
       " '__delattr__',\n",
       " '__dict__',\n",
       " '__dir__',\n",
       " '__doc__',\n",
       " '__eq__',\n",
       " '__format__',\n",
       " '__ge__',\n",
       " '__getattribute__',\n",
       " '__gt__',\n",
       " '__hash__',\n",
       " '__init__',\n",
       " '__init_subclass__',\n",
       " '__le__',\n",
       " '__lt__',\n",
       " '__module__',\n",
       " '__ne__',\n",
       " '__new__',\n",
       " '__reduce__',\n",
       " '__reduce_ex__',\n",
       " '__repr__',\n",
       " '__setattr__',\n",
       " '__sizeof__',\n",
       " '__str__',\n",
       " '__subclasshook__',\n",
       " '__weakref__',\n",
       " 'my_name',\n",
       " 'show',\n",
       " 'test']"
      ]
     },
     "execution_count": 37,
     "metadata": {},
     "output_type": "execute_result"
    }
   ],
   "source": [
    "dir(grandchild)"
   ]
  },
  {
   "cell_type": "markdown",
   "id": "93e6800a",
   "metadata": {},
   "source": [
    "###################### operator overloading ####################################"
   ]
  },
  {
   "cell_type": "code",
   "execution_count": 38,
   "id": "8fec729c",
   "metadata": {},
   "outputs": [
    {
     "name": "stdout",
     "output_type": "stream",
     "text": [
      "mayurimhetre\n"
     ]
    }
   ],
   "source": [
    "str1 = 'mayuri'\n",
    "str2 = 'mhetre'\n",
    "print(str1+str2)"
   ]
  },
  {
   "cell_type": "code",
   "execution_count": 39,
   "id": "450ba60f",
   "metadata": {},
   "outputs": [
    {
     "name": "stdout",
     "output_type": "stream",
     "text": [
      "mayurimhetre\n"
     ]
    }
   ],
   "source": [
    "print(str.__add__(str1,str2))"
   ]
  },
  {
   "cell_type": "code",
   "execution_count": 40,
   "id": "5b4894fb",
   "metadata": {},
   "outputs": [
    {
     "name": "stdout",
     "output_type": "stream",
     "text": [
      "you are inside Student class\n",
      "you are inside Student class\n",
      "you are indside add class\n",
      "you are inside Student class\n",
      "17,17\n",
      "you are indside mul class\n",
      "you are inside Student class\n",
      "30,30\n",
      "you are indside square1 class\n",
      "you are inside Student class\n",
      "225,225\n"
     ]
    }
   ],
   "source": [
    "class Student:\n",
    "    def __init__(self,a,b):\n",
    "        self.a = a\n",
    "        self.b = b\n",
    "        print(\"you are inside Student class\")\n",
    "    def __add__(self,other): ############ magic methods add for addition \n",
    "        a = self.a + other.a\n",
    "        b = self.b + other.b\n",
    "        print(\"you are indside add class\")\n",
    "        s2 = Student(a,b)\n",
    "        return s2\n",
    "        \n",
    "    def __mul__(self,other): ############ magic methods mul for multiplication \n",
    "        a = self.a * other.a\n",
    "        b = self.b * other.b\n",
    "        print(\"you are indside mul class\")\n",
    "        s2 = Student(a,b)\n",
    "        return s2\n",
    "    \n",
    "    def square1(self,other): ############# in build method\n",
    "        a = self.a ** other.a\n",
    "        b = self.b ** other.b\n",
    "        print(\"you are indside square1 class\")\n",
    "        s2 = Student(a,b)\n",
    "        return s2\n",
    "    def __gt__(self,other):\n",
    "        s1 = self.a + self.b\n",
    "        s2 = other.a + other.b\n",
    "        if s1 > s2:\n",
    "            return True\n",
    "        else:\n",
    "            return False\n",
    "    def __str__(self):\n",
    "        return '{} , {}'.format(self.a,self.b)\n",
    "        \n",
    "        \n",
    "v = Student(15,15) #### prints print statement\n",
    "x = Student(2,2)   #### prints print statement\n",
    "\n",
    "z = v+x\n",
    "print(\"{},{}\".format(z.a,z.b))\n",
    "z = v*x\n",
    "print(\"{},{}\".format(z.a,z.b))\n",
    "z = v.square1(x)\n",
    "print(\"{},{}\".format(z.a,z.b))"
   ]
  },
  {
   "cell_type": "code",
   "execution_count": 41,
   "id": "b3bf0eee",
   "metadata": {},
   "outputs": [
    {
     "name": "stdout",
     "output_type": "stream",
     "text": [
      "you are inside Student class\n"
     ]
    },
    {
     "data": {
      "text/plain": [
       "<__main__.Student at 0x1a35bdaa6a0>"
      ]
     },
     "execution_count": 41,
     "metadata": {},
     "output_type": "execute_result"
    }
   ],
   "source": [
    "Student(2,3)"
   ]
  },
  {
   "cell_type": "code",
   "execution_count": 42,
   "id": "d1dfce91",
   "metadata": {},
   "outputs": [
    {
     "data": {
      "text/plain": [
       "<__main__.Student at 0x1a35bbbea60>"
      ]
     },
     "execution_count": 42,
     "metadata": {},
     "output_type": "execute_result"
    }
   ],
   "source": [
    "v ######### this returns the address"
   ]
  },
  {
   "cell_type": "code",
   "execution_count": 43,
   "id": "02e53a51",
   "metadata": {},
   "outputs": [
    {
     "data": {
      "text/plain": [
       "<__main__.Student at 0x1a35bbbe430>"
      ]
     },
     "execution_count": 43,
     "metadata": {},
     "output_type": "execute_result"
    }
   ],
   "source": [
    "x"
   ]
  },
  {
   "cell_type": "code",
   "execution_count": 44,
   "id": "230ced0b",
   "metadata": {},
   "outputs": [
    {
     "data": {
      "text/plain": [
       "True"
      ]
     },
     "execution_count": 44,
     "metadata": {},
     "output_type": "execute_result"
    }
   ],
   "source": [
    "v>x"
   ]
  },
  {
   "cell_type": "code",
   "execution_count": 45,
   "id": "4fa1c094",
   "metadata": {},
   "outputs": [
    {
     "data": {
      "text/plain": [
       "30"
      ]
     },
     "execution_count": 45,
     "metadata": {},
     "output_type": "execute_result"
    }
   ],
   "source": [
    "v.a +v.b"
   ]
  },
  {
   "cell_type": "code",
   "execution_count": 46,
   "id": "255a2922",
   "metadata": {},
   "outputs": [
    {
     "data": {
      "text/plain": [
       "4"
      ]
     },
     "execution_count": 46,
     "metadata": {},
     "output_type": "execute_result"
    }
   ],
   "source": [
    "x.a + x.b"
   ]
  },
  {
   "cell_type": "code",
   "execution_count": 47,
   "id": "474396b0",
   "metadata": {},
   "outputs": [
    {
     "name": "stdout",
     "output_type": "stream",
     "text": [
      "2\n",
      "2\n"
     ]
    },
    {
     "data": {
      "text/plain": [
       "(None, None)"
      ]
     },
     "execution_count": 47,
     "metadata": {},
     "output_type": "execute_result"
    }
   ],
   "source": [
    "print(x.a.__str__()) , print(x.b.__str__())"
   ]
  },
  {
   "cell_type": "code",
   "execution_count": 48,
   "id": "9587f4bf",
   "metadata": {},
   "outputs": [
    {
     "name": "stdout",
     "output_type": "stream",
     "text": [
      "15 , 15\n"
     ]
    }
   ],
   "source": [
    "print(v) ########### it prints string valus of a and b together"
   ]
  },
  {
   "cell_type": "code",
   "execution_count": 49,
   "id": "2ac4d22d",
   "metadata": {},
   "outputs": [
    {
     "name": "stdout",
     "output_type": "stream",
     "text": [
      "2 , 2\n"
     ]
    }
   ],
   "source": [
    "print(x)"
   ]
  },
  {
   "cell_type": "markdown",
   "id": "9ed0e9e2",
   "metadata": {},
   "source": [
    "########################## magic methods in python #########################\n",
    "\n",
    "dir(c)-- returns the attributes of class Car\n",
    "\n",
    "these are nothing but the magic methods of class Car.\n",
    "\n",
    "We can override this inside the car class.\n",
    "\n",
    "for print - by default __str__ will get called.\n"
   ]
  },
  {
   "cell_type": "code",
   "execution_count": 62,
   "id": "f60832c4",
   "metadata": {},
   "outputs": [],
   "source": [
    "class Car:\n",
    "    \"This is my car class\"\n",
    "    def __new__(self,doors,windows,engine):\n",
    "        print(\"this gives the new attrivbutes\")\n",
    "    def __init__(self,doors,windows,engine):\n",
    "        self.doors = doors\n",
    "        self.windows = windows\n",
    "        self.engine = engine\n",
    "        print(\"Car has {} doors, {} windows and {} engine.\".format(self.doors,self.windows,self.engine))\n",
    "   \n",
    "    \n",
    "    \n",
    "\n",
    "    def __sizeof__(self):\n",
    "        return \"the size of car class object \"\n",
    "    def printname(self):\n",
    "        print(\"Car object has been initialised\")"
   ]
  },
  {
   "cell_type": "code",
   "execution_count": 63,
   "id": "83eae753",
   "metadata": {},
   "outputs": [
    {
     "name": "stdout",
     "output_type": "stream",
     "text": [
      "this gives the new attrivbutes\n"
     ]
    }
   ],
   "source": [
    "c = Car(4,5,'Petrol')  ### new gets called first"
   ]
  },
  {
   "cell_type": "code",
   "execution_count": 52,
   "id": "5e738bf7",
   "metadata": {},
   "outputs": [
    {
     "name": "stdout",
     "output_type": "stream",
     "text": [
      "<__main__.Car object at 0x000001A35BDAF280>\n"
     ]
    }
   ],
   "source": [
    "print(c) ######### address location"
   ]
  },
  {
   "cell_type": "code",
   "execution_count": 53,
   "id": "e329bd61",
   "metadata": {},
   "outputs": [
    {
     "name": "stdout",
     "output_type": "stream",
     "text": [
      "<__main__.Car object at 0x000001A35BDAF280>\n"
     ]
    }
   ],
   "source": [
    "print(c.__str__())"
   ]
  },
  {
   "cell_type": "code",
   "execution_count": 54,
   "id": "43e542bc",
   "metadata": {},
   "outputs": [
    {
     "data": {
      "text/plain": [
       "['__class__',\n",
       " '__delattr__',\n",
       " '__dict__',\n",
       " '__dir__',\n",
       " '__doc__',\n",
       " '__eq__',\n",
       " '__format__',\n",
       " '__ge__',\n",
       " '__getattribute__',\n",
       " '__gt__',\n",
       " '__hash__',\n",
       " '__init__',\n",
       " '__init_subclass__',\n",
       " '__le__',\n",
       " '__lt__',\n",
       " '__module__',\n",
       " '__ne__',\n",
       " '__new__',\n",
       " '__reduce__',\n",
       " '__reduce_ex__',\n",
       " '__repr__',\n",
       " '__setattr__',\n",
       " '__sizeof__',\n",
       " '__str__',\n",
       " '__subclasshook__',\n",
       " '__weakref__',\n",
       " 'doors',\n",
       " 'engine',\n",
       " 'printname',\n",
       " 'windows']"
      ]
     },
     "execution_count": 54,
     "metadata": {},
     "output_type": "execute_result"
    }
   ],
   "source": [
    "dir(c)"
   ]
  },
  {
   "cell_type": "code",
   "execution_count": 55,
   "id": "af58fd9b",
   "metadata": {},
   "outputs": [
    {
     "name": "stdout",
     "output_type": "stream",
     "text": [
      "Car has 2 doors, 3 windows and D engine.\n",
      "<__main__.Car object at 0x000001A35BDAFA60>\n"
     ]
    }
   ],
   "source": [
    "print(c.__class__(2,3,'D'))"
   ]
  },
  {
   "cell_type": "code",
   "execution_count": 56,
   "id": "84661f6e",
   "metadata": {},
   "outputs": [
    {
     "data": {
      "text/plain": [
       "'This is my car class'"
      ]
     },
     "execution_count": 56,
     "metadata": {},
     "output_type": "execute_result"
    }
   ],
   "source": [
    "c.__doc__"
   ]
  },
  {
   "cell_type": "code",
   "execution_count": 9,
   "id": "2ca417fc",
   "metadata": {},
   "outputs": [
    {
     "data": {
      "text/plain": [
       "'the size of car class object '"
      ]
     },
     "execution_count": 9,
     "metadata": {},
     "output_type": "execute_result"
    }
   ],
   "source": [
    "c.__sizeof__()"
   ]
  },
  {
   "cell_type": "code",
   "execution_count": 27,
   "id": "798f9a93",
   "metadata": {},
   "outputs": [
    {
     "name": "stdout",
     "output_type": "stream",
     "text": [
      "None\n"
     ]
    }
   ],
   "source": [
    "print(c.__str__())"
   ]
  },
  {
   "cell_type": "code",
   "execution_count": 64,
   "id": "1db57797",
   "metadata": {},
   "outputs": [
    {
     "name": "stdout",
     "output_type": "stream",
     "text": [
      "this gives the new attrivbutes\n"
     ]
    }
   ],
   "source": [
    "x = Car(3,2,'Diesel')"
   ]
  },
  {
   "cell_type": "code",
   "execution_count": 48,
   "id": "4645bbd0",
   "metadata": {},
   "outputs": [],
   "source": [
    "################ greater than ###################\n",
    "class A:\n",
    "    def __init__(self,a,b,c):\n",
    "        self.a = a\n",
    "        self.b = b\n",
    "        self.c = c\n",
    "        print(\" you  are inside A class\")\n",
    "    def __gt__(self,other):\n",
    "        s1 = self.a+self.b+self.c\n",
    "        s2 = other.a + other.b + other.c\n",
    "        if s1 > s2:\n",
    "            return True\n",
    "        else:\n",
    "            return False\n",
    "        "
   ]
  },
  {
   "cell_type": "code",
   "execution_count": 49,
   "id": "bc4889e2",
   "metadata": {},
   "outputs": [
    {
     "name": "stdout",
     "output_type": "stream",
     "text": [
      " you  are inside A class\n",
      " you  are inside A class\n"
     ]
    }
   ],
   "source": [
    "z = A(1,2,4)\n",
    "x = A(2,3,4)"
   ]
  },
  {
   "cell_type": "code",
   "execution_count": 50,
   "id": "5b480acc",
   "metadata": {},
   "outputs": [
    {
     "data": {
      "text/plain": [
       "False"
      ]
     },
     "execution_count": 50,
     "metadata": {},
     "output_type": "execute_result"
    }
   ],
   "source": [
    "z>x"
   ]
  },
  {
   "cell_type": "code",
   "execution_count": 51,
   "id": "a3dc3ad7",
   "metadata": {},
   "outputs": [
    {
     "data": {
      "text/plain": [
       "True"
      ]
     },
     "execution_count": 51,
     "metadata": {},
     "output_type": "execute_result"
    }
   ],
   "source": [
    "x>z"
   ]
  },
  {
   "cell_type": "code",
   "execution_count": 65,
   "id": "13fef8d2",
   "metadata": {},
   "outputs": [
    {
     "name": "stdout",
     "output_type": "stream",
     "text": [
      " you  are inside B class\n",
      " you  are inside B class\n"
     ]
    }
   ],
   "source": [
    "################ greater than ###################\n",
    "class B:\n",
    "    def __init__(self,a,b,name):\n",
    "        self.a = a\n",
    "        self.b = b\n",
    "        self.c = name\n",
    "        print(\" you  are inside B class\")\n",
    "    def __gt__(self,other):\n",
    "        s1 = self.a+self.b\n",
    "        s2 = other.a + other.b\n",
    "        if s1 > s2:\n",
    "            return True\n",
    "        else:\n",
    "            return False\n",
    "a1 = B(1,2,'mayu')\n",
    "a2 = B(2,3,'chai')"
   ]
  },
  {
   "cell_type": "code",
   "execution_count": 67,
   "id": "ffa8912c",
   "metadata": {},
   "outputs": [
    {
     "data": {
      "text/plain": [
       "False"
      ]
     },
     "execution_count": 67,
     "metadata": {},
     "output_type": "execute_result"
    }
   ],
   "source": [
    "a1>a2"
   ]
  },
  {
   "cell_type": "code",
   "execution_count": 68,
   "id": "0a60cfaf",
   "metadata": {},
   "outputs": [
    {
     "data": {
      "text/plain": [
       "True"
      ]
     },
     "execution_count": 68,
     "metadata": {},
     "output_type": "execute_result"
    }
   ],
   "source": [
    "a2>a1"
   ]
  },
  {
   "cell_type": "code",
   "execution_count": null,
   "id": "b6a3d8d5",
   "metadata": {},
   "outputs": [],
   "source": []
  }
 ],
 "metadata": {
  "kernelspec": {
   "display_name": "Python 3",
   "language": "python",
   "name": "python3"
  },
  "language_info": {
   "codemirror_mode": {
    "name": "ipython",
    "version": 3
   },
   "file_extension": ".py",
   "mimetype": "text/x-python",
   "name": "python",
   "nbconvert_exporter": "python",
   "pygments_lexer": "ipython3",
   "version": "3.9.5"
  }
 },
 "nbformat": 4,
 "nbformat_minor": 5
}

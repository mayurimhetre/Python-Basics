{
 "cells": [
  {
   "cell_type": "code",
   "execution_count": 21,
   "id": "98d9d179",
   "metadata": {},
   "outputs": [],
   "source": [
    "class Mayuri:\n",
    "    \"hello mayuri , let us start with OOP\"\n",
    "    age = 26\n",
    "    name = 'Mayuri'\n",
    "    \n",
    "    def greet(self):\n",
    "        print('welcome {}'.format(self.name))\n",
    "    def info(self,name,age):\n",
    "        self.name = name \n",
    "        self.age = age\n",
    "        print(\"{} is {} years old\".format(self.name,self.age))"
   ]
  },
  {
   "cell_type": "code",
   "execution_count": 22,
   "id": "e8b7f027",
   "metadata": {},
   "outputs": [],
   "source": [
    "obj = Mayuri()"
   ]
  },
  {
   "cell_type": "code",
   "execution_count": 9,
   "id": "73a0669f",
   "metadata": {},
   "outputs": [
    {
     "name": "stdout",
     "output_type": "stream",
     "text": [
      "hello mayuri , let us start with OOP\n"
     ]
    }
   ],
   "source": [
    "print(obj.__doc__)"
   ]
  },
  {
   "cell_type": "code",
   "execution_count": 10,
   "id": "88a950ef",
   "metadata": {},
   "outputs": [
    {
     "name": "stdout",
     "output_type": "stream",
     "text": [
      "hello mayuri , let us start with OOP\n"
     ]
    }
   ],
   "source": [
    "print(Mayuri.__doc__) ############# displays the doc string"
   ]
  },
  {
   "cell_type": "code",
   "execution_count": 18,
   "id": "e9f4b1a0",
   "metadata": {},
   "outputs": [
    {
     "name": "stdout",
     "output_type": "stream",
     "text": [
      "welcome Mayuri\n"
     ]
    }
   ],
   "source": [
    "obj.greet()"
   ]
  },
  {
   "cell_type": "code",
   "execution_count": 23,
   "id": "0bb7fab6",
   "metadata": {},
   "outputs": [
    {
     "name": "stdout",
     "output_type": "stream",
     "text": [
      "chaitantya is 25 years old\n"
     ]
    }
   ],
   "source": [
    "obj.info('chaitantya',25)"
   ]
  },
  {
   "cell_type": "markdown",
   "id": "4994eb84",
   "metadata": {},
   "source": [
    "####################### Inheritance ###############################"
   ]
  },
  {
   "cell_type": "code",
   "execution_count": 56,
   "id": "2fc2a9f0",
   "metadata": {},
   "outputs": [],
   "source": [
    "class Base1:\n",
    "\n",
    "    def __init__(self):\n",
    "        print(\"This is my Base1 class\")\n",
    "    def age(self,age):\n",
    "        self.age = age\n",
    "        print(\"Age of the person (Base1) is {}\".format(self.age))\n",
    "   \n",
    "class Base2:\n",
    "    def __init__(self):\n",
    "        print(\"This is my Base2 class\")\n",
    "    def age(self,age):\n",
    "        self.age = age\n",
    "        print(\"Age of the person (Base2) is {}\".format(self.age))\n",
    "class child(Base1,Base2):\n",
    "    \"Welcome to child class which id derived from Base1 and Base2\"\n",
    "    def __init__(self):\n",
    "        super().__init__(self)\n",
    "        Base1.__init__(self)\n",
    "        Base2.__init__(self)\n",
    "        print(\"This is my child class\")\n",
    "    def age(self,age):\n",
    "        self.age =age\n",
    "        print(\"Age of the person (child) is {}\".format(self.age))\n",
    "    "
   ]
  },
  {
   "cell_type": "code",
   "execution_count": 57,
   "id": "11725210",
   "metadata": {},
   "outputs": [
    {
     "name": "stdout",
     "output_type": "stream",
     "text": [
      "This is my Base1 class\n"
     ]
    }
   ],
   "source": [
    "obj1 = Base1()"
   ]
  },
  {
   "cell_type": "code",
   "execution_count": 27,
   "id": "30aefd22",
   "metadata": {},
   "outputs": [
    {
     "name": "stdout",
     "output_type": "stream",
     "text": [
      "This is my Base2 class\n"
     ]
    }
   ],
   "source": [
    "obj2  = Base2()"
   ]
  },
  {
   "cell_type": "code",
   "execution_count": 28,
   "id": "f39c9404",
   "metadata": {},
   "outputs": [
    {
     "name": "stdout",
     "output_type": "stream",
     "text": [
      "This is my Base1 class\n",
      "This is my Base2 class\n",
      "This is my child class\n"
     ]
    }
   ],
   "source": [
    "obj3 = child()"
   ]
  },
  {
   "cell_type": "code",
   "execution_count": 29,
   "id": "b957752a",
   "metadata": {},
   "outputs": [
    {
     "data": {
      "text/plain": [
       "'Welcome to child class which id derived from Base1 and Base2'"
      ]
     },
     "execution_count": 29,
     "metadata": {},
     "output_type": "execute_result"
    }
   ],
   "source": [
    "obj3.__doc__"
   ]
  },
  {
   "cell_type": "code",
   "execution_count": 30,
   "id": "4c75e941",
   "metadata": {},
   "outputs": [
    {
     "name": "stdout",
     "output_type": "stream",
     "text": [
      "Age of the person (child) is 23\n"
     ]
    }
   ],
   "source": [
    "obj3.age(23)"
   ]
  },
  {
   "cell_type": "code",
   "execution_count": 31,
   "id": "d6405645",
   "metadata": {},
   "outputs": [
    {
     "name": "stdout",
     "output_type": "stream",
     "text": [
      "Age of the person (Base2) is 90\n"
     ]
    }
   ],
   "source": [
    "obj2.age(90)"
   ]
  },
  {
   "cell_type": "code",
   "execution_count": 85,
   "id": "df01a598",
   "metadata": {},
   "outputs": [],
   "source": [
    "################## Example1 #######################\n",
    "\n",
    "class Student:\n",
    "    def __init__(self,fname,lname,roll_no):\n",
    "        self.fname = fname\n",
    "        self.lname = lname\n",
    "        self.roll_no = roll_no\n",
    "        print(\"Roll no of student {}: {} {}\".format(self.roll_no,self.fname,self.lname))\n",
    "    def printnames(self):\n",
    "        print(\"Roll no {}: {} {}\".format(self.roll_no,self.fname,self.lname))"
   ]
  },
  {
   "cell_type": "code",
   "execution_count": 86,
   "id": "045d8782",
   "metadata": {},
   "outputs": [
    {
     "name": "stdout",
     "output_type": "stream",
     "text": [
      "Roll no of student 301237: mayu mhetre\n"
     ]
    }
   ],
   "source": [
    "obj1 = Student('mayu','mhetre',301237)"
   ]
  },
  {
   "cell_type": "code",
   "execution_count": 87,
   "id": "c3cebe39",
   "metadata": {},
   "outputs": [
    {
     "name": "stdout",
     "output_type": "stream",
     "text": [
      "Roll no 301237: mayu mhetre\n"
     ]
    }
   ],
   "source": [
    "obj1.printnames()"
   ]
  },
  {
   "cell_type": "code",
   "execution_count": 88,
   "id": "c4f6aa62",
   "metadata": {},
   "outputs": [],
   "source": [
    "class child1(Student):\n",
    "    pass"
   ]
  },
  {
   "cell_type": "code",
   "execution_count": 89,
   "id": "593b6d8d",
   "metadata": {},
   "outputs": [
    {
     "name": "stdout",
     "output_type": "stream",
     "text": [
      "Roll no of student 401225: Chai Mhetre\n"
     ]
    }
   ],
   "source": [
    "ch1 = child1('Chai','Mhetre',401225)"
   ]
  },
  {
   "cell_type": "code",
   "execution_count": 90,
   "id": "15196352",
   "metadata": {},
   "outputs": [
    {
     "name": "stdout",
     "output_type": "stream",
     "text": [
      "Roll no 401225: Chai Mhetre\n"
     ]
    }
   ],
   "source": [
    "ch1.printnames()"
   ]
  },
  {
   "cell_type": "code",
   "execution_count": 69,
   "id": "c698fa44",
   "metadata": {},
   "outputs": [],
   "source": [
    "################### properties of parent class are used by child class"
   ]
  },
  {
   "cell_type": "code",
   "execution_count": 91,
   "id": "5bb940f5",
   "metadata": {},
   "outputs": [],
   "source": [
    "class child1(Student):\n",
    "    def __init__(self,fname,lname,roll_no,grad_year):\n",
    "        self.fname = fname\n",
    "        self.lname = lname\n",
    "        self.roll_no = roll_no\n",
    "        self.grad_year = grad_year\n",
    "        super().__init__(self.fname,self.lname,self.roll_no) ######### this calls parent class student -- self not required\n",
    "        print(\"Roll No: {} {} {} graduated in {}\".format(self.roll_no,self.fname,self.lname,self.grad_year))"
   ]
  },
  {
   "cell_type": "code",
   "execution_count": 92,
   "id": "c52cedab",
   "metadata": {},
   "outputs": [
    {
     "name": "stdout",
     "output_type": "stream",
     "text": [
      "Roll no of student 451235: mayu mhetre1\n",
      "Roll No: 451235 mayu mhetre1 graduated in 2016\n"
     ]
    }
   ],
   "source": [
    "ch2 = child1('mayu','mhetre1',451235,2016)"
   ]
  },
  {
   "cell_type": "code",
   "execution_count": 102,
   "id": "99b4f3fe",
   "metadata": {},
   "outputs": [],
   "source": [
    "class child2(Student):\n",
    "    def __init__(self,fname,lname,roll_no,place):\n",
    "        self.fname = fname\n",
    "        self.lname = lname\n",
    "        self.roll_no = roll_no\n",
    "        self.place = place\n",
    "        Student.__init__(self,self.fname,self.lname,self.roll_no) ######### this calls the parent class student --self is required\n",
    "        print(\"Roll No: {} {} {} lives in country - {}\".format(self.roll_no,self.fname,self.lname,self.place))"
   ]
  },
  {
   "cell_type": "code",
   "execution_count": 103,
   "id": "285eb22e",
   "metadata": {},
   "outputs": [
    {
     "name": "stdout",
     "output_type": "stream",
     "text": [
      "Roll no of student 123456: abc vvv\n",
      "Roll No: 123456 abc vvv lives in country - USA\n"
     ]
    }
   ],
   "source": [
    "ch3 = child2('abc','vvv',123456,'USA')"
   ]
  },
  {
   "cell_type": "code",
   "execution_count": 104,
   "id": "211c02a6",
   "metadata": {},
   "outputs": [
    {
     "name": "stdout",
     "output_type": "stream",
     "text": [
      "Roll no 123456: abc vvv\n"
     ]
    }
   ],
   "source": [
    "ch3.printnames() ############ calling the property of base class"
   ]
  },
  {
   "cell_type": "code",
   "execution_count": 105,
   "id": "8a598efb",
   "metadata": {},
   "outputs": [
    {
     "name": "stdout",
     "output_type": "stream",
     "text": [
      "Roll no 451235: mayu mhetre1\n"
     ]
    }
   ],
   "source": [
    "ch2.printnames()"
   ]
  },
  {
   "cell_type": "markdown",
   "id": "e20e8914",
   "metadata": {},
   "source": [
    "####################### Encapsulation ###############################"
   ]
  },
  {
   "cell_type": "code",
   "execution_count": 115,
   "id": "a0be24dd",
   "metadata": {},
   "outputs": [],
   "source": [
    "class Employer:\n",
    "    \"This is Employer Class - TCS\"\n",
    "    def __init__(self,empname):\n",
    "        self.empname = empname\n",
    "        self.__salary = 15000\n",
    "        print(\"{} has basic salary {}\".format(self.empname,self.__salary))\n",
    "        \n",
    "class Emp1(Employer):\n",
    "    \"This is child class - Emp1\"\n",
    "    def __init__(self,empname,hike,year):\n",
    "        self.empname = empname\n",
    "        Employer.__init__(self,self.empname)\n",
    "        self.hike = hike\n",
    "        self.year = year\n",
    "        self.increased = self._Employer__salary + self.hike\n",
    "        \n",
    "    def printemp(self):\n",
    "        print(\"{} has increased salary {} in {}\".format(self.empname,self.increased,self.year))"
   ]
  },
  {
   "cell_type": "code",
   "execution_count": 116,
   "id": "257520f6",
   "metadata": {},
   "outputs": [
    {
     "name": "stdout",
     "output_type": "stream",
     "text": [
      "Mayur Mhetre has basic salary 15000\n"
     ]
    }
   ],
   "source": [
    "emp1 = Emp1('Mayur Mhetre',25000,2021)"
   ]
  },
  {
   "cell_type": "code",
   "execution_count": 117,
   "id": "a095e94d",
   "metadata": {},
   "outputs": [
    {
     "name": "stdout",
     "output_type": "stream",
     "text": [
      "Mayur Mhetre has increased salary 40000 in 2021\n"
     ]
    }
   ],
   "source": [
    "emp1.printemp() ###### added 15k plus 25k"
   ]
  },
  {
   "cell_type": "code",
   "execution_count": 118,
   "id": "2ba9237f",
   "metadata": {},
   "outputs": [
    {
     "data": {
      "text/plain": [
       "'This is child class - Emp1'"
      ]
     },
     "execution_count": 118,
     "metadata": {},
     "output_type": "execute_result"
    }
   ],
   "source": [
    "emp1.__doc__"
   ]
  },
  {
   "cell_type": "code",
   "execution_count": 119,
   "id": "7be07d5a",
   "metadata": {},
   "outputs": [
    {
     "data": {
      "text/plain": [
       "'This is Employer Class - TCS'"
      ]
     },
     "execution_count": 119,
     "metadata": {},
     "output_type": "execute_result"
    }
   ],
   "source": [
    "Employer.__doc__"
   ]
  },
  {
   "cell_type": "code",
   "execution_count": null,
   "id": "9b685a07",
   "metadata": {},
   "outputs": [],
   "source": []
  }
 ],
 "metadata": {
  "kernelspec": {
   "display_name": "Python 3",
   "language": "python",
   "name": "python3"
  },
  "language_info": {
   "codemirror_mode": {
    "name": "ipython",
    "version": 3
   },
   "file_extension": ".py",
   "mimetype": "text/x-python",
   "name": "python",
   "nbconvert_exporter": "python",
   "pygments_lexer": "ipython3",
   "version": "3.9.5"
  }
 },
 "nbformat": 4,
 "nbformat_minor": 5
}

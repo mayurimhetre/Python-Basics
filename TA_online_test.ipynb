{
 "cells": [
  {
   "cell_type": "markdown",
   "id": "bd40a88d",
   "metadata": {},
   "source": [
    "### problem statement : enter N = number of sublists ypu want from main list1 \n",
    "### eg. 8 elements and N=2 then 4 elements in each sublists .\n",
    "### eg. 8  elements and N=4 then 2 elemnets in each sublists\n",
    "### now sort the elements and take 2 nd element from each sublist and add them\n",
    "### return the sum from a function\n"
   ]
  },
  {
   "cell_type": "code",
   "execution_count": 1,
   "id": "bbcc995d",
   "metadata": {},
   "outputs": [
    {
     "name": "stdout",
     "output_type": "stream",
     "text": [
      "1010\n",
      "1110\n",
      "3\n"
     ]
    }
   ],
   "source": [
    "list1 = input()\n",
    "list2 = input()\n",
    "count=0\n",
    "for i in range(len(list1)):\n",
    "    if list1[i] == list2[i]:\n",
    "        count +=1\n",
    "\n",
    "print(count)\n"
   ]
  },
  {
   "cell_type": "code",
   "execution_count": 3,
   "id": "0adaa881",
   "metadata": {},
   "outputs": [
    {
     "data": {
      "text/plain": [
       "str"
      ]
     },
     "execution_count": 3,
     "metadata": {},
     "output_type": "execute_result"
    }
   ],
   "source": [
    "type(list1)"
   ]
  },
  {
   "cell_type": "code",
   "execution_count": 30,
   "id": "64baa6d9",
   "metadata": {},
   "outputs": [
    {
     "name": "stdout",
     "output_type": "stream",
     "text": [
      "[0, 1]\n",
      "[2, 3]\n",
      "[4, 5]\n",
      "[6, 6]\n",
      "[7, 8]\n",
      "[8, 9]\n",
      "[[0, 1], [2, 3], [4, 5], [6, 6], [7, 8], [8, 9]]\n"
     ]
    }
   ],
   "source": [
    "list1 = [0,1,2,3,4,5,6,6,7,8,8,9]\n",
    "N= 6\n",
    "a = []\n",
    "for i in range(0,len(list1),len(list1)//N):\n",
    "    print(list1[i:len(list1)//N+i])\n",
    "    a.append(list1[i:len(list1)//N+i])\n",
    "print(a)"
   ]
  },
  {
   "cell_type": "code",
   "execution_count": 8,
   "id": "44284f98",
   "metadata": {},
   "outputs": [
    {
     "data": {
      "text/plain": [
       "[0, 1, 2, 3, 4, 5]"
      ]
     },
     "execution_count": 8,
     "metadata": {},
     "output_type": "execute_result"
    }
   ],
   "source": [
    "list1"
   ]
  },
  {
   "cell_type": "code",
   "execution_count": 10,
   "id": "c1d68860",
   "metadata": {},
   "outputs": [
    {
     "name": "stdout",
     "output_type": "stream",
     "text": [
      "0\n",
      "3\n"
     ]
    }
   ],
   "source": [
    "for i in range(0,6,3):\n",
    "    print(i)"
   ]
  },
  {
   "cell_type": "code",
   "execution_count": 13,
   "id": "110c9b9f",
   "metadata": {},
   "outputs": [
    {
     "data": {
      "text/plain": [
       "4"
      ]
     },
     "execution_count": 13,
     "metadata": {},
     "output_type": "execute_result"
    }
   ],
   "source": [
    "9//2"
   ]
  },
  {
   "cell_type": "code",
   "execution_count": 14,
   "id": "9ffd4b5c",
   "metadata": {},
   "outputs": [
    {
     "data": {
      "text/plain": [
       "8"
      ]
     },
     "execution_count": 14,
     "metadata": {},
     "output_type": "execute_result"
    }
   ],
   "source": [
    "len(list1)"
   ]
  },
  {
   "cell_type": "code",
   "execution_count": 15,
   "id": "69dc056a",
   "metadata": {},
   "outputs": [
    {
     "data": {
      "text/plain": [
       "4"
      ]
     },
     "execution_count": 15,
     "metadata": {},
     "output_type": "execute_result"
    }
   ],
   "source": [
    "8//2"
   ]
  },
  {
   "cell_type": "code",
   "execution_count": 47,
   "id": "4422655c",
   "metadata": {},
   "outputs": [],
   "source": [
    "def function1(list1,N):\n",
    "    a = []\n",
    "    for i in range(0,len(list1),len(list1)//N):\n",
    "        a.append(list1[i:len(list1)//N+i])\n",
    "    print(a)\n",
    "    count=0\n",
    "    b =0\n",
    "    for i in a:\n",
    "        b = list(sorted(i))[1]\n",
    "        \n",
    "        count = count+b\n",
    "    return(count)\n",
    "    \n",
    "    "
   ]
  },
  {
   "cell_type": "code",
   "execution_count": 48,
   "id": "f2641d58",
   "metadata": {},
   "outputs": [
    {
     "name": "stdout",
     "output_type": "stream",
     "text": [
      "[[0, 1], [2, 3], [4, 5], [6, 6], [7, 8], [8, 9]]\n"
     ]
    },
    {
     "data": {
      "text/plain": [
       "32"
      ]
     },
     "execution_count": 48,
     "metadata": {},
     "output_type": "execute_result"
    }
   ],
   "source": [
    "function1(list1,N)"
   ]
  },
  {
   "cell_type": "code",
   "execution_count": 26,
   "id": "4ec324a8",
   "metadata": {},
   "outputs": [
    {
     "data": {
      "text/plain": [
       "[0, 1, 2, 3, 4, 5, 6, 6, 7, 8, 8, 9]"
      ]
     },
     "execution_count": 26,
     "metadata": {},
     "output_type": "execute_result"
    }
   ],
   "source": [
    "list1"
   ]
  },
  {
   "cell_type": "code",
   "execution_count": 33,
   "id": "91a5a45c",
   "metadata": {},
   "outputs": [
    {
     "data": {
      "text/plain": [
       "[[0, 1], [2, 3], [4, 5], [6, 6], [7, 8], [8, 9]]"
      ]
     },
     "execution_count": 33,
     "metadata": {},
     "output_type": "execute_result"
    }
   ],
   "source": [
    "a"
   ]
  },
  {
   "cell_type": "code",
   "execution_count": 42,
   "id": "dc14a270",
   "metadata": {},
   "outputs": [
    {
     "name": "stdout",
     "output_type": "stream",
     "text": [
      "<class 'int'>\n",
      "2\n",
      "<class 'int'>\n",
      "4\n",
      "<class 'int'>\n",
      "6\n",
      "<class 'int'>\n",
      "7\n",
      "<class 'int'>\n",
      "9\n",
      "<class 'int'>\n",
      "10\n"
     ]
    }
   ],
   "source": [
    "for i in a:\n",
    "    print(type(list(sorted(i))[1]))\n",
    "    print(list(sorted(i))[1]+1)"
   ]
  },
  {
   "cell_type": "code",
   "execution_count": null,
   "id": "f0b3502b",
   "metadata": {},
   "outputs": [],
   "source": []
  }
 ],
 "metadata": {
  "kernelspec": {
   "display_name": "Python 3",
   "language": "python",
   "name": "python3"
  },
  "language_info": {
   "codemirror_mode": {
    "name": "ipython",
    "version": 3
   },
   "file_extension": ".py",
   "mimetype": "text/x-python",
   "name": "python",
   "nbconvert_exporter": "python",
   "pygments_lexer": "ipython3",
   "version": "3.9.5"
  }
 },
 "nbformat": 4,
 "nbformat_minor": 5
}

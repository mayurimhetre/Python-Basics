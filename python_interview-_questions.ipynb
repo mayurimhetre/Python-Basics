{
 "cells": [
  {
   "cell_type": "code",
   "execution_count": 2,
   "id": "40533eb8",
   "metadata": {},
   "outputs": [],
   "source": [
    "import numpy as np\n",
    "a = np.array([1,2,3,4,5])\n",
    "b = np.array([5,6,7,8,9])"
   ]
  },
  {
   "cell_type": "code",
   "execution_count": 3,
   "id": "e8435e18",
   "metadata": {},
   "outputs": [
    {
     "data": {
      "text/plain": [
       "True"
      ]
     },
     "execution_count": 3,
     "metadata": {},
     "output_type": "execute_result"
    }
   ],
   "source": [
    "a not in b"
   ]
  },
  {
   "cell_type": "code",
   "execution_count": 6,
   "id": "03b05443",
   "metadata": {},
   "outputs": [],
   "source": [
    "c = np.array(list(filter(lambda x: x not in b, a)))"
   ]
  },
  {
   "cell_type": "code",
   "execution_count": 7,
   "id": "a4903f8f",
   "metadata": {},
   "outputs": [
    {
     "data": {
      "text/plain": [
       "array([1, 2, 3, 4])"
      ]
     },
     "execution_count": 7,
     "metadata": {},
     "output_type": "execute_result"
    }
   ],
   "source": [
    "c"
   ]
  },
  {
   "cell_type": "code",
   "execution_count": 8,
   "id": "83fa9465",
   "metadata": {},
   "outputs": [
    {
     "data": {
      "text/plain": [
       "array([5])"
      ]
     },
     "execution_count": 8,
     "metadata": {},
     "output_type": "execute_result"
    }
   ],
   "source": [
    "np.intersect1d(a,b)"
   ]
  },
  {
   "cell_type": "code",
   "execution_count": 9,
   "id": "35124f1b",
   "metadata": {},
   "outputs": [],
   "source": [
    "c1 = np.array(list(filter(lambda x: x in b , a)))"
   ]
  },
  {
   "cell_type": "code",
   "execution_count": 10,
   "id": "e0da7f33",
   "metadata": {},
   "outputs": [
    {
     "data": {
      "text/plain": [
       "array([5])"
      ]
     },
     "execution_count": 10,
     "metadata": {},
     "output_type": "execute_result"
    }
   ],
   "source": [
    "c1"
   ]
  },
  {
   "cell_type": "code",
   "execution_count": 11,
   "id": "8730a2b1",
   "metadata": {},
   "outputs": [
    {
     "data": {
      "text/plain": [
       "array([1, 2, 3, 4, 5, 6, 7, 8, 9])"
      ]
     },
     "execution_count": 11,
     "metadata": {},
     "output_type": "execute_result"
    }
   ],
   "source": [
    "np.union1d(a,b)"
   ]
  },
  {
   "cell_type": "code",
   "execution_count": 12,
   "id": "28aca5c3",
   "metadata": {},
   "outputs": [],
   "source": [
    "import time"
   ]
  },
  {
   "cell_type": "code",
   "execution_count": 16,
   "id": "5cae0e79",
   "metadata": {},
   "outputs": [],
   "source": [
    "l = time.localtime()"
   ]
  },
  {
   "cell_type": "code",
   "execution_count": 20,
   "id": "457e14f5",
   "metadata": {},
   "outputs": [
    {
     "data": {
      "text/plain": [
       "'2021'"
      ]
     },
     "execution_count": 20,
     "metadata": {},
     "output_type": "execute_result"
    }
   ],
   "source": [
    "time.strftime('%Y',l)"
   ]
  },
  {
   "cell_type": "code",
   "execution_count": 28,
   "id": "ac73eddb",
   "metadata": {},
   "outputs": [
    {
     "name": "stdout",
     "output_type": "stream",
     "text": [
      " \n",
      "* \n",
      "** \n",
      "*** \n",
      "**** \n"
     ]
    }
   ],
   "source": [
    "n= 5\n",
    "for i in range(n):\n",
    "    for j in range(i):\n",
    "        print('*', end = '')\n",
    "    print(' ')\n",
    "for i in range(5,-1):\n",
    "    for j in range(i):\n",
    "        print('*', end = '')\n",
    "    print(' ')"
   ]
  },
  {
   "cell_type": "code",
   "execution_count": 31,
   "id": "249030fc",
   "metadata": {},
   "outputs": [
    {
     "name": "stdout",
     "output_type": "stream",
     "text": [
      "***** \n",
      "**** \n",
      "*** \n",
      "** \n",
      "* \n"
     ]
    }
   ],
   "source": [
    "for i in range(n,0,-1):\n",
    "    for j in range(i):\n",
    "        print('*', end = '')\n",
    "    print(' ')"
   ]
  },
  {
   "cell_type": "code",
   "execution_count": 40,
   "id": "2214b8aa",
   "metadata": {},
   "outputs": [
    {
     "name": "stdout",
     "output_type": "stream",
     "text": [
      "enter the range:21\n",
      "{3, 5, 7, 9, 11, 13, 15, 17, 19}\n"
     ]
    }
   ],
   "source": [
    "n = int(input('enter the range:'))\n",
    "list1= []\n",
    "for i in range(2,n):\n",
    "    for temp in range(2,i):\n",
    "        if i%temp == 0:\n",
    "            break\n",
    "        else:\n",
    "            list1.append(i)\n",
    "print(set(list1))"
   ]
  },
  {
   "cell_type": "code",
   "execution_count": 42,
   "id": "aae55f96",
   "metadata": {},
   "outputs": [],
   "source": [
    "def func1(a,b,c):\n",
    "    \n",
    "    if (a**2 + b**2) == c**2:\n",
    "        return \"It is a right angle triangle\"\n",
    "    elif (b**2 + c**2) == a**2:\n",
    "        return \"It is a right angle triangle\"\n",
    "    elif (c**2 + a**2) == b**2:\n",
    "        return \"It is a right angle triangle\"\n",
    "    else:\n",
    "        return \"NOooo\"\n",
    "        \n",
    "        "
   ]
  },
  {
   "cell_type": "code",
   "execution_count": 41,
   "id": "19592600",
   "metadata": {},
   "outputs": [
    {
     "data": {
      "text/plain": [
       "(3, False)"
      ]
     },
     "execution_count": 41,
     "metadata": {},
     "output_type": "execute_result"
    }
   ],
   "source": [
    "3,4 >5"
   ]
  },
  {
   "cell_type": "code",
   "execution_count": 43,
   "id": "b98304ff",
   "metadata": {},
   "outputs": [
    {
     "data": {
      "text/plain": [
       "'It is a right angle triangle'"
      ]
     },
     "execution_count": 43,
     "metadata": {},
     "output_type": "execute_result"
    }
   ],
   "source": [
    "func1(3,4,5)"
   ]
  },
  {
   "cell_type": "code",
   "execution_count": 52,
   "id": "2594faf0",
   "metadata": {},
   "outputs": [],
   "source": [
    "list1 = []\n",
    "def fibo1(n):\n",
    "    a,b = 0,1\n",
    "    while b <= n:\n",
    "        list1.append(b)\n",
    "        \n",
    "        a,b = b,a+b\n",
    "    return list1\n",
    "       "
   ]
  },
  {
   "cell_type": "code",
   "execution_count": 53,
   "id": "60bf8573",
   "metadata": {},
   "outputs": [
    {
     "data": {
      "text/plain": [
       "[1, 1, 2, 3, 5, 8]"
      ]
     },
     "execution_count": 53,
     "metadata": {},
     "output_type": "execute_result"
    }
   ],
   "source": [
    "fibo1(10)"
   ]
  },
  {
   "cell_type": "code",
   "execution_count": 55,
   "id": "6ee27f14",
   "metadata": {},
   "outputs": [],
   "source": [
    "def func1(a,b):\n",
    "    if b ==0:\n",
    "        return 1\n",
    "    else:\n",
    "        return a**b"
   ]
  },
  {
   "cell_type": "code",
   "execution_count": 57,
   "id": "21289836",
   "metadata": {},
   "outputs": [
    {
     "data": {
      "text/plain": [
       "8"
      ]
     },
     "execution_count": 57,
     "metadata": {},
     "output_type": "execute_result"
    }
   ],
   "source": [
    "func1(2,3)"
   ]
  },
  {
   "cell_type": "code",
   "execution_count": 64,
   "id": "3ef4096d",
   "metadata": {},
   "outputs": [],
   "source": [
    "list1 = list(reversed('mayu'))"
   ]
  },
  {
   "cell_type": "code",
   "execution_count": 62,
   "id": "a1c565d3",
   "metadata": {},
   "outputs": [
    {
     "ename": "AttributeError",
     "evalue": "'str' object has no attribute 'Reverse'",
     "output_type": "error",
     "traceback": [
      "\u001b[1;31m---------------------------------------------------------------------------\u001b[0m",
      "\u001b[1;31mAttributeError\u001b[0m                            Traceback (most recent call last)",
      "\u001b[1;32m<ipython-input-62-12382f1ec977>\u001b[0m in \u001b[0;36m<module>\u001b[1;34m\u001b[0m\n\u001b[1;32m----> 1\u001b[1;33m \u001b[1;34m'mayu'\u001b[0m\u001b[1;33m.\u001b[0m\u001b[0mReverse\u001b[0m\u001b[1;33m(\u001b[0m\u001b[1;33m)\u001b[0m\u001b[1;33m\u001b[0m\u001b[1;33m\u001b[0m\u001b[0m\n\u001b[0m",
      "\u001b[1;31mAttributeError\u001b[0m: 'str' object has no attribute 'Reverse'"
     ]
    }
   ],
   "source": [
    "'mayu'.Reverse()"
   ]
  },
  {
   "cell_type": "code",
   "execution_count": 63,
   "id": "ed4d4272",
   "metadata": {},
   "outputs": [
    {
     "name": "stdout",
     "output_type": "stream",
     "text": [
      "ertehm iruyam\n"
     ]
    }
   ],
   "source": [
    "l = 'mayuri mhetre'\n",
    "print(l[::-1])"
   ]
  },
  {
   "cell_type": "code",
   "execution_count": 65,
   "id": "a7b731e0",
   "metadata": {},
   "outputs": [
    {
     "data": {
      "text/plain": [
       "['u', 'y', 'a', 'm']"
      ]
     },
     "execution_count": 65,
     "metadata": {},
     "output_type": "execute_result"
    }
   ],
   "source": [
    "list1"
   ]
  },
  {
   "cell_type": "code",
   "execution_count": 67,
   "id": "763f7b81",
   "metadata": {},
   "outputs": [
    {
     "data": {
      "text/plain": [
       "'uyam'"
      ]
     },
     "execution_count": 67,
     "metadata": {},
     "output_type": "execute_result"
    }
   ],
   "source": [
    "''.join(list1)"
   ]
  },
  {
   "cell_type": "code",
   "execution_count": 69,
   "id": "82c3676a",
   "metadata": {},
   "outputs": [],
   "source": [
    "def func_str(str1):\n",
    "    return ''.join(list(reversed(str1)))"
   ]
  },
  {
   "cell_type": "code",
   "execution_count": 70,
   "id": "251dcbc1",
   "metadata": {},
   "outputs": [
    {
     "data": {
      "text/plain": [
       "'olleh ih'"
      ]
     },
     "execution_count": 70,
     "metadata": {},
     "output_type": "execute_result"
    }
   ],
   "source": [
    "func_str('hi hello')"
   ]
  },
  {
   "cell_type": "code",
   "execution_count": 74,
   "id": "b580fdb0",
   "metadata": {},
   "outputs": [],
   "source": [
    "def func2(n):\n",
    "    a = 0\n",
    "    for i in range(1,n+1):\n",
    "        a = a+ i**3\n",
    "    return a\n",
    "    "
   ]
  },
  {
   "cell_type": "code",
   "execution_count": 75,
   "id": "c02d26c7",
   "metadata": {},
   "outputs": [
    {
     "data": {
      "text/plain": [
       "225"
      ]
     },
     "execution_count": 75,
     "metadata": {},
     "output_type": "execute_result"
    }
   ],
   "source": [
    "func2(5)"
   ]
  },
  {
   "cell_type": "code",
   "execution_count": 73,
   "id": "596f88e3",
   "metadata": {},
   "outputs": [
    {
     "data": {
      "text/plain": [
       "225"
      ]
     },
     "execution_count": 73,
     "metadata": {},
     "output_type": "execute_result"
    }
   ],
   "source": [
    "1+8+27+64+125"
   ]
  },
  {
   "cell_type": "code",
   "execution_count": 83,
   "id": "65795617",
   "metadata": {},
   "outputs": [],
   "source": [
    "def func(list1):\n",
    "    a = len(list1)\n",
    "    list1[0] , list1[a-1] = list1[a-1],list1[0]\n",
    "    return list1\n",
    "     "
   ]
  },
  {
   "cell_type": "code",
   "execution_count": 84,
   "id": "5c0569ea",
   "metadata": {},
   "outputs": [
    {
     "data": {
      "text/plain": [
       "[4, 1, 2, 3, 0]"
      ]
     },
     "execution_count": 84,
     "metadata": {},
     "output_type": "execute_result"
    }
   ],
   "source": [
    "func([i for i in range(5)])"
   ]
  },
  {
   "cell_type": "code",
   "execution_count": 78,
   "id": "8d721c79",
   "metadata": {},
   "outputs": [
    {
     "data": {
      "text/plain": [
       "5"
      ]
     },
     "execution_count": 78,
     "metadata": {},
     "output_type": "execute_result"
    }
   ],
   "source": [
    "len([i for i in range(5)])"
   ]
  },
  {
   "cell_type": "code",
   "execution_count": 79,
   "id": "53550282",
   "metadata": {},
   "outputs": [],
   "source": [
    "list1= [i for i in range(5)]"
   ]
  },
  {
   "cell_type": "code",
   "execution_count": 80,
   "id": "f578145d",
   "metadata": {},
   "outputs": [
    {
     "data": {
      "text/plain": [
       "[0, 1, 2, 3, 4]"
      ]
     },
     "execution_count": 80,
     "metadata": {},
     "output_type": "execute_result"
    }
   ],
   "source": [
    "list1"
   ]
  },
  {
   "cell_type": "code",
   "execution_count": 82,
   "id": "c38cfa0e",
   "metadata": {},
   "outputs": [
    {
     "ename": "IndexError",
     "evalue": "list index out of range",
     "output_type": "error",
     "traceback": [
      "\u001b[1;31m---------------------------------------------------------------------------\u001b[0m",
      "\u001b[1;31mIndexError\u001b[0m                                Traceback (most recent call last)",
      "\u001b[1;32m<ipython-input-82-efc5536bcf79>\u001b[0m in \u001b[0;36m<module>\u001b[1;34m\u001b[0m\n\u001b[1;32m----> 1\u001b[1;33m \u001b[0mlist1\u001b[0m\u001b[1;33m[\u001b[0m\u001b[1;36m5\u001b[0m\u001b[1;33m]\u001b[0m\u001b[1;33m\u001b[0m\u001b[1;33m\u001b[0m\u001b[0m\n\u001b[0m",
      "\u001b[1;31mIndexError\u001b[0m: list index out of range"
     ]
    }
   ],
   "source": [
    "list1[5]"
   ]
  },
  {
   "cell_type": "code",
   "execution_count": 85,
   "id": "d0f13f2e",
   "metadata": {},
   "outputs": [],
   "source": [
    "str1 = 'mayuri_mhetre_python'"
   ]
  },
  {
   "cell_type": "code",
   "execution_count": 87,
   "id": "9313bc8c",
   "metadata": {},
   "outputs": [
    {
     "data": {
      "text/plain": [
       "'mayuri_mhetre_python'"
      ]
     },
     "execution_count": 87,
     "metadata": {},
     "output_type": "execute_result"
    }
   ],
   "source": [
    "str1"
   ]
  },
  {
   "cell_type": "code",
   "execution_count": 91,
   "id": "9c4f8b07",
   "metadata": {},
   "outputs": [
    {
     "data": {
      "text/plain": [
       "'Mayurimhetrepython'"
      ]
     },
     "execution_count": 91,
     "metadata": {},
     "output_type": "execute_result"
    }
   ],
   "source": [
    "str1.replace('_',' ').capitalize().replace(' ','')"
   ]
  },
  {
   "cell_type": "code",
   "execution_count": 92,
   "id": "5750e7ae",
   "metadata": {},
   "outputs": [],
   "source": [
    "def pali(str):\n",
    "    if str  == ''.join(list(reversed(str))):\n",
    "        return \"It is a palindrom\"\n",
    "    else:\n",
    "        return \"NOOOOO\""
   ]
  },
  {
   "cell_type": "code",
   "execution_count": 93,
   "id": "00dc841a",
   "metadata": {},
   "outputs": [
    {
     "data": {
      "text/plain": [
       "'NOOOOO'"
      ]
     },
     "execution_count": 93,
     "metadata": {},
     "output_type": "execute_result"
    }
   ],
   "source": [
    "pali('mayuri')"
   ]
  },
  {
   "cell_type": "code",
   "execution_count": 94,
   "id": "21dbc35f",
   "metadata": {},
   "outputs": [
    {
     "data": {
      "text/plain": [
       "'It is a palindrom'"
      ]
     },
     "execution_count": 94,
     "metadata": {},
     "output_type": "execute_result"
    }
   ],
   "source": [
    "pali('nitin')"
   ]
  },
  {
   "cell_type": "code",
   "execution_count": 100,
   "id": "fc872a54",
   "metadata": {},
   "outputs": [],
   "source": [
    "list1 = [i for i in range(1,6)]"
   ]
  },
  {
   "cell_type": "code",
   "execution_count": 101,
   "id": "57c05802",
   "metadata": {},
   "outputs": [
    {
     "data": {
      "text/plain": [
       "15"
      ]
     },
     "execution_count": 101,
     "metadata": {},
     "output_type": "execute_result"
    }
   ],
   "source": [
    "sum(list1)"
   ]
  },
  {
   "cell_type": "code",
   "execution_count": 102,
   "id": "886a575c",
   "metadata": {},
   "outputs": [
    {
     "data": {
      "text/plain": [
       "[1, 2, 3, 4, 5]"
      ]
     },
     "execution_count": 102,
     "metadata": {},
     "output_type": "execute_result"
    }
   ],
   "source": [
    "list1"
   ]
  },
  {
   "cell_type": "code",
   "execution_count": 103,
   "id": "3c735045",
   "metadata": {},
   "outputs": [
    {
     "data": {
      "text/plain": [
       "20"
      ]
     },
     "execution_count": 103,
     "metadata": {},
     "output_type": "execute_result"
    }
   ],
   "source": [
    "5*4"
   ]
  },
  {
   "cell_type": "code",
   "execution_count": null,
   "id": "2489912b",
   "metadata": {},
   "outputs": [],
   "source": []
  }
 ],
 "metadata": {
  "kernelspec": {
   "display_name": "Python 3",
   "language": "python",
   "name": "python3"
  },
  "language_info": {
   "codemirror_mode": {
    "name": "ipython",
    "version": 3
   },
   "file_extension": ".py",
   "mimetype": "text/x-python",
   "name": "python",
   "nbconvert_exporter": "python",
   "pygments_lexer": "ipython3",
   "version": "3.9.5"
  }
 },
 "nbformat": 4,
 "nbformat_minor": 5
}

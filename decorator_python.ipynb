{
 "cells": [
  {
   "cell_type": "code",
   "execution_count": 23,
   "id": "5182e619",
   "metadata": {},
   "outputs": [],
   "source": [
    "############################ DEcorators ################################\n",
    "\n",
    "def fuction_name(name1,name2):\n",
    "    return \"the input name is lower {} and upper {}\".format(name1,name2)"
   ]
  },
  {
   "cell_type": "code",
   "execution_count": 19,
   "id": "0f02057f",
   "metadata": {},
   "outputs": [
    {
     "data": {
      "text/plain": [
       "'the input name is lower mayur mHETRE and upper mayu'"
      ]
     },
     "execution_count": 19,
     "metadata": {},
     "output_type": "execute_result"
    }
   ],
   "source": [
    "fuction_name('mayur mHETRE','mayu')"
   ]
  },
  {
   "cell_type": "code",
   "execution_count": 24,
   "id": "cea48ca5",
   "metadata": {},
   "outputs": [],
   "source": [
    "def smart_lower(func):\n",
    "    def inner(name1,name2):\n",
    "        name1 =  name1.lower()\n",
    "        name2 =  name2.upper()\n",
    "        return func(name1,name2)\n",
    "    return inner\n",
    "\n"
   ]
  },
  {
   "cell_type": "code",
   "execution_count": 25,
   "id": "6b609f6e",
   "metadata": {},
   "outputs": [
    {
     "name": "stdout",
     "output_type": "stream",
     "text": [
      "enter name1: fDDD\n",
      "enter name2: fdf\n"
     ]
    },
    {
     "data": {
      "text/plain": [
       "'the input name is lower fddd and upper FDF'"
      ]
     },
     "execution_count": 25,
     "metadata": {},
     "output_type": "execute_result"
    }
   ],
   "source": [
    "p = smart_lower(fuction_name)\n",
    "p(input('enter name1: '),input('enter name2: '))"
   ]
  },
  {
   "cell_type": "code",
   "execution_count": 26,
   "id": "d087dd82",
   "metadata": {},
   "outputs": [],
   "source": [
    "#################### Decorators using @ ###########################\n",
    "\n",
    "@smart_lower\n",
    "def mayuri_decoratpr(nam22,nam33):\n",
    "    return \"hello {} , {} to python OOOPS concept\".format(nam22,nam33)"
   ]
  },
  {
   "cell_type": "code",
   "execution_count": 27,
   "id": "4919b6c0",
   "metadata": {},
   "outputs": [
    {
     "data": {
      "text/plain": [
       "'hello nnn , KLLL to python OOOPS concept'"
      ]
     },
     "execution_count": 27,
     "metadata": {},
     "output_type": "execute_result"
    }
   ],
   "source": [
    "d = smart_lower(mayuri_decoratpr)\n",
    "d('nnn','Klll')"
   ]
  },
  {
   "cell_type": "code",
   "execution_count": 51,
   "id": "441d8c76",
   "metadata": {},
   "outputs": [
    {
     "data": {
      "text/plain": [
       "<function __main__.subclass.<locals>.inner()>"
      ]
     },
     "execution_count": 51,
     "metadata": {},
     "output_type": "execute_result"
    }
   ],
   "source": [
    "################### closures ###########################\n",
    "\n",
    "def subclass(func):\n",
    "    def inner():\n",
    "        print(\"you are inside inner class\")\n",
    "        func()\n",
    "    return inner\n",
    "\n",
    "subclass(print)"
   ]
  },
  {
   "cell_type": "code",
   "execution_count": 50,
   "id": "5ba647c2",
   "metadata": {},
   "outputs": [
    {
     "name": "stdout",
     "output_type": "stream",
     "text": [
      "you are inside inner class\n",
      "hello print\n"
     ]
    }
   ],
   "source": [
    "def subclass(func):\n",
    "    def inner():\n",
    "        print(\"you are inside inner class\")\n",
    "        func(\"hello print\")\n",
    "    return inner\n",
    "\n",
    "p = subclass(print)\n",
    "p()"
   ]
  },
  {
   "cell_type": "code",
   "execution_count": 52,
   "id": "7f4fa3e7",
   "metadata": {},
   "outputs": [
    {
     "name": "stdout",
     "output_type": "stream",
     "text": [
      "you are inside inner class\n"
     ]
    },
    {
     "data": {
      "text/plain": [
       "12"
      ]
     },
     "execution_count": 52,
     "metadata": {},
     "output_type": "execute_result"
    }
   ],
   "source": [
    "def subclass(func):\n",
    "    def inner():\n",
    "        print(\"you are inside inner class\")\n",
    "        return func(\"hello print\\n\") ############# calculating the length of hello print using len\n",
    "    return inner\n",
    "\n",
    "p = subclass(len)\n",
    "p()"
   ]
  },
  {
   "cell_type": "code",
   "execution_count": 54,
   "id": "d3ff22f8",
   "metadata": {},
   "outputs": [
    {
     "name": "stdout",
     "output_type": "stream",
     "text": [
      "__main__\n"
     ]
    }
   ],
   "source": [
    "print(__name__)"
   ]
  },
  {
   "cell_type": "code",
   "execution_count": 59,
   "id": "8e317639",
   "metadata": {},
   "outputs": [
    {
     "name": "stdout",
     "output_type": "stream",
     "text": [
      "hello __main__\n"
     ]
    }
   ],
   "source": [
    "print(\"hello\" , __name__)"
   ]
  },
  {
   "cell_type": "code",
   "execution_count": 60,
   "id": "a969888a",
   "metadata": {},
   "outputs": [],
   "source": [
    "##Technically speaking, a Python iterator object must implement two special methods,\n",
    "###__iter__() and __next__(), collectively called the iterator protocol.\n",
    "###The iter() function (which in turn calls the __iter__() method) returns an iterator from them.\n",
    "\n",
    "#### iterators are used for  list ,tuple and strings"
   ]
  },
  {
   "cell_type": "code",
   "execution_count": 76,
   "id": "b25b2519",
   "metadata": {},
   "outputs": [],
   "source": [
    "list1 = [i for i in range(10)]\n",
    "list2 = iter(list1)"
   ]
  },
  {
   "cell_type": "code",
   "execution_count": 71,
   "id": "e7823db7",
   "metadata": {},
   "outputs": [
    {
     "data": {
      "text/plain": [
       "<list_iterator at 0x1cdca282af0>"
      ]
     },
     "execution_count": 71,
     "metadata": {},
     "output_type": "execute_result"
    }
   ],
   "source": [
    "list2"
   ]
  },
  {
   "cell_type": "code",
   "execution_count": 63,
   "id": "07f78e97",
   "metadata": {},
   "outputs": [
    {
     "data": {
      "text/plain": [
       "0"
      ]
     },
     "execution_count": 63,
     "metadata": {},
     "output_type": "execute_result"
    }
   ],
   "source": [
    "next(list2) ### displays first element"
   ]
  },
  {
   "cell_type": "code",
   "execution_count": 65,
   "id": "653c8820",
   "metadata": {},
   "outputs": [
    {
     "data": {
      "text/plain": [
       "1"
      ]
     },
     "execution_count": 65,
     "metadata": {},
     "output_type": "execute_result"
    }
   ],
   "source": [
    "list2.__next__()"
   ]
  },
  {
   "cell_type": "code",
   "execution_count": 66,
   "id": "6d52b832",
   "metadata": {},
   "outputs": [
    {
     "data": {
      "text/plain": [
       "2"
      ]
     },
     "execution_count": 66,
     "metadata": {},
     "output_type": "execute_result"
    }
   ],
   "source": [
    "list2.__next__()"
   ]
  },
  {
   "cell_type": "code",
   "execution_count": 77,
   "id": "a04c07ac",
   "metadata": {},
   "outputs": [
    {
     "name": "stdout",
     "output_type": "stream",
     "text": [
      "element 1:0\n",
      "element 2:1\n",
      "element 3:2\n",
      "element 4:3\n",
      "element 5:4\n",
      "element 6:5\n",
      "element 7:6\n",
      "element 8:7\n",
      "element 9:8\n",
      "element 10:9\n"
     ]
    }
   ],
   "source": [
    "ff =1\n",
    "for i in list2:\n",
    "    print(\"element {}:{}\".format(ff,i))\n",
    "    ff +=1"
   ]
  },
  {
   "cell_type": "code",
   "execution_count": 78,
   "id": "27ddd7b8",
   "metadata": {},
   "outputs": [],
   "source": [
    "tuple1 = (i for i in range(5))"
   ]
  },
  {
   "cell_type": "code",
   "execution_count": 79,
   "id": "2f396681",
   "metadata": {},
   "outputs": [],
   "source": [
    "tuple2 = iter(tuple1)"
   ]
  },
  {
   "cell_type": "code",
   "execution_count": 80,
   "id": "499d4df6",
   "metadata": {},
   "outputs": [
    {
     "name": "stdout",
     "output_type": "stream",
     "text": [
      "element 1:0\n",
      "element 2:1\n",
      "element 3:2\n",
      "element 4:3\n",
      "element 5:4\n"
     ]
    }
   ],
   "source": [
    "ff =1\n",
    "for i in tuple2:\n",
    "    print(\"element {}:{}\".format(ff,i))\n",
    "    ff +=1"
   ]
  },
  {
   "cell_type": "code",
   "execution_count": 81,
   "id": "ac959ba4",
   "metadata": {},
   "outputs": [
    {
     "data": {
      "text/plain": [
       "[0, 1, 2, 3, 4, 5, 6, 7, 8, 9]"
      ]
     },
     "execution_count": 81,
     "metadata": {},
     "output_type": "execute_result"
    }
   ],
   "source": [
    "list1"
   ]
  },
  {
   "cell_type": "code",
   "execution_count": 86,
   "id": "72220dcc",
   "metadata": {},
   "outputs": [
    {
     "name": "stdout",
     "output_type": "stream",
     "text": [
      "0\n",
      "1\n",
      "2\n",
      "3\n",
      "4\n",
      "5\n",
      "6\n",
      "7\n",
      "8\n",
      "9\n"
     ]
    }
   ],
   "source": [
    "for i in iter(list1):\n",
    "    print(i)\n"
   ]
  },
  {
   "cell_type": "code",
   "execution_count": 87,
   "id": "6280c7e4",
   "metadata": {},
   "outputs": [
    {
     "name": "stdout",
     "output_type": "stream",
     "text": [
      "h\n",
      "e\n",
      "l\n",
      "l\n",
      "o\n"
     ]
    }
   ],
   "source": [
    "for i in iter('hello'):\n",
    "    print(i)"
   ]
  },
  {
   "cell_type": "code",
   "execution_count": 105,
   "id": "2892fed7",
   "metadata": {},
   "outputs": [],
   "source": [
    "############################ genrators #######################\n",
    "\n",
    "def function1():\n",
    "    n = 2\n",
    "    sq = n** 3\n",
    "    yield sq\n",
    "    yield (sq - 1)\n",
    "    yield (sq - 2)"
   ]
  },
  {
   "cell_type": "code",
   "execution_count": 109,
   "id": "c8bc732c",
   "metadata": {},
   "outputs": [],
   "source": [
    "v = function1()\n"
   ]
  },
  {
   "cell_type": "code",
   "execution_count": 103,
   "id": "6d77d724",
   "metadata": {},
   "outputs": [
    {
     "name": "stdout",
     "output_type": "stream",
     "text": [
      "7\n"
     ]
    }
   ],
   "source": [
    "print(v.__next__())"
   ]
  },
  {
   "cell_type": "code",
   "execution_count": 106,
   "id": "07d12411",
   "metadata": {},
   "outputs": [
    {
     "ename": "StopIteration",
     "evalue": "",
     "output_type": "error",
     "traceback": [
      "\u001b[1;31m---------------------------------------------------------------------------\u001b[0m",
      "\u001b[1;31mStopIteration\u001b[0m                             Traceback (most recent call last)",
      "\u001b[1;32m<ipython-input-106-efedc20545d0>\u001b[0m in \u001b[0;36m<module>\u001b[1;34m\u001b[0m\n\u001b[1;32m----> 1\u001b[1;33m \u001b[0mprint\u001b[0m\u001b[1;33m(\u001b[0m\u001b[0mv\u001b[0m\u001b[1;33m.\u001b[0m\u001b[0m__next__\u001b[0m\u001b[1;33m(\u001b[0m\u001b[1;33m)\u001b[0m\u001b[1;33m)\u001b[0m\u001b[1;33m\u001b[0m\u001b[1;33m\u001b[0m\u001b[0m\n\u001b[0m",
      "\u001b[1;31mStopIteration\u001b[0m: "
     ]
    }
   ],
   "source": [
    "print(v.__next__())"
   ]
  },
  {
   "cell_type": "code",
   "execution_count": 110,
   "id": "cbea87b1",
   "metadata": {},
   "outputs": [
    {
     "name": "stdout",
     "output_type": "stream",
     "text": [
      "8\n",
      "7\n",
      "6\n"
     ]
    }
   ],
   "source": [
    "for i in v:\n",
    "    print(i)"
   ]
  },
  {
   "cell_type": "code",
   "execution_count": 115,
   "id": "7a8ba3dc",
   "metadata": {},
   "outputs": [
    {
     "name": "stdout",
     "output_type": "stream",
     "text": [
      "[1, 9, 36, 100]\n",
      "<generator object <genexpr> at 0x000001CDECB2CF90>\n"
     ]
    }
   ],
   "source": [
    "# Initialize the list\n",
    "my_list = [1, 3, 6, 10]\n",
    "\n",
    "# square each term using list comprehension\n",
    "list_ = [x**2 for x in my_list]\n",
    "\n",
    "# same thing can be done using a generator expression\n",
    "# generator expressions are surrounded by parenthesis ()\n",
    "generator = (x**2 for x in my_list)\n",
    "\n",
    "print(list_)\n",
    "print(generator)"
   ]
  },
  {
   "cell_type": "code",
   "execution_count": 117,
   "id": "1e74ad4c",
   "metadata": {},
   "outputs": [
    {
     "name": "stdout",
     "output_type": "stream",
     "text": [
      "1\n",
      "9\n",
      "36\n",
      "100\n"
     ]
    }
   ],
   "source": [
    "for i in generator:\n",
    "    print(i)"
   ]
  },
  {
   "cell_type": "code",
   "execution_count": 118,
   "id": "56dc15b4",
   "metadata": {},
   "outputs": [],
   "source": [
    "list1 = [i for i in range(0,10,2)]"
   ]
  },
  {
   "cell_type": "code",
   "execution_count": 122,
   "id": "752fae63",
   "metadata": {},
   "outputs": [],
   "source": [
    "gen1 = (x**3 for x in list1)       #### generator is surrounded by parenthesis\n"
   ]
  },
  {
   "cell_type": "code",
   "execution_count": 123,
   "id": "a93f2901",
   "metadata": {},
   "outputs": [
    {
     "data": {
      "text/plain": [
       "generator"
      ]
     },
     "execution_count": 123,
     "metadata": {},
     "output_type": "execute_result"
    }
   ],
   "source": [
    "type(gen1)"
   ]
  },
  {
   "cell_type": "code",
   "execution_count": 124,
   "id": "954be4a5",
   "metadata": {},
   "outputs": [
    {
     "name": "stdout",
     "output_type": "stream",
     "text": [
      "0\n",
      "8\n",
      "64\n",
      "216\n",
      "512\n"
     ]
    }
   ],
   "source": [
    "for i in gen1:\n",
    "    print(i)"
   ]
  },
  {
   "cell_type": "code",
   "execution_count": 125,
   "id": "7bab1447",
   "metadata": {},
   "outputs": [],
   "source": [
    "tup1 = (1,2,3,4)"
   ]
  },
  {
   "cell_type": "code",
   "execution_count": 126,
   "id": "45c99efb",
   "metadata": {},
   "outputs": [
    {
     "data": {
      "text/plain": [
       "tuple"
      ]
     },
     "execution_count": 126,
     "metadata": {},
     "output_type": "execute_result"
    }
   ],
   "source": [
    "type(tup1)"
   ]
  },
  {
   "cell_type": "code",
   "execution_count": 127,
   "id": "692abb1f",
   "metadata": {},
   "outputs": [],
   "source": [
    "tup2 = (i for i  in range(5))"
   ]
  },
  {
   "cell_type": "code",
   "execution_count": 128,
   "id": "3be6338c",
   "metadata": {},
   "outputs": [
    {
     "data": {
      "text/plain": [
       "generator"
      ]
     },
     "execution_count": 128,
     "metadata": {},
     "output_type": "execute_result"
    }
   ],
   "source": [
    "type(tup2)"
   ]
  },
  {
   "cell_type": "code",
   "execution_count": 129,
   "id": "410997ae",
   "metadata": {},
   "outputs": [],
   "source": [
    "tup3 = ([i for i in range(5)])"
   ]
  },
  {
   "cell_type": "code",
   "execution_count": 130,
   "id": "17932436",
   "metadata": {},
   "outputs": [
    {
     "data": {
      "text/plain": [
       "list"
      ]
     },
     "execution_count": 130,
     "metadata": {},
     "output_type": "execute_result"
    }
   ],
   "source": [
    "type(tup3)"
   ]
  },
  {
   "cell_type": "code",
   "execution_count": 131,
   "id": "3ba2abe3",
   "metadata": {},
   "outputs": [
    {
     "data": {
      "text/plain": [
       "[0, 1, 2, 3, 4]"
      ]
     },
     "execution_count": 131,
     "metadata": {},
     "output_type": "execute_result"
    }
   ],
   "source": [
    "tup3"
   ]
  },
  {
   "cell_type": "code",
   "execution_count": 132,
   "id": "be13f936",
   "metadata": {},
   "outputs": [
    {
     "name": "stdout",
     "output_type": "stream",
     "text": [
      "0\n",
      "1\n",
      "2\n",
      "3\n",
      "4\n"
     ]
    }
   ],
   "source": [
    "for i in tup3:\n",
    "    print(i)"
   ]
  },
  {
   "cell_type": "code",
   "execution_count": null,
   "id": "d41256d8",
   "metadata": {},
   "outputs": [],
   "source": []
  }
 ],
 "metadata": {
  "kernelspec": {
   "display_name": "Python 3",
   "language": "python",
   "name": "python3"
  },
  "language_info": {
   "codemirror_mode": {
    "name": "ipython",
    "version": 3
   },
   "file_extension": ".py",
   "mimetype": "text/x-python",
   "name": "python",
   "nbconvert_exporter": "python",
   "pygments_lexer": "ipython3",
   "version": "3.9.5"
  }
 },
 "nbformat": 4,
 "nbformat_minor": 5
}

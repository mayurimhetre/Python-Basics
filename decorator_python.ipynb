{
 "cells": [
  {
   "cell_type": "code",
   "execution_count": 9,
   "id": "5182e619",
   "metadata": {},
   "outputs": [],
   "source": [
    "def fuction_name(name1,name2):\n",
    "    print(\" the input name is lower {} and upper {}\".format(name1,name2))"
   ]
  },
  {
   "cell_type": "code",
   "execution_count": 10,
   "id": "0f02057f",
   "metadata": {},
   "outputs": [
    {
     "name": "stdout",
     "output_type": "stream",
     "text": [
      " the input name is lower mayur mHETRE and upper mayu\n"
     ]
    }
   ],
   "source": [
    "fuction_name('mayur mHETRE','mayu')"
   ]
  },
  {
   "cell_type": "code",
   "execution_count": 17,
   "id": "cea48ca5",
   "metadata": {},
   "outputs": [
    {
     "name": "stdout",
     "output_type": "stream",
     "text": [
      "enter name1: mayuri mhetre\n",
      "enter name2: XYZ ABC ZZ\n"
     ]
    },
    {
     "data": {
      "text/plain": [
       "('mayuri mhetre', 'XYZ ABC ZZ')"
      ]
     },
     "execution_count": 17,
     "metadata": {},
     "output_type": "execute_result"
    }
   ],
   "source": [
    "def smart_lower(func):\n",
    "    def inner(name1,name2):\n",
    "        return name1.lower(), name2.upper()\n",
    "    return inner\n",
    "\n",
    "p = smart_lower(fuction_name)\n",
    "p(input('enter name1: '),input('enter name2: '))"
   ]
  },
  {
   "cell_type": "code",
   "execution_count": 11,
   "id": "b05e104a",
   "metadata": {},
   "outputs": [
    {
     "name": "stdout",
     "output_type": "stream",
     "text": [
      "enter strmayu\n"
     ]
    }
   ],
   "source": [
    "f = input('enter str')"
   ]
  },
  {
   "cell_type": "code",
   "execution_count": 12,
   "id": "6b609f6e",
   "metadata": {},
   "outputs": [
    {
     "data": {
      "text/plain": [
       "str"
      ]
     },
     "execution_count": 12,
     "metadata": {},
     "output_type": "execute_result"
    }
   ],
   "source": [
    "type(f)"
   ]
  },
  {
   "cell_type": "code",
   "execution_count": 14,
   "id": "b0dae43b",
   "metadata": {},
   "outputs": [
    {
     "data": {
      "text/plain": [
       "function"
      ]
     },
     "execution_count": 14,
     "metadata": {},
     "output_type": "execute_result"
    }
   ],
   "source": [
    "type(p)"
   ]
  },
  {
   "cell_type": "code",
   "execution_count": null,
   "id": "35a91c39",
   "metadata": {},
   "outputs": [],
   "source": []
  }
 ],
 "metadata": {
  "kernelspec": {
   "display_name": "Python 3",
   "language": "python",
   "name": "python3"
  },
  "language_info": {
   "codemirror_mode": {
    "name": "ipython",
    "version": 3
   },
   "file_extension": ".py",
   "mimetype": "text/x-python",
   "name": "python",
   "nbconvert_exporter": "python",
   "pygments_lexer": "ipython3",
   "version": "3.9.5"
  }
 },
 "nbformat": 4,
 "nbformat_minor": 5
}
